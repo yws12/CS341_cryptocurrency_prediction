{
 "cells": [
  {
   "cell_type": "code",
   "execution_count": 1,
   "metadata": {},
   "outputs": [],
   "source": [
    "# reference: https://github.com/GradientTrader\n",
    "from importlib import reload"
   ]
  },
  {
   "cell_type": "markdown",
   "metadata": {},
   "source": [
    "## Benchmarks (baselines)"
   ]
  },
  {
   "cell_type": "code",
   "execution_count": 2,
   "metadata": {},
   "outputs": [],
   "source": [
    "import simple_agents\n",
    "reload(simple_agents)\n",
    "from simple_agents import RandomAgent"
   ]
  },
  {
   "cell_type": "code",
   "execution_count": 18,
   "metadata": {},
   "outputs": [],
   "source": [
    "import utils\n",
    "reload(utils)\n",
    "from utils import *"
   ]
  },
  {
   "cell_type": "code",
   "execution_count": 4,
   "metadata": {},
   "outputs": [],
   "source": [
    "# num_coins_per_order = 100 #0 means buy/sell all per order\n",
    "# recent_k = 500\n",
    "# epsilon_min = 0.0"
   ]
  },
  {
   "cell_type": "code",
   "execution_count": 19,
   "metadata": {},
   "outputs": [],
   "source": [
    "env = Environment()"
   ]
  },
  {
   "cell_type": "code",
   "execution_count": 66,
   "metadata": {},
   "outputs": [
    {
     "data": {
      "text/plain": [
       "USDT_BTC_high             429.000000\n",
       "USDT_BTC_low              429.000000\n",
       "USDT_BTC_close            429.000000\n",
       "USDT_BTC_open             429.000000\n",
       "USDT_BTC_volume             0.000000\n",
       "USDT_BTC_quoteVolume        0.000000\n",
       "USDT_BTC_weighted_mean    427.357638\n",
       "USDT_BTC_volatility         0.000000\n",
       "USDT_BTC_pctChange         -0.001191\n",
       "Name: 2016-01-03 10:00:00, dtype: float64"
      ]
     },
     "execution_count": 66,
     "metadata": {},
     "output_type": "execute_result"
    }
   ],
   "source": [
    "# env.step()\n",
    "# env.getState()"
   ]
  },
  {
   "cell_type": "code",
   "execution_count": 23,
   "metadata": {},
   "outputs": [],
   "source": [
    "def run_random_agent(coin_name=\"BTC\", num_coins_per_order=100, recent_k=0):\n",
    "    ra = RandomAgent(Action)\n",
    "#     env = Environment(coin_name=coin_name, recent_k=recent_k)\n",
    "    portfolio = Portfolio(cash_supply=1000)\n",
    "\n",
    "    is_done = False # is this the end of the window\n",
    "    state = env.getState() # state includes BTC price\n",
    "\n",
    "    while not is_done:\n",
    "        action = ra.get_action()\n",
    "        if (env.current_index - env.start_index) / env.time_delta % 2400 == 0:\n",
    "            verbose = True\n",
    "            print('Current time:', env.current_index, env.start_index)\n",
    "        else:\n",
    "            verbose = False\n",
    "        portfolio.apply_action(env.getCurrentPrice(), action, verbose=verbose)\n",
    "        is_done, state = env.step()\n",
    "\n",
    "    print(\"Final holdings:\", portfolio.getCurrentHoldings(env.getCurrentPrice()))\n",
    "    return portfolio.getReturnsPercent(env.getCurrentPrice())"
   ]
  },
  {
   "cell_type": "code",
   "execution_count": 24,
   "metadata": {},
   "outputs": [
    {
     "name": "stdout",
     "output_type": "stream",
     "text": [
      "Current time: 2016-01-02 13:00:00 2016-01-02 13:00:00\n",
      "Action start Action.SELL Total value before action 1000.0\n",
      "Before selling: coin:0.000, cash:1000.000, sell price:432.500\n",
      "After selling: coin sold:0.000, coin now:0.000, cash now:1000.000\n",
      "Action end: Action.HOLD , Total value now: 1000.000.  Return since entry: 0.000 %\n",
      "\n",
      "Current time: 2016-04-11 13:00:00 2016-01-02 13:00:00\n",
      "Action start Action.BUY Total value before action 992.4941527400013\n",
      "Before buying: coin:2.000, cash:148.571, buy price:421.962\n",
      "After buying: coin bought:0.000, coin now:2.000, cash now:148.571\n",
      "Action end: Action.HOLD , Total value now: 992.494.  Return since entry: -0.751 %\n",
      "\n",
      "Current time: 2016-07-20 13:00:00 2016-01-02 13:00:00\n",
      "Action start Action.SELL Total value before action 1569.1064328700006\n",
      "Before selling: coin:0.000, cash:1569.106, sell price:673.532\n",
      "After selling: coin sold:0.000, coin now:0.000, cash now:1569.106\n",
      "Action end: Action.HOLD , Total value now: 1569.106.  Return since entry: 56.911 %\n",
      "\n",
      "Current time: 2016-10-28 13:00:00 2016-01-02 13:00:00\n",
      "Action start Action.SELL Total value before action 1657.5100292900029\n",
      "Before selling: coin:0.000, cash:1657.510, sell price:688.138\n",
      "After selling: coin sold:0.000, coin now:0.000, cash now:1657.510\n",
      "Action end: Action.HOLD , Total value now: 1657.510.  Return since entry: 65.751 %\n",
      "\n",
      "Current time: 2017-02-05 13:00:00 2016-01-02 13:00:00\n",
      "Action start Action.SELL Total value before action 1689.1018308400016\n",
      "Before selling: coin:1.000, cash:668.263, sell price:1020.839\n",
      "After selling: coin sold:1.000, coin now:0.000, cash now:1689.102\n",
      "Action end: Action.SELL , Total value now: 1689.102.  Return since entry: 68.910 %\n",
      "\n",
      "Current time: 2017-05-16 13:00:00 2016-01-02 13:00:00\n",
      "Action start Action.BUY Total value before action 2157.537261989999\n",
      "Before buying: coin:0.000, cash:2157.537, buy price:1775.691\n",
      "After buying: coin bought:1.000, coin now:1.000, cash now:381.846\n",
      "Action end: Action.BUY , Total value now: 2157.537.  Return since entry: 115.754 %\n",
      "\n",
      "Current time: 2017-08-24 13:00:00 2016-01-02 13:00:00\n",
      "Action start Action.SELL Total value before action 3580.471969309996\n",
      "Before selling: coin:0.000, cash:3580.472, sell price:4175.000\n",
      "After selling: coin sold:0.000, coin now:0.000, cash now:3580.472\n",
      "Action end: Action.HOLD , Total value now: 3580.472.  Return since entry: 258.047 %\n",
      "\n",
      "Current time: 2017-12-02 13:00:00 2016-01-02 13:00:00\n",
      "Action start Action.SELL Total value before action 3518.878369859996\n",
      "Before selling: coin:0.000, cash:3518.878, sell price:11079.989\n",
      "After selling: coin sold:0.000, coin now:0.000, cash now:3518.878\n",
      "Action end: Action.HOLD , Total value now: 3518.878.  Return since entry: 251.888 %\n",
      "\n",
      "Current time: 2018-03-12 13:00:00 2016-01-02 13:00:00\n",
      "Action start Action.SELL Total value before action 3518.878369859996\n",
      "Before selling: coin:0.000, cash:3518.878, sell price:9781.219\n",
      "After selling: coin sold:0.000, coin now:0.000, cash now:3518.878\n",
      "Action end: Action.HOLD , Total value now: 3518.878.  Return since entry: 251.888 %\n",
      "\n",
      "Final holdings: 0.00 coins, 3518.88 cash, 3518.88 current value, 251.89 percent returns\n"
     ]
    },
    {
     "data": {
      "text/plain": [
       "251.8878369859996"
      ]
     },
     "execution_count": 24,
     "metadata": {},
     "output_type": "execute_result"
    }
   ],
   "source": [
    "env.reset()\n",
    "run_random_agent(coin_name=\"BTC\", num_coins_per_order=100, recent_k=0)"
   ]
  },
  {
   "cell_type": "markdown",
   "metadata": {},
   "source": [
    "## Reinforcement Learning Agent"
   ]
  },
  {
   "cell_type": "markdown",
   "metadata": {},
   "source": [
    "### To be implemented"
   ]
  }
 ],
 "metadata": {
  "kernelspec": {
   "display_name": "Python 3",
   "language": "python",
   "name": "python3"
  },
  "language_info": {
   "codemirror_mode": {
    "name": "ipython",
    "version": 3
   },
   "file_extension": ".py",
   "mimetype": "text/x-python",
   "name": "python",
   "nbconvert_exporter": "python",
   "pygments_lexer": "ipython3",
   "version": "3.5.2"
  }
 },
 "nbformat": 4,
 "nbformat_minor": 2
}
