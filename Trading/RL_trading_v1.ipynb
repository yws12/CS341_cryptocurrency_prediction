{
 "cells": [
  {
   "cell_type": "code",
   "execution_count": 15,
   "metadata": {},
   "outputs": [],
   "source": [
    "# reference: https://github.com/GradientTrader\n",
    "from importlib import reload"
   ]
  },
  {
   "cell_type": "markdown",
   "metadata": {},
   "source": [
    "## Benchmarks (baselines)"
   ]
  },
  {
   "cell_type": "code",
   "execution_count": 28,
   "metadata": {},
   "outputs": [],
   "source": [
    "import simple_agents\n",
    "reload(simple_agents)\n",
    "from simple_agents import RandomAgent\n",
    "from simple_agents import DumbAgent"
   ]
  },
  {
   "cell_type": "code",
   "execution_count": 29,
   "metadata": {},
   "outputs": [],
   "source": [
    "import utils\n",
    "reload(utils)\n",
    "from utils import *"
   ]
  },
  {
   "cell_type": "code",
   "execution_count": 4,
   "metadata": {},
   "outputs": [],
   "source": [
    "import datetime"
   ]
  },
  {
   "cell_type": "code",
   "execution_count": 30,
   "metadata": {},
   "outputs": [],
   "source": [
    "penv = PredictEnvironment()"
   ]
  },
  {
   "cell_type": "code",
   "execution_count": 32,
   "metadata": {},
   "outputs": [
    {
     "data": {
      "text/plain": [
       "(False, USDT_BTC_high             1.253348e+04\n",
       " USDT_BTC_low              1.227772e+04\n",
       " USDT_BTC_close            1.248700e+04\n",
       " USDT_BTC_open             1.231600e+04\n",
       " USDT_BTC_volume           1.733963e+06\n",
       " USDT_BTC_quoteVolume      1.394302e+02\n",
       " USDT_BTC_weighted_mean    1.243627e+04\n",
       " USDT_BTC_volatility       3.790796e-03\n",
       " USDT_BTC_pctChange       -2.763275e-03\n",
       " Name: 2018-01-21 01:00:00, dtype: float64, open_pctChange_predict     6.0\n",
       " close_pctChange_predict    0.0\n",
       " high_pctChange_predict     6.0\n",
       " low_pctChange_predict      6.0\n",
       " mean_pctChange_predict     6.0\n",
       " volatility_predict         5.0\n",
       " Name: 2018-01-21 02:00:00, dtype: float64)"
      ]
     },
     "execution_count": 32,
     "metadata": {},
     "output_type": "execute_result"
    }
   ],
   "source": [
    "penv.reset()\n",
    "now = datetime.datetime(2018,1,21,0)\n",
    "penv.set_current_time(now)\n",
    "penv.step()"
   ]
  },
  {
   "cell_type": "code",
   "execution_count": 11,
   "metadata": {},
   "outputs": [
    {
     "data": {
      "text/plain": [
       "DatetimeIndex(['2018-01-21 00:00:00', '2018-01-21 01:00:00',\n",
       "               '2018-01-21 02:00:00', '2018-01-21 03:00:00',\n",
       "               '2018-01-21 04:00:00', '2018-01-21 05:00:00',\n",
       "               '2018-01-21 06:00:00', '2018-01-21 07:00:00',\n",
       "               '2018-01-21 08:00:00', '2018-01-21 09:00:00',\n",
       "               ...\n",
       "               '2018-04-13 18:00:00', '2018-04-13 19:00:00',\n",
       "               '2018-04-13 20:00:00', '2018-04-13 21:00:00',\n",
       "               '2018-04-13 22:00:00', '2018-04-13 23:00:00',\n",
       "               '2018-04-14 00:00:00', '2018-04-14 01:00:00',\n",
       "               '2018-04-14 02:00:00', '2018-04-14 03:00:00'],\n",
       "              dtype='datetime64[ns]', name='time', length=1996, freq='H')"
      ]
     },
     "execution_count": 11,
     "metadata": {},
     "output_type": "execute_result"
    }
   ],
   "source": [
    "penv.predict_df.index"
   ]
  },
  {
   "cell_type": "code",
   "execution_count": 12,
   "metadata": {},
   "outputs": [
    {
     "data": {
      "text/plain": [
       "open_pctChange_predict     0.0\n",
       "close_pctChange_predict    6.0\n",
       "high_pctChange_predict     0.0\n",
       "low_pctChange_predict      0.0\n",
       "mean_pctChange_predict     0.0\n",
       "volatility_predict         5.0\n",
       "Name: 2018-01-21 01:00:00, dtype: float64"
      ]
     },
     "execution_count": 12,
     "metadata": {},
     "output_type": "execute_result"
    }
   ],
   "source": [
    "now = datetime.datetime(2018,1,21,0)\n",
    "penv.set_current_time(now)\n",
    "penv.getPredict()"
   ]
  },
  {
   "cell_type": "code",
   "execution_count": 4,
   "metadata": {},
   "outputs": [],
   "source": [
    "# num_coins_per_order = 100 #0 means buy/sell all per order\n",
    "# recent_k = 500\n",
    "# epsilon_min = 0.0"
   ]
  },
  {
   "cell_type": "code",
   "execution_count": 44,
   "metadata": {},
   "outputs": [],
   "source": [
    "env = Environment()"
   ]
  },
  {
   "cell_type": "code",
   "execution_count": 29,
   "metadata": {},
   "outputs": [
    {
     "data": {
      "text/plain": [
       "DatetimeIndex(['2016-01-02 13:00:00', '2016-01-02 14:00:00',\n",
       "               '2016-01-02 15:00:00', '2016-01-02 16:00:00',\n",
       "               '2016-01-02 17:00:00', '2016-01-02 18:00:00',\n",
       "               '2016-01-02 19:00:00', '2016-01-02 20:00:00',\n",
       "               '2016-01-02 21:00:00', '2016-01-02 22:00:00',\n",
       "               ...\n",
       "               '2018-04-13 18:00:00', '2018-04-13 19:00:00',\n",
       "               '2018-04-13 20:00:00', '2018-04-13 21:00:00',\n",
       "               '2018-04-13 22:00:00', '2018-04-13 23:00:00',\n",
       "               '2018-04-14 00:00:00', '2018-04-14 01:00:00',\n",
       "               '2018-04-14 02:00:00', '2018-04-14 03:00:00'],\n",
       "              dtype='datetime64[ns]', name='time', length=19983, freq='H')"
      ]
     },
     "execution_count": 29,
     "metadata": {},
     "output_type": "execute_result"
    }
   ],
   "source": [
    "env.df.index"
   ]
  },
  {
   "cell_type": "code",
   "execution_count": 42,
   "metadata": {},
   "outputs": [
    {
     "data": {
      "text/plain": [
       "USDT_BTC_high                  8069.766249\n",
       "USDT_BTC_low                   7904.703622\n",
       "USDT_BTC_close                 8060.172879\n",
       "USDT_BTC_open                  7909.344340\n",
       "USDT_BTC_volume              730499.316901\n",
       "USDT_BTC_quoteVolume             91.193991\n",
       "USDT_BTC_weighted_mean         8010.646615\n",
       "USDT_BTC_volatility               0.003403\n",
       "USDT_BTC_pctChange                0.018437\n",
       "USDT_ETH_high                   509.586318\n",
       "USDT_ETH_low                    490.474503\n",
       "USDT_ETH_close                  506.293376\n",
       "USDT_ETH_open                   493.900000\n",
       "USDT_ETH_volume              261919.311051\n",
       "USDT_ETH_quoteVolume            521.568214\n",
       "USDT_ETH_weighted_mean          502.198138\n",
       "USDT_ETH_volatility               0.006339\n",
       "USDT_ETH_pctChange                0.022998\n",
       "USDT_LTC_high                   128.852686\n",
       "USDT_LTC_low                    125.520213\n",
       "USDT_LTC_close                  128.027482\n",
       "USDT_LTC_open                   125.520213\n",
       "USDT_LTC_volume              112478.030353\n",
       "USDT_LTC_quoteVolume            880.105144\n",
       "USDT_LTC_weighted_mean          127.802973\n",
       "USDT_LTC_volatility               0.003034\n",
       "USDT_LTC_pctChange                0.020948\n",
       "USDT_XRP_high                     0.663312\n",
       "USDT_XRP_low                      0.640413\n",
       "USDT_XRP_close                    0.658000\n",
       "                                 ...      \n",
       "BTC_ETH_volatility                0.002041\n",
       "BTC_ETH_pctChange                 0.002712\n",
       "BTC_LTC_high                      0.015944\n",
       "BTC_LTC_low                       0.015850\n",
       "BTC_LTC_close                     0.015850\n",
       "BTC_LTC_open                      0.015932\n",
       "BTC_LTC_volume                    7.702184\n",
       "BTC_LTC_quoteVolume             484.564421\n",
       "BTC_LTC_weighted_mean             0.015895\n",
       "BTC_LTC_volatility                0.001582\n",
       "BTC_LTC_pctChange                -0.002043\n",
       "BTC_XRP_high                      0.000082\n",
       "BTC_XRP_low                       0.000081\n",
       "BTC_XRP_close                     0.000082\n",
       "BTC_XRP_open                      0.000081\n",
       "BTC_XRP_volume                   17.433719\n",
       "BTC_XRP_quoteVolume          213512.683221\n",
       "BTC_XRP_weighted_mean             0.000082\n",
       "BTC_XRP_volatility                0.002734\n",
       "BTC_XRP_pctChange                 0.006028\n",
       "USDT_BTC_pctChange_label          2.000000\n",
       "USDT_BTC_high_pctChange           0.018885\n",
       "USDT_BTC_high_label               2.000000\n",
       "USDT_BTC_low_pctChange            0.010534\n",
       "USDT_BTC_low_label                2.000000\n",
       "USDT_BTC_close_pctChange          0.017987\n",
       "USDT_BTC_close_label              2.000000\n",
       "USDT_BTC_open_pctChange           0.004372\n",
       "USDT_BTC_open_label               2.000000\n",
       "USDT_BTC_volatility_label         2.000000\n",
       "Name: 2018-04-14 01:00:00, Length: 73, dtype: float64"
      ]
     },
     "execution_count": 42,
     "metadata": {},
     "output_type": "execute_result"
    }
   ],
   "source": [
    "env.df.loc[datetime.datetime(2018,4,14,1)]"
   ]
  },
  {
   "cell_type": "code",
   "execution_count": 66,
   "metadata": {},
   "outputs": [
    {
     "data": {
      "text/plain": [
       "USDT_BTC_high             429.000000\n",
       "USDT_BTC_low              429.000000\n",
       "USDT_BTC_close            429.000000\n",
       "USDT_BTC_open             429.000000\n",
       "USDT_BTC_volume             0.000000\n",
       "USDT_BTC_quoteVolume        0.000000\n",
       "USDT_BTC_weighted_mean    427.357638\n",
       "USDT_BTC_volatility         0.000000\n",
       "USDT_BTC_pctChange         -0.001191\n",
       "Name: 2016-01-03 10:00:00, dtype: float64"
      ]
     },
     "execution_count": 66,
     "metadata": {},
     "output_type": "execute_result"
    }
   ],
   "source": [
    "# env.step()\n",
    "# env.getState()"
   ]
  },
  {
   "cell_type": "code",
   "execution_count": 52,
   "metadata": {},
   "outputs": [],
   "source": [
    "def run_random_agent(coin_name=\"BTC\", num_coins_per_order=100, recent_k=0):\n",
    "    ra = RandomAgent(Action)\n",
    "#     env = Environment(coin_name=coin_name, recent_k=recent_k)\n",
    "    portfolio = Portfolio(cash_supply=1e3)\n",
    "\n",
    "    is_done = False # is this the end of the window\n",
    "    state = env.getState() # state includes BTC price\n",
    "\n",
    "    while not is_done:\n",
    "        action = ra.get_action()\n",
    "        if (env.current_index - env.start_index) / env.time_delta % 24 == 0:\n",
    "            verbose = True\n",
    "            print('Current time:', env.current_index)\n",
    "        else:\n",
    "            verbose = False\n",
    "        portfolio.apply_action(env.getCurrentPrice(), action, verbose=verbose)\n",
    "        is_done, state = env.step()\n",
    "\n",
    "    print(\"Initial cash supply:\", portfolio.starting_cash)\n",
    "    print(\"Final holdings:\", portfolio.getCurrentHoldings(env.getCurrentPrice()))\n",
    "    return portfolio.getReturnsPercent(env.getCurrentPrice())"
   ]
  },
  {
   "cell_type": "code",
   "execution_count": 24,
   "metadata": {},
   "outputs": [],
   "source": [
    "def run_dumb_agent(coin_name=\"BTC\", num_coins_per_order=100, recent_k=0):\n",
    "    da = DumbAgent(Action)\n",
    "#     env = Environment(coin_name=coin_name, recent_k=recent_k)\n",
    "    portfolio = Portfolio(cash_supply=1e3)\n",
    "\n",
    "    is_done = False # is this the end of the window\n",
    "    state = penv.getState() # state includes BTC price\n",
    "    next_state = penv.getPredict()\n",
    "    while not is_done:\n",
    "        action = da.get_action_by_predict(state,next_state)\n",
    "        if (penv.current_index - penv.start_index) / penv.time_delta % 24 == 0:\n",
    "            verbose = True\n",
    "            print('Current time:', env.current_index)\n",
    "        else:\n",
    "            verbose = False\n",
    "        portfolio.apply_action(penv.getCurrentPrice(), action, verbose=verbose)\n",
    "        is_done, state, next_state = penv.step()\n",
    "\n",
    "    print(\"Initial cash supply:\", portfolio.starting_cash)\n",
    "    print(\"Final holdings:\", portfolio.getCurrentHoldings(penv.getCurrentPrice()))\n",
    "    return portfolio.getReturnsPercent(penv.getCurrentPrice())"
   ]
  },
  {
   "cell_type": "code",
   "execution_count": 22,
   "metadata": {},
   "outputs": [
    {
     "ename": "NameError",
     "evalue": "name 'env' is not defined",
     "output_type": "error",
     "traceback": [
      "\u001b[0;31m---------------------------------------------------------------------------\u001b[0m",
      "\u001b[0;31mNameError\u001b[0m                                 Traceback (most recent call last)",
      "\u001b[0;32m<ipython-input-22-428337389e28>\u001b[0m in \u001b[0;36m<module>\u001b[0;34m()\u001b[0m\n\u001b[0;32m----> 1\u001b[0;31m \u001b[0menv\u001b[0m\u001b[0;34m.\u001b[0m\u001b[0mreset\u001b[0m\u001b[0;34m(\u001b[0m\u001b[0;34m)\u001b[0m\u001b[0;34m\u001b[0m\u001b[0m\n\u001b[0m\u001b[1;32m      2\u001b[0m \u001b[0mnow\u001b[0m \u001b[0;34m=\u001b[0m \u001b[0mdatetime\u001b[0m\u001b[0;34m.\u001b[0m\u001b[0mdatetime\u001b[0m\u001b[0;34m(\u001b[0m\u001b[0;36m2018\u001b[0m\u001b[0;34m,\u001b[0m\u001b[0;36m1\u001b[0m\u001b[0;34m,\u001b[0m\u001b[0;36m14\u001b[0m\u001b[0;34m,\u001b[0m\u001b[0;36m1\u001b[0m\u001b[0;34m)\u001b[0m\u001b[0;34m\u001b[0m\u001b[0m\n\u001b[1;32m      3\u001b[0m \u001b[0menv\u001b[0m\u001b[0;34m.\u001b[0m\u001b[0mset_current_time\u001b[0m\u001b[0;34m(\u001b[0m\u001b[0mnow\u001b[0m\u001b[0;34m)\u001b[0m\u001b[0;34m\u001b[0m\u001b[0m\n\u001b[1;32m      4\u001b[0m \u001b[0mrun_random_agent\u001b[0m\u001b[0;34m(\u001b[0m\u001b[0mcoin_name\u001b[0m\u001b[0;34m=\u001b[0m\u001b[0;34m\"BTC\"\u001b[0m\u001b[0;34m,\u001b[0m \u001b[0mnum_coins_per_order\u001b[0m\u001b[0;34m=\u001b[0m\u001b[0;36m100\u001b[0m\u001b[0;34m,\u001b[0m \u001b[0mrecent_k\u001b[0m\u001b[0;34m=\u001b[0m\u001b[0;36m0\u001b[0m\u001b[0;34m)\u001b[0m\u001b[0;34m\u001b[0m\u001b[0m\n\u001b[1;32m      5\u001b[0m \u001b[0mprint\u001b[0m\u001b[0;34m(\u001b[0m\u001b[0;34m\"Started trading at\"\u001b[0m\u001b[0;34m,\u001b[0m \u001b[0mnow\u001b[0m\u001b[0;34m)\u001b[0m\u001b[0;34m\u001b[0m\u001b[0m\n",
      "\u001b[0;31mNameError\u001b[0m: name 'env' is not defined"
     ]
    }
   ],
   "source": [
    "env.reset()\n",
    "now = datetime.datetime(2018,1,14,1)\n",
    "env.set_current_time(now)\n",
    "run_random_agent(coin_name=\"BTC\", num_coins_per_order=100, recent_k=0)\n",
    "print(\"Started trading at\", now)"
   ]
  },
  {
   "cell_type": "code",
   "execution_count": 33,
   "metadata": {},
   "outputs": [
    {
     "ename": "NameError",
     "evalue": "name 'env' is not defined",
     "output_type": "error",
     "traceback": [
      "\u001b[0;31m---------------------------------------------------------------------------\u001b[0m",
      "\u001b[0;31mNameError\u001b[0m                                 Traceback (most recent call last)",
      "\u001b[0;32m<ipython-input-33-54b857eb9b4c>\u001b[0m in \u001b[0;36m<module>\u001b[0;34m()\u001b[0m\n\u001b[1;32m      2\u001b[0m \u001b[0mnow\u001b[0m \u001b[0;34m=\u001b[0m \u001b[0mdatetime\u001b[0m\u001b[0;34m.\u001b[0m\u001b[0mdatetime\u001b[0m\u001b[0;34m(\u001b[0m\u001b[0;36m2018\u001b[0m\u001b[0;34m,\u001b[0m\u001b[0;36m1\u001b[0m\u001b[0;34m,\u001b[0m\u001b[0;36m21\u001b[0m\u001b[0;34m,\u001b[0m\u001b[0;36m0\u001b[0m\u001b[0;34m)\u001b[0m\u001b[0;34m\u001b[0m\u001b[0m\n\u001b[1;32m      3\u001b[0m \u001b[0mpenv\u001b[0m\u001b[0;34m.\u001b[0m\u001b[0mset_current_time\u001b[0m\u001b[0;34m(\u001b[0m\u001b[0mnow\u001b[0m\u001b[0;34m)\u001b[0m\u001b[0;34m\u001b[0m\u001b[0m\n\u001b[0;32m----> 4\u001b[0;31m \u001b[0mrun_dumb_agent\u001b[0m\u001b[0;34m(\u001b[0m\u001b[0mcoin_name\u001b[0m\u001b[0;34m=\u001b[0m\u001b[0;34m\"BTC\"\u001b[0m\u001b[0;34m,\u001b[0m \u001b[0mnum_coins_per_order\u001b[0m\u001b[0;34m=\u001b[0m\u001b[0;36m100\u001b[0m\u001b[0;34m,\u001b[0m \u001b[0mrecent_k\u001b[0m\u001b[0;34m=\u001b[0m\u001b[0;36m0\u001b[0m\u001b[0;34m)\u001b[0m\u001b[0;34m\u001b[0m\u001b[0m\n\u001b[0m\u001b[1;32m      5\u001b[0m \u001b[0mprint\u001b[0m\u001b[0;34m(\u001b[0m\u001b[0;34m\"Started trading at\"\u001b[0m\u001b[0;34m,\u001b[0m \u001b[0mnow\u001b[0m\u001b[0;34m)\u001b[0m\u001b[0;34m\u001b[0m\u001b[0m\n",
      "\u001b[0;32m<ipython-input-24-dcf56b813f2f>\u001b[0m in \u001b[0;36mrun_dumb_agent\u001b[0;34m(coin_name, num_coins_per_order, recent_k)\u001b[0m\n\u001b[1;32m     11\u001b[0m         \u001b[0;32mif\u001b[0m \u001b[0;34m(\u001b[0m\u001b[0mpenv\u001b[0m\u001b[0;34m.\u001b[0m\u001b[0mcurrent_index\u001b[0m \u001b[0;34m-\u001b[0m \u001b[0mpenv\u001b[0m\u001b[0;34m.\u001b[0m\u001b[0mstart_index\u001b[0m\u001b[0;34m)\u001b[0m \u001b[0;34m/\u001b[0m \u001b[0mpenv\u001b[0m\u001b[0;34m.\u001b[0m\u001b[0mtime_delta\u001b[0m \u001b[0;34m%\u001b[0m \u001b[0;36m24\u001b[0m \u001b[0;34m==\u001b[0m \u001b[0;36m0\u001b[0m\u001b[0;34m:\u001b[0m\u001b[0;34m\u001b[0m\u001b[0m\n\u001b[1;32m     12\u001b[0m             \u001b[0mverbose\u001b[0m \u001b[0;34m=\u001b[0m \u001b[0;32mTrue\u001b[0m\u001b[0;34m\u001b[0m\u001b[0m\n\u001b[0;32m---> 13\u001b[0;31m             \u001b[0mprint\u001b[0m\u001b[0;34m(\u001b[0m\u001b[0;34m'Current time:'\u001b[0m\u001b[0;34m,\u001b[0m \u001b[0menv\u001b[0m\u001b[0;34m.\u001b[0m\u001b[0mcurrent_index\u001b[0m\u001b[0;34m)\u001b[0m\u001b[0;34m\u001b[0m\u001b[0m\n\u001b[0m\u001b[1;32m     14\u001b[0m         \u001b[0;32melse\u001b[0m\u001b[0;34m:\u001b[0m\u001b[0;34m\u001b[0m\u001b[0m\n\u001b[1;32m     15\u001b[0m             \u001b[0mverbose\u001b[0m \u001b[0;34m=\u001b[0m \u001b[0;32mFalse\u001b[0m\u001b[0;34m\u001b[0m\u001b[0m\n",
      "\u001b[0;31mNameError\u001b[0m: name 'env' is not defined"
     ]
    }
   ],
   "source": [
    "penv.reset()\n",
    "now = datetime.datetime(2018,1,21,0)\n",
    "penv.set_current_time(now)\n",
    "run_dumb_agent(coin_name=\"BTC\", num_coins_per_order=100, recent_k=0)\n",
    "print(\"Started trading at\", now)"
   ]
  },
  {
   "cell_type": "markdown",
   "metadata": {},
   "source": [
    "## Reinforcement Learning Agent"
   ]
  },
  {
   "cell_type": "markdown",
   "metadata": {},
   "source": [
    "### To be implemented"
   ]
  }
 ],
 "metadata": {
  "kernelspec": {
   "display_name": "Python 3",
   "language": "python",
   "name": "python3"
  },
  "language_info": {
   "codemirror_mode": {
    "name": "ipython",
    "version": 3
   },
   "file_extension": ".py",
   "mimetype": "text/x-python",
   "name": "python",
   "nbconvert_exporter": "python",
   "pygments_lexer": "ipython3",
   "version": "3.6.4"
  }
 },
 "nbformat": 4,
 "nbformat_minor": 2
}
