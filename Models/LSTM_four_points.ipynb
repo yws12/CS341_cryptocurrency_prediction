{
 "cells": [
  {
   "cell_type": "code",
   "execution_count": 1,
   "metadata": {},
   "outputs": [
    {
     "name": "stdout",
     "output_type": "stream",
     "text": [
      "824\n"
     ]
    }
   ],
   "source": [
    "import pandas as pd\n",
    "df_BTC = pd.read_pickle('BTC-USD-60.pkl')\n",
    "\n",
    "import datetime\n",
    "from datetime import date\n",
    "df_BTC['date'] = pd.to_datetime(df_BTC['time'],unit='s').dt.date\n",
    "df_BTC['hour'] = pd.to_datetime(df_BTC['time'],unit='s').dt.hour\n",
    "\n",
    "train_start_date = date(2016,1,1)\n",
    "test_end_date = date(2018,4,3)\n",
    "total_days = (test_end_date - train_start_date).days + 1\n",
    "print(total_days)\n",
    "\n",
    "df_BTC = df_BTC[df_BTC['date'] >= datetime.date(2016,1,1)]\n",
    "\n",
    "group_BTC = df_BTC.groupby('date')"
   ]
  },
  {
   "cell_type": "code",
   "execution_count": 2,
   "metadata": {},
   "outputs": [
    {
     "data": {
      "text/plain": [
       "array([[ 436.12,  433.56,  432.2 ,  433.18],\n",
       "       [ 437.03,  436.19,  433.92,  435.84],\n",
       "       [ 433.52,  433.52,  427.55,  427.49],\n",
       "       ...,\n",
       "       [6991.89, 6718.  , 6513.  , 6827.99],\n",
       "       [6939.  , 6978.  , 7013.  , 6922.99],\n",
       "       [7206.56, 7355.63, 7374.99, 7321.  ]])"
      ]
     },
     "execution_count": 2,
     "metadata": {},
     "output_type": "execute_result"
    }
   ],
   "source": [
    "import numpy as np\n",
    "\n",
    "# Extract 4 prices per day \n",
    "four_prices = group_BTC.apply(lambda x: x.iloc[::int(np.around(x.time.count()/4))].iloc[:4]).sort_values(by=['time'])\n",
    "\n",
    "four_prices_mat = four_prices['close'].as_matrix().reshape((total_days, 4))\n",
    "four_prices_mat"
   ]
  },
  {
   "cell_type": "code",
   "execution_count": 3,
   "metadata": {},
   "outputs": [
    {
     "data": {
      "text/plain": [
       "array([[1451624340, 436.12, 436.13, 436.12, 436.12, 6.139053,\n",
       "        datetime.date(2016, 1, 1), 4],\n",
       "       [1451638620, 433.56, 434.01, 434.01, 433.56, 11.8782,\n",
       "        datetime.date(2016, 1, 1), 8],\n",
       "       [1451652720, 432.2, 432.21, 432.21, 432.2, 0.02,\n",
       "        datetime.date(2016, 1, 1), 12],\n",
       "       [1451665560, 433.11, 433.18, 433.11, 433.18, 0.3483,\n",
       "        datetime.date(2016, 1, 1), 16]], dtype=object)"
      ]
     },
     "execution_count": 3,
     "metadata": {},
     "output_type": "execute_result"
    }
   ],
   "source": [
    "# sanity check: correct reshaping?  \n",
    "four_prices.as_matrix()[:4]"
   ]
  },
  {
   "cell_type": "code",
   "execution_count": 4,
   "metadata": {},
   "outputs": [],
   "source": [
    "import sklearn.preprocessing\n",
    "scaler = sklearn.preprocessing.MinMaxScaler(feature_range=(0, 1))"
   ]
  },
  {
   "cell_type": "code",
   "execution_count": 5,
   "metadata": {},
   "outputs": [
    {
     "name": "stdout",
     "output_type": "stream",
     "text": [
      "x_train.shape =  (570, 9, 4)\n",
      "y_train.shape =  (570, 4)\n",
      "x_valid.shape =  (163, 9, 4)\n",
      "y_valid.shape =  (163, 4)\n",
      "x_test.shape =  (81, 9, 4)\n",
      "y_test.shape =  (81, 4)\n"
     ]
    }
   ],
   "source": [
    "import numpy as np\n",
    "\n",
    "valid_set_size_percentage = 20 \n",
    "test_set_size_percentage = 10 \n",
    "\n",
    "# function to create train, validation, test data given sequence length\n",
    "def load_data(data_raw, seq_len):\n",
    "    \n",
    "    data = []\n",
    "    \n",
    "    # create all possible sequences of length seq_len\n",
    "    for index in range(len(data_raw) - seq_len): \n",
    "        data.append(data_raw[index: index + seq_len])\n",
    "        \n",
    "    transformed = scaler.fit_transform(data_raw)\n",
    "    \n",
    "    data_norm = []\n",
    "    \n",
    "    # create all possible sequences of length seq_len\n",
    "    for index in range(len(transformed) - seq_len): \n",
    "        data_norm.append(transformed[index: index + seq_len])\n",
    "    \n",
    "    data = np.array(data);\n",
    "    data_norm = np.array(data_norm);\n",
    "    valid_set_size = int(np.round(valid_set_size_percentage/100*data.shape[0]));  \n",
    "    test_set_size = int(np.round(test_set_size_percentage/100*data.shape[0]));\n",
    "    train_set_size = data.shape[0] - (valid_set_size + test_set_size);\n",
    "    \n",
    "    x_train = data_norm[:train_set_size,:-1,:]\n",
    "    y_train = data[:train_set_size,-1,:]\n",
    "    \n",
    "    x_valid = data_norm[train_set_size:train_set_size+valid_set_size,:-1,:]\n",
    "    y_valid = data[train_set_size:train_set_size+valid_set_size,-1,:]\n",
    "    \n",
    "    x_test = data_norm[train_set_size+valid_set_size:,:-1,:]\n",
    "    y_test = data[train_set_size+valid_set_size:,-1,:]\n",
    "    \n",
    "    return [x_train, y_train, x_valid, y_valid, x_test, y_test]\n",
    "\n",
    "# create train, test data\n",
    "seq_len = 10 # choose sequence length\n",
    "x_train, y_train, x_valid, y_valid, x_test, y_test = load_data(four_prices_mat, seq_len)\n",
    "print('x_train.shape = ',x_train.shape)\n",
    "print('y_train.shape = ', y_train.shape)\n",
    "print('x_valid.shape = ',x_valid.shape)\n",
    "print('y_valid.shape = ', y_valid.shape)\n",
    "print('x_test.shape = ', x_test.shape)\n",
    "print('y_test.shape = ',y_test.shape)"
   ]
  },
  {
   "cell_type": "code",
   "execution_count": 6,
   "metadata": {},
   "outputs": [],
   "source": [
    "# shuffle training data\n",
    "s = np.arange(x_train.shape[0])\n",
    "np.random.shuffle(s)\n",
    "x_train = x_train[s]\n",
    "y_train = y_train[s]"
   ]
  },
  {
   "cell_type": "code",
   "execution_count": 7,
   "metadata": {},
   "outputs": [],
   "source": [
    "def SMAPE(y, y_pred):\n",
    "    if len(y) != len(y_pred):\n",
    "        raise ValueError('Length of prediction array is not equal to length of y array.')\n",
    "    return np.mean(np.abs(y-y_pred)*2/(np.abs(y)+np.abs(y_pred)))"
   ]
  },
  {
   "cell_type": "markdown",
   "metadata": {},
   "source": [
    "# LSTM model graph"
   ]
  },
  {
   "cell_type": "code",
   "execution_count": 8,
   "metadata": {},
   "outputs": [
    {
     "name": "stderr",
     "output_type": "stream",
     "text": [
      "/Users/kexinyu/anaconda3/envs/tensorflow/lib/python3.5/importlib/_bootstrap.py:222: RuntimeWarning: compiletime version 3.6 of module 'tensorflow.python.framework.fast_tensor_util' does not match runtime version 3.5\n",
      "  return f(*args, **kwds)\n"
     ]
    },
    {
     "name": "stdout",
     "output_type": "stream",
     "text": [
      "WARNING:tensorflow:From /Users/kexinyu/anaconda3/envs/tensorflow/lib/python3.5/site-packages/tensorflow/contrib/learn/python/learn/datasets/base.py:198: retry (from tensorflow.contrib.learn.python.learn.datasets.base) is deprecated and will be removed in a future version.\n",
      "Instructions for updating:\n",
      "Use the retry module or similar alternatives.\n"
     ]
    }
   ],
   "source": [
    "import tensorflow as tf\n",
    "\n",
    "index_in_epoch = 0;\n",
    "perm_array  = np.arange(x_train.shape[0])\n",
    "np.random.shuffle(perm_array)\n",
    "\n",
    "# function to get the next batch\n",
    "def get_next_batch(batch_size):\n",
    "    global index_in_epoch, x_train, perm_array   \n",
    "    start = index_in_epoch\n",
    "    index_in_epoch += batch_size\n",
    "    \n",
    "    if index_in_epoch > x_train.shape[0]:\n",
    "        np.random.shuffle(perm_array) # shuffle permutation array\n",
    "        start = 0 # start next epoch\n",
    "        index_in_epoch = batch_size\n",
    "        \n",
    "    end = index_in_epoch\n",
    "    return x_train[perm_array[start:end]], scaler.transform(y_train[perm_array[start:end]])\n",
    "\n",
    "# parameters\n",
    "n_steps = seq_len-1 \n",
    "n_inputs = x_train.shape[-1]\n",
    "n_neurons = 200  # cell.state_size\n",
    "n_outputs = y_train.shape[-1]\n",
    "n_layers = 1\n",
    "learning_rate = 1e-4\n",
    "batch_size = 50\n",
    "n_epochs = 200 \n",
    "train_set_size = x_train.shape[0]\n",
    "test_set_size = x_test.shape[0]\n",
    "keep_prob = 0.8\n",
    "max_gradient_norm = 10\n",
    "\n",
    "tf.reset_default_graph()\n",
    "\n",
    "X = tf.placeholder(tf.float32, [None, n_steps, n_inputs])\n",
    "y = tf.placeholder(tf.float32, [None, n_outputs])\n",
    "\n",
    "# use LSTM Cell\n",
    "layers = [tf.contrib.rnn.LSTMCell(num_units=n_neurons, \\\n",
    "                                  initializer=tf.contrib.layers.xavier_initializer(), \\\n",
    "                                  activation=tf.nn.elu)\n",
    "         for layer in range(n_layers)]\n",
    "\n",
    "# use Basic LSTM Cell \n",
    "# layers = [tf.contrib.rnn.BasicLSTMCell(num_units=n_neurons, activation=tf.nn.elu)\n",
    "#           for layer in range(n_layers)]\n",
    "\n",
    "# use LSTM Cell with peephole connections\n",
    "#layers = [tf.contrib.rnn.LSTMCell(num_units=n_neurons, \n",
    "#                                  activation=tf.nn.leaky_relu, use_peepholes = True)\n",
    "#          for layer in range(n_layers)]\n",
    "\n",
    "# use GRU cell\n",
    "#layers = [tf.contrib.rnn.GRUCell(num_units=n_neurons, activation=tf.nn.leaky_relu)\n",
    "#          for layer in range(n_layers)]\n",
    "\n",
    "multi_layer_cell = tf.contrib.rnn.MultiRNNCell(layers)\n",
    "\n",
    "outputs, states = tf.nn.dynamic_rnn(multi_layer_cell, X, dtype=tf.float32)\n",
    "outputs = tf.nn.dropout(outputs, keep_prob)\n",
    "\n",
    "# 'outputs' is a tensor of shape [batch_size, n_steps, n_neurons(cell.state_size)]\n",
    "stacked_outputs = tf.reshape(outputs, [-1, n_neurons]) \n",
    "stacked_outputs = tf.layers.dense(stacked_outputs, n_outputs)\n",
    "outputs = tf.reshape(stacked_outputs, [-1, n_steps, n_outputs])\n",
    "outputs = outputs[:,n_steps-1,:] # keep only last output of sequence\n",
    "\n",
    "#loss = tf.reduce_mean(tf.square(outputs/y-1)) # loss function = normalized mean squared error \n",
    "loss = tf.reduce_mean(tf.square(outputs - y)) # loss function = mean squared error \n",
    "#loss = tf.reduce_mean(tf.abs(y-outputs)*2/(tf.abs(y)+tf.abs(outputs))) # SMAPE\n",
    "params = tf.trainable_variables()\n",
    "gradients = tf.gradients(loss, params)\n",
    "gradient_norm = tf.global_norm(gradients)\n",
    "clipped_gradients, _ = tf.clip_by_global_norm(gradients, max_gradient_norm)\n",
    "clipped_norm = tf.global_norm(clipped_gradients)\n",
    "param_norm = tf.global_norm(params)\n",
    "optimizer = tf.train.RMSPropOptimizer(learning_rate=learning_rate) \n",
    "# training_op = optimizer.minimize(loss)\n",
    "training_op = optimizer.apply_gradients(zip(clipped_gradients, params))\n",
    "\n",
    "# initialize parameters\n",
    "sess = tf.Session()\n",
    "global_step = tf.Variable(0, name='global_step', trainable=False)\n",
    "saver = tf.train.Saver(max_to_keep=2)"
   ]
  },
  {
   "cell_type": "code",
   "execution_count": 9,
   "metadata": {},
   "outputs": [],
   "source": [
    "experiment_name = 'LSTM_4_points' # type your experiment name here before running the code below"
   ]
  },
  {
   "cell_type": "code",
   "execution_count": null,
   "metadata": {},
   "outputs": [
    {
     "name": "stdout",
     "output_type": "stream",
     "text": [
      "INFO:tensorflow:Restoring parameters from LSTM_4_points/model.ckpt-267900\n",
      "Start from iteration: 267900\n",
      "23550.00 epochs: loss = 0.0000043, param_norm = 18.597, SMAPE train/valid = 0.029681/0.041457\n",
      "23600.00 epochs: loss = 0.0000071, param_norm = 18.597, SMAPE train/valid = 0.030417/0.041335\n",
      "Saved parameters to ./LSTM_4_points/model.ckpt-269040\n",
      "23650.00 epochs: loss = 0.0000040, param_norm = 18.597, SMAPE train/valid = 0.029918/0.041723\n",
      "23700.00 epochs: loss = 0.0000144, param_norm = 18.597, SMAPE train/valid = 0.031945/0.040864\n",
      "Saved parameters to ./LSTM_4_points/model.ckpt-270180\n",
      "23750.00 epochs: loss = 0.0000091, param_norm = 18.597, SMAPE train/valid = 0.033286/0.044238\n",
      "23800.00 epochs: loss = 0.0000094, param_norm = 18.597, SMAPE train/valid = 0.029587/0.043213\n",
      "Saved parameters to ./LSTM_4_points/model.ckpt-271320\n",
      "23850.00 epochs: loss = 0.0000052, param_norm = 18.597, SMAPE train/valid = 0.029433/0.040971\n"
     ]
    }
   ],
   "source": [
    "# run graph\n",
    "ckpt = tf.train.get_checkpoint_state(experiment_name)\n",
    "v2_path = ckpt.model_checkpoint_path + \".index\" if ckpt else \"\"\n",
    "if ckpt and (tf.gfile.Exists(ckpt.model_checkpoint_path) or tf.gfile.Exists(v2_path)):\n",
    "#     iteration = tf.get_variable('iteration',[1])\n",
    "    saver.restore(sess, ckpt.model_checkpoint_path)\n",
    "    iteration = global_step.eval(session=sess) # get last global_step\n",
    "    print(\"Start from iteration:\", iteration)\n",
    "else:\n",
    "    print('There is not saved parameters. Creating model with fresh parameters.')\n",
    "#     iteration = tf.get_variable('iteration',[1], initializer = tf.zeros_initializer)\n",
    "    sess.run(tf.global_variables_initializer())\n",
    "    iteration = 0\n",
    "#     sess.run(iteration)\n",
    "    \n",
    "while True:\n",
    "    iteration = iteration + 1\n",
    "    x_batch, y_batch = get_next_batch(batch_size) # fetch the next training batch \n",
    "     \n",
    "    # output_feed contains the things we want to fetch.\n",
    "    output_feed = [training_op, loss, param_norm]\n",
    "    [_, loss_val, param_norm_val] \\\n",
    "        = sess.run(output_feed, feed_dict={X: x_batch, y: y_batch})\n",
    "    \n",
    "    if iteration % int(50*train_set_size/batch_size) == 0:\n",
    "#             loss_train = loss.eval(feed_dict={X: x_train, y: y_train}) \n",
    "#             loss_valid = loss.eval(feed_dict={X: x_valid, y: y_valid}) \n",
    "        y_train_pred = scaler.inverse_transform(sess.run(outputs, feed_dict={X: x_train}))\n",
    "        y_valid_pred = scaler.inverse_transform(sess.run(outputs, feed_dict={X: x_valid}))\n",
    "        print('%.2f epochs: loss = %.7f, param_norm = %.3f, SMAPE train/valid = %.6f/%.6f' \\\n",
    "              %(iteration*batch_size/train_set_size, loss_val, param_norm_val, \\\n",
    "                SMAPE(y_train, y_train_pred), \\\n",
    "                SMAPE(y_valid, y_valid_pred)))\n",
    "#             print('%.2f epochs: loss train/valid = %.6f/%.6f'%(\n",
    "#                 iteration*batch_size/train_set_size, loss_train, loss_valid))\n",
    "    if iteration % int(100*train_set_size/batch_size) == 0:\n",
    "        global_step.assign(iteration).eval(session=sess) # set and update(eval) global_step with index, i\n",
    "        save_path = saver.save(sess, \"./\"+experiment_name+\"/model.ckpt\", global_step=global_step)\n",
    "        print('Saved parameters to %s' % save_path)\n",
    "\n",
    "y_train_pred = sess.run(outputs, feed_dict={X: x_train})\n",
    "y_valid_pred = sess.run(outputs, feed_dict={X: x_valid})\n",
    "y_test_pred = sess.run(outputs, feed_dict={X: x_test})"
   ]
  },
  {
   "cell_type": "code",
   "execution_count": 24,
   "metadata": {},
   "outputs": [
    {
     "data": {
      "text/plain": [
       "0.046616115639572735"
      ]
     },
     "execution_count": 24,
     "metadata": {},
     "output_type": "execute_result"
    }
   ],
   "source": [
    "y_test_pred = scaler.inverse_transform(sess.run(outputs, feed_dict={X: x_test}))\n",
    "SMAPE(y_test, y_test_pred)"
   ]
  },
  {
   "cell_type": "code",
   "execution_count": 26,
   "metadata": {},
   "outputs": [
    {
     "name": "stdout",
     "output_type": "stream",
     "text": [
      "correct sign prediction for close - open price for train/valid/test: 0.48/0.53/0.43\n"
     ]
    },
    {
     "data": {
      "image/png": "[encoded data removed]",
      "text/plain": [
       "<Figure size 1080x360 with 2 Axes>"
      ]
     },
     "metadata": {},
     "output_type": "display_data"
    }
   ],
   "source": [
    "import matplotlib.pyplot as plt\n",
    "\n",
    "ft = 0 \n",
    "\n",
    "## show predictions\n",
    "plt.figure(figsize=(15, 5));\n",
    "plt.subplot(1,2,1);\n",
    "\n",
    "plt.plot(np.arange(y_train.shape[0]), y_train[:,ft], color='blue', label='train target')\n",
    "\n",
    "plt.plot(np.arange(y_train.shape[0], y_train.shape[0]+y_valid.shape[0]), y_valid[:,ft],\n",
    "         color='gray', label='valid target')\n",
    "\n",
    "plt.plot(np.arange(y_train.shape[0]+y_valid.shape[0],\n",
    "                   y_train.shape[0]+y_valid.shape[0]+y_test.shape[0]),\n",
    "         y_test[:,ft], color='black', label='test target')\n",
    "\n",
    "plt.plot(np.arange(y_train_pred.shape[0]),y_train_pred[:,ft], color='red',\n",
    "         label='train prediction')\n",
    "\n",
    "plt.plot(np.arange(y_train_pred.shape[0], y_train_pred.shape[0]+y_valid_pred.shape[0]),\n",
    "         y_valid_pred[:,ft], color='orange', label='valid prediction')\n",
    "\n",
    "plt.plot(np.arange(y_train_pred.shape[0]+y_valid_pred.shape[0],\n",
    "                   y_train_pred.shape[0]+y_valid_pred.shape[0]+y_test_pred.shape[0]),\n",
    "         y_test_pred[:,ft], color='green', label='test prediction')\n",
    "\n",
    "plt.title('past and future BTC prices')\n",
    "plt.xlabel('time [days]')\n",
    "plt.ylabel('price')\n",
    "plt.legend(loc='best');\n",
    "\n",
    "plt.subplot(1,2,2);\n",
    "\n",
    "plt.plot(np.arange(y_train.shape[0], y_train.shape[0]+y_test.shape[0]),\n",
    "         y_test[:,ft], color='black', label='test target')\n",
    "\n",
    "plt.plot(np.arange(y_train_pred.shape[0], y_train_pred.shape[0]+y_test_pred.shape[0]),\n",
    "         y_test_pred[:,ft], color='green', label='test prediction')\n",
    "\n",
    "plt.title('future BTC prices')\n",
    "plt.xlabel('time [days]')\n",
    "plt.ylabel('price')\n",
    "plt.legend(loc='best');\n",
    "\n",
    "corr_price_development_train = np.sum(np.equal(np.sign(y_train[:,1]-y_train[:,0]),\n",
    "            np.sign(y_train_pred[:,1]-y_train_pred[:,0])).astype(int)) / y_train.shape[0]\n",
    "corr_price_development_valid = np.sum(np.equal(np.sign(y_valid[:,1]-y_valid[:,0]),\n",
    "            np.sign(y_valid_pred[:,1]-y_valid_pred[:,0])).astype(int)) / y_valid.shape[0]\n",
    "corr_price_development_test = np.sum(np.equal(np.sign(y_test[:,1]-y_test[:,0]),\n",
    "            np.sign(y_test_pred[:,1]-y_test_pred[:,0])).astype(int)) / y_test.shape[0]\n",
    "\n",
    "print('correct sign prediction for close - open price for train/valid/test: %.2f/%.2f/%.2f'%(\n",
    "    corr_price_development_train, corr_price_development_valid, corr_price_development_test))"
   ]
  }
 ],
 "metadata": {
  "kernelspec": {
   "display_name": "Python 3",
   "language": "python",
   "name": "python3"
  },
  "language_info": {
   "codemirror_mode": {
    "name": "ipython",
    "version": 3
   },
   "file_extension": ".py",
   "mimetype": "text/x-python",
   "name": "python",
   "nbconvert_exporter": "python",
   "pygments_lexer": "ipython3",
   "version": "3.5.5"
  }
 },
 "nbformat": 4,
 "nbformat_minor": 2
}
