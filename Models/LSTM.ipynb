{
 "cells": [
  {
   "cell_type": "code",
   "execution_count": 1,
   "metadata": {},
   "outputs": [
    {
     "name": "stderr",
     "output_type": "stream",
     "text": [
      "/home/yicheng/.local/lib/python3.5/site-packages/statsmodels/compat/pandas.py:56: FutureWarning: The pandas.core.datetools module is deprecated and will be removed in a future version. Please use the pandas.tseries module instead.\n",
      "  from pandas.core import datetools\n"
     ]
    }
   ],
   "source": [
    "__author__ = \"Yicheng Li\"\n",
    "import pandas as pd\n",
    "import numpy as np\n",
    "from matplotlib import pyplot as plt\n",
    "import statsmodels.api as sm\n",
    "import random\n",
    "from sklearn import preprocessing\n",
    "import tensorflow as tf"
   ]
  },
  {
   "cell_type": "code",
   "execution_count": 2,
   "metadata": {},
   "outputs": [],
   "source": [
    "df = pd.read_pickle('df_daily_interpolated.pickle')\n",
    "df = df.dropna()"
   ]
  },
  {
   "cell_type": "code",
   "execution_count": 20,
   "metadata": {},
   "outputs": [],
   "source": [
    "scaler = preprocessing.MinMaxScaler(feature_range=(0, 1))"
   ]
  },
  {
   "cell_type": "code",
   "execution_count": 23,
   "metadata": {},
   "outputs": [],
   "source": [
    "# function to create train, validation, test data given sequence length\n",
    "def load_data(df, seq_len):\n",
    "    labels = df['BTC_weighted_mean'].as_matrix()\n",
    "    feature_set = [4]\n",
    "    \n",
    "    data_raw = df.as_matrix() # convert to numpy array\n",
    "#     data_raw = preprocessing.minmax_scale(data_raw[:, feature_set]) # normalizing features\n",
    "    data_raw = scaler.fit_transform(data_raw[:, feature_set])\n",
    "    data = []\n",
    "    \n",
    "    # create all possible sequences of length seq_len\n",
    "    for index in range(len(data_raw) - seq_len + 1): \n",
    "        data.append(data_raw[index: index + seq_len, :])\n",
    "    \n",
    "    data = np.array(data)\n",
    "    \n",
    "    valid_set_size_percentage = 20 \n",
    "    test_set_size_percentage = 10 \n",
    "    \n",
    "    valid_set_size = int(np.round(valid_set_size_percentage/100*data.shape[0]));  \n",
    "    test_set_size = int(np.round(test_set_size_percentage/100*data.shape[0]));\n",
    "    train_set_size = data.shape[0] - (valid_set_size + test_set_size);\n",
    "    \n",
    "    x_train = data[:train_set_size,:-1,:] # cannot see last day, which we aim to predict\n",
    "    y_train = labels[seq_len-1:train_set_size+seq_len-1]\n",
    "    \n",
    "    x_valid = data[train_set_size:train_set_size+valid_set_size,:-1,:]\n",
    "    y_valid = labels[seq_len-1+train_set_size:train_set_size+valid_set_size+seq_len-1]\n",
    "    \n",
    "    x_test = data[train_set_size+valid_set_size:,:-1,:]\n",
    "    y_test = labels[seq_len-1+train_set_size+valid_set_size:]\n",
    "    \n",
    "    return [x_train, y_train, x_valid, y_valid, x_test, y_test]"
   ]
  },
  {
   "cell_type": "code",
   "execution_count": 24,
   "metadata": {},
   "outputs": [
    {
     "name": "stdout",
     "output_type": "stream",
     "text": [
      "x_train.shape =  (410, 9, 1)\n",
      "y_train.shape =  (410, 1)\n",
      "x_valid.shape =  (117, 9, 1)\n",
      "y_valid.shape =  (117, 1)\n",
      "x_test.shape =  (58, 9, 1)\n",
      "y_test.shape =  (58, 1)\n"
     ]
    }
   ],
   "source": [
    "# create train, test data\n",
    "seq_len = 10 # choose sequence length\n",
    "x_train, y_train, x_valid, y_valid, x_test, y_test = load_data(df, seq_len)\n",
    "y_train = y_train.reshape([-1,1])\n",
    "y_valid = y_valid.reshape([-1,1])\n",
    "y_test = y_test.reshape([-1,1])\n",
    "print('x_train.shape = ',x_train.shape)\n",
    "print('y_train.shape = ', y_train.shape)\n",
    "print('x_valid.shape = ',x_valid.shape)\n",
    "print('y_valid.shape = ', y_valid.shape)\n",
    "print('x_test.shape = ', x_test.shape)\n",
    "print('y_test.shape = ',y_test.shape)"
   ]
  },
  {
   "cell_type": "code",
   "execution_count": 86,
   "metadata": {},
   "outputs": [
    {
     "name": "stdout",
     "output_type": "stream",
     "text": [
      "[[1.27170531e-04]\n",
      " [6.40153354e-05]\n",
      " [1.48272860e-04]]\n",
      "0\n"
     ]
    },
    {
     "data": {
      "text/plain": [
       "array([[573.84267864],\n",
       "       [572.64966359],\n",
       "       [574.24130613]])"
      ]
     },
     "execution_count": 86,
     "metadata": {},
     "output_type": "execute_result"
    }
   ],
   "source": [
    "tmp = scaler.transform(y_train)\n",
    "print(tmp[:3])\n",
    "print(np.isnan(tmp).sum())\n",
    "tmp2 = scaler.inverse_transform(tmp)\n",
    "tmp2[:3]"
   ]
  },
  {
   "cell_type": "code",
   "execution_count": 45,
   "metadata": {},
   "outputs": [
    {
     "data": {
      "text/plain": [
       "1.0"
      ]
     },
     "execution_count": 45,
     "metadata": {},
     "output_type": "execute_result"
    }
   ],
   "source": [
    "tmp.max()"
   ]
  },
  {
   "cell_type": "code",
   "execution_count": 6,
   "metadata": {},
   "outputs": [],
   "source": [
    "# shuffle training data\n",
    "s = np.arange(x_train.shape[0])\n",
    "np.random.shuffle(s)\n",
    "x_train = x_train[s]\n",
    "y_train = y_train[s]"
   ]
  },
  {
   "cell_type": "code",
   "execution_count": 7,
   "metadata": {},
   "outputs": [],
   "source": [
    "def SMAPE(y, y_pred):\n",
    "    if len(y) != len(y_pred):\n",
    "        raise ValueError('Length of prediction array is not equal to length of y array.')\n",
    "    return np.mean(np.abs(y-y_pred)*2/(np.abs(y)+np.abs(y_pred)))"
   ]
  },
  {
   "cell_type": "markdown",
   "metadata": {},
   "source": [
    "## LSTM model graph"
   ]
  },
  {
   "cell_type": "code",
   "execution_count": 120,
   "metadata": {},
   "outputs": [],
   "source": [
    "index_in_epoch = 0;\n",
    "perm_array  = np.arange(x_train.shape[0])\n",
    "np.random.shuffle(perm_array)\n",
    "\n",
    "# function to get the next batch\n",
    "def get_next_batch(batch_size):\n",
    "    global index_in_epoch, x_train, perm_array   \n",
    "    start = index_in_epoch\n",
    "    index_in_epoch += batch_size\n",
    "    \n",
    "    if index_in_epoch > x_train.shape[0]:\n",
    "        np.random.shuffle(perm_array) # shuffle permutation array\n",
    "        start = 0 # start next epoch\n",
    "        index_in_epoch = batch_size\n",
    "        \n",
    "    end = index_in_epoch\n",
    "    return x_train[perm_array[start:end]], scaler.transform(y_train[perm_array[start:end]])\n",
    "\n",
    "# parameters\n",
    "n_steps = seq_len-1 \n",
    "n_inputs = x_train.shape[-1]\n",
    "n_neurons = 200  # cell.state_size\n",
    "n_outputs = 1\n",
    "n_layers = 1\n",
    "learning_rate = 1e-5\n",
    "batch_size = 50\n",
    "n_epochs = 200 \n",
    "train_set_size = x_train.shape[0]\n",
    "test_set_size = x_test.shape[0]\n",
    "keep_prob = 1\n",
    "max_gradient_norm = 10\n",
    "\n",
    "tf.reset_default_graph()\n",
    "\n",
    "X = tf.placeholder(tf.float32, [None, n_steps, n_inputs])\n",
    "y = tf.placeholder(tf.float32, [None, n_outputs])\n",
    "\n",
    "# use LSTM Cell\n",
    "layers = [tf.contrib.rnn.LSTMCell(num_units=n_neurons, \\\n",
    "                                  initializer=tf.contrib.layers.xavier_initializer(), \\\n",
    "                                  activation=tf.nn.elu)\n",
    "         for layer in range(n_layers)]\n",
    "\n",
    "# use Basic LSTM Cell \n",
    "# layers = [tf.contrib.rnn.BasicLSTMCell(num_units=n_neurons, activation=tf.nn.elu)\n",
    "#           for layer in range(n_layers)]\n",
    "\n",
    "# use LSTM Cell with peephole connections\n",
    "#layers = [tf.contrib.rnn.LSTMCell(num_units=n_neurons, \n",
    "#                                  activation=tf.nn.leaky_relu, use_peepholes = True)\n",
    "#          for layer in range(n_layers)]\n",
    "\n",
    "# use GRU cell\n",
    "#layers = [tf.contrib.rnn.GRUCell(num_units=n_neurons, activation=tf.nn.leaky_relu)\n",
    "#          for layer in range(n_layers)]\n",
    "\n",
    "multi_layer_cell = tf.contrib.rnn.MultiRNNCell(layers)\n",
    "\n",
    "outputs, states = tf.nn.dynamic_rnn(multi_layer_cell, X, dtype=tf.float32)\n",
    "outputs = tf.nn.dropout(outputs, keep_prob)\n",
    "\n",
    "# 'outputs' is a tensor of shape [batch_size, n_steps, n_neurons(cell.state_size)]\n",
    "stacked_outputs = tf.reshape(outputs, [-1, n_neurons]) \n",
    "stacked_outputs = tf.layers.dense(stacked_outputs, n_outputs)\n",
    "outputs = tf.reshape(stacked_outputs, [-1, n_steps, n_outputs])\n",
    "outputs = outputs[:,n_steps-1,:] # keep only last output of sequence\n",
    "\n",
    "loss = tf.reduce_mean(tf.square(outputs - y)) # loss function = mean squared error \n",
    "# loss = tf.reduce_mean(tf.square(outputs - y)) # loss function = mean squared error \n",
    "#loss = tf.reduce_mean(tf.abs(y-outputs)*2/(tf.abs(y)+tf.abs(outputs))) # SMAPE\n",
    "params = tf.trainable_variables()\n",
    "gradients = tf.gradients(loss, params)\n",
    "gradient_norm = tf.global_norm(gradients)\n",
    "clipped_gradients, _ = tf.clip_by_global_norm(gradients, max_gradient_norm)\n",
    "clipped_norm = tf.global_norm(clipped_gradients)\n",
    "param_norm = tf.global_norm(params)\n",
    "optimizer = tf.train.AdamOptimizer(learning_rate=learning_rate) \n",
    "# training_op = optimizer.minimize(loss)\n",
    "training_op = optimizer.apply_gradients(zip(clipped_gradients, params))\n",
    "\n",
    "# initialize parameters\n",
    "sess = tf.Session()\n",
    "global_step = tf.Variable(0, name='global_step', trainable=False)\n",
    "saver = tf.train.Saver(max_to_keep=2)"
   ]
  },
  {
   "cell_type": "code",
   "execution_count": 116,
   "metadata": {},
   "outputs": [],
   "source": [
    "experiment_name = 'LSTM_1_feature_200' # type your experiment name here before running the code below"
   ]
  },
  {
   "cell_type": "code",
   "execution_count": null,
   "metadata": {},
   "outputs": [
    {
     "name": "stdout",
     "output_type": "stream",
     "text": [
      "There is not saved parameters. Creating model with fresh parameters.\n",
      "50.00 epochs: loss = 0.0011946, param_norm = 18.033, SMAPE train/valid = 0.380471/0.521423\n",
      "100.00 epochs: loss = 0.0001283, param_norm = 18.099, SMAPE train/valid = 0.141018/0.137317\n",
      "Saved parameters to ./LSTM_1_feature_200/model.ckpt-820\n",
      "150.00 epochs: loss = 0.0000809, param_norm = 18.117, SMAPE train/valid = 0.057489/0.115894\n",
      "200.00 epochs: loss = 0.0000674, param_norm = 18.112, SMAPE train/valid = 0.056074/0.114925\n",
      "Saved parameters to ./LSTM_1_feature_200/model.ckpt-1640\n",
      "250.00 epochs: loss = 0.0000613, param_norm = 18.106, SMAPE train/valid = 0.055889/0.113671\n",
      "300.00 epochs: loss = 0.0000843, param_norm = 18.099, SMAPE train/valid = 0.055809/0.112461\n",
      "Saved parameters to ./LSTM_1_feature_200/model.ckpt-2460\n",
      "350.00 epochs: loss = 0.0000710, param_norm = 18.093, SMAPE train/valid = 0.055484/0.111175\n",
      "400.00 epochs: loss = 0.0001224, param_norm = 18.087, SMAPE train/valid = 0.054436/0.109971\n",
      "Saved parameters to ./LSTM_1_feature_200/model.ckpt-3280\n",
      "450.00 epochs: loss = 0.0000799, param_norm = 18.082, SMAPE train/valid = 0.053971/0.108760\n",
      "500.00 epochs: loss = 0.0000522, param_norm = 18.078, SMAPE train/valid = 0.054187/0.107134\n",
      "Saved parameters to ./LSTM_1_feature_200/model.ckpt-4100\n",
      "550.00 epochs: loss = 0.0001223, param_norm = 18.075, SMAPE train/valid = 0.052877/0.105724\n",
      "600.00 epochs: loss = 0.0001090, param_norm = 18.073, SMAPE train/valid = 0.051957/0.104501\n",
      "Saved parameters to ./LSTM_1_feature_200/model.ckpt-4920\n",
      "650.00 epochs: loss = 0.0001738, param_norm = 18.073, SMAPE train/valid = 0.050875/0.102990\n",
      "700.00 epochs: loss = 0.0001521, param_norm = 18.074, SMAPE train/valid = 0.051076/0.101343\n",
      "Saved parameters to ./LSTM_1_feature_200/model.ckpt-5740\n",
      "750.00 epochs: loss = 0.0000255, param_norm = 18.076, SMAPE train/valid = 0.049823/0.100302\n",
      "800.00 epochs: loss = 0.0000737, param_norm = 18.079, SMAPE train/valid = 0.049605/0.098666\n",
      "Saved parameters to ./LSTM_1_feature_200/model.ckpt-6560\n"
     ]
    }
   ],
   "source": [
    "# run graph\n",
    "ckpt = tf.train.get_checkpoint_state(experiment_name)\n",
    "v2_path = ckpt.model_checkpoint_path + \".index\" if ckpt else \"\"\n",
    "if ckpt and (tf.gfile.Exists(ckpt.model_checkpoint_path) or tf.gfile.Exists(v2_path)):\n",
    "#     iteration = tf.get_variable('iteration',[1])\n",
    "    saver.restore(sess, ckpt.model_checkpoint_path)\n",
    "    iteration = global_step.eval(session=sess) # get last global_step\n",
    "    print(\"Start from iteration:\", iteration)\n",
    "else:\n",
    "    print('There is not saved parameters. Creating model with fresh parameters.')\n",
    "#     iteration = tf.get_variable('iteration',[1], initializer = tf.zeros_initializer)\n",
    "    sess.run(tf.global_variables_initializer())\n",
    "    iteration = 0\n",
    "#     sess.run(iteration)\n",
    "    \n",
    "while True:\n",
    "    iteration = iteration + 1\n",
    "    x_batch, y_batch = get_next_batch(batch_size) # fetch the next training batch \n",
    "     \n",
    "    # output_feed contains the things we want to fetch.\n",
    "    output_feed = [training_op, loss, param_norm]\n",
    "    [_, loss_val, param_norm_val] \\\n",
    "        = sess.run(output_feed, feed_dict={X: x_batch, y: y_batch})\n",
    "    \n",
    "    if iteration % int(50*train_set_size/batch_size) == 0:\n",
    "#             loss_train = loss.eval(feed_dict={X: x_train, y: y_train}) \n",
    "#             loss_valid = loss.eval(feed_dict={X: x_valid, y: y_valid}) \n",
    "        y_train_pred = scaler.inverse_transform(sess.run(outputs, feed_dict={X: x_train}))\n",
    "        y_valid_pred = scaler.inverse_transform(sess.run(outputs, feed_dict={X: x_valid}))\n",
    "        print('%.2f epochs: loss = %.7f, param_norm = %.3f, SMAPE train/valid = %.6f/%.6f' \\\n",
    "              %(iteration*batch_size/train_set_size, loss_val, param_norm_val, \\\n",
    "                SMAPE(y_train, y_train_pred), \\\n",
    "                SMAPE(y_valid, y_valid_pred)))\n",
    "#             print('%.2f epochs: loss train/valid = %.6f/%.6f'%(\n",
    "#                 iteration*batch_size/train_set_size, loss_train, loss_valid))\n",
    "    if iteration % int(100*train_set_size/batch_size) == 0:\n",
    "        global_step.assign(iteration).eval(session=sess) # set and update(eval) global_step with index, i\n",
    "        save_path = saver.save(sess, \"./\"+experiment_name+\"/model.ckpt\", global_step=global_step)\n",
    "        print('Saved parameters to %s' % save_path)\n",
    "\n",
    "y_train_pred = sess.run(outputs, feed_dict={X: x_train})\n",
    "y_valid_pred = sess.run(outputs, feed_dict={X: x_valid})\n",
    "y_test_pred = sess.run(outputs, feed_dict={X: x_test})"
   ]
  }
 ],
 "metadata": {
  "kernelspec": {
   "display_name": "Python 3",
   "language": "python",
   "name": "python3"
  },
  "language_info": {
   "codemirror_mode": {
    "name": "ipython",
    "version": 3
   },
   "file_extension": ".py",
   "mimetype": "text/x-python",
   "name": "python",
   "nbconvert_exporter": "python",
   "pygments_lexer": "ipython3",
   "version": "3.5.2"
  }
 },
 "nbformat": 4,
 "nbformat_minor": 2
}
