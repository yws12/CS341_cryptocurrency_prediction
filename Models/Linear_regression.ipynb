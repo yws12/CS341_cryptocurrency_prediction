{
 "cells": [
  {
   "cell_type": "code",
   "execution_count": 14,
   "metadata": {},
   "outputs": [],
   "source": [
    "# written in python 3\n",
    "# Yicheng Li\n",
    "import pandas as pd\n",
    "import numpy as np\n",
    "from matplotlib import pyplot as plt\n",
    "import statsmodels.api as sm\n",
    "import random\n",
    "from sklearn import preprocessing\n",
    "from sklearn.model_selection import train_test_split \n",
    "from sklearn.linear_model import LinearRegression"
   ]
  },
  {
   "cell_type": "code",
   "execution_count": 2,
   "metadata": {},
   "outputs": [],
   "source": [
    "df = pd.read_pickle('BTC-USD-60.pkl')"
   ]
  },
  {
   "cell_type": "code",
   "execution_count": 3,
   "metadata": {},
   "outputs": [],
   "source": [
    "df['date'] = pd.to_datetime(df['time'],unit='s').dt.date"
   ]
  },
  {
   "cell_type": "code",
   "execution_count": 4,
   "metadata": {},
   "outputs": [
    {
     "data": {
      "text/plain": [
       "date\n",
       "2016-01-01    433.300405\n",
       "2016-01-02    435.083883\n",
       "2016-01-03    431.338427\n",
       "2016-01-04    433.626442\n",
       "2016-01-05    433.373114\n",
       "Name: close, dtype: float64"
      ]
     },
     "execution_count": 4,
     "metadata": {},
     "output_type": "execute_result"
    }
   ],
   "source": [
    "group = df.groupby('date')\n",
    "Daily_Mean_Price = group['close'].mean()\n",
    "\n",
    "Daily_Mean_Price.head()"
   ]
  },
  {
   "cell_type": "code",
   "execution_count": 5,
   "metadata": {},
   "outputs": [],
   "source": [
    "Daily_Mean_Price=Daily_Mean_Price.reset_index()\n",
    "Daily_Mean_Price=Daily_Mean_Price.set_index('date')"
   ]
  },
  {
   "cell_type": "markdown",
   "metadata": {},
   "source": [
    "# Prepare data as np array"
   ]
  },
  {
   "cell_type": "code",
   "execution_count": 27,
   "metadata": {},
   "outputs": [],
   "source": [
    "df2 = Daily_Mean_Price\n",
    "df2['label'] = df2['close'].shift(-1)\n",
    "\n",
    "# std_scale = preprocessing.StandardScaler().fit(Daily_Mean_Price)\n",
    "# Daily_Mean_Price = std_scale.transform(Daily_Mean_Price)\n",
    "# Daily_Mean_Price = Daily_Mean_Price + 1 - min(Daily_Mean_Price)\n",
    "# Daily_Mean_Price = pd.DataFrame(Daily_Mean_Price)"
   ]
  },
  {
   "cell_type": "code",
   "execution_count": 29,
   "metadata": {},
   "outputs": [
    {
     "data": {
      "text/html": [
       "<div>\n",
       "<style scoped>\n",
       "    .dataframe tbody tr th:only-of-type {\n",
       "        vertical-align: middle;\n",
       "    }\n",
       "\n",
       "    .dataframe tbody tr th {\n",
       "        vertical-align: top;\n",
       "    }\n",
       "\n",
       "    .dataframe thead th {\n",
       "        text-align: right;\n",
       "    }\n",
       "</style>\n",
       "<table border=\"1\" class=\"dataframe\">\n",
       "  <thead>\n",
       "    <tr style=\"text-align: right;\">\n",
       "      <th></th>\n",
       "      <th>close</th>\n",
       "      <th>label</th>\n",
       "    </tr>\n",
       "    <tr>\n",
       "      <th>date</th>\n",
       "      <th></th>\n",
       "      <th></th>\n",
       "    </tr>\n",
       "  </thead>\n",
       "  <tbody>\n",
       "    <tr>\n",
       "      <th>2016-01-01</th>\n",
       "      <td>433.300405</td>\n",
       "      <td>435.083883</td>\n",
       "    </tr>\n",
       "    <tr>\n",
       "      <th>2016-01-02</th>\n",
       "      <td>435.083883</td>\n",
       "      <td>431.338427</td>\n",
       "    </tr>\n",
       "    <tr>\n",
       "      <th>2016-01-03</th>\n",
       "      <td>431.338427</td>\n",
       "      <td>433.626442</td>\n",
       "    </tr>\n",
       "    <tr>\n",
       "      <th>2016-01-04</th>\n",
       "      <td>433.626442</td>\n",
       "      <td>433.373114</td>\n",
       "    </tr>\n",
       "    <tr>\n",
       "      <th>2016-01-05</th>\n",
       "      <td>433.373114</td>\n",
       "      <td>431.927898</td>\n",
       "    </tr>\n",
       "  </tbody>\n",
       "</table>\n",
       "</div>"
      ],
      "text/plain": [
       "                 close       label\n",
       "date                              \n",
       "2016-01-01  433.300405  435.083883\n",
       "2016-01-02  435.083883  431.338427\n",
       "2016-01-03  431.338427  433.626442\n",
       "2016-01-04  433.626442  433.373114\n",
       "2016-01-05  433.373114  431.927898"
      ]
     },
     "execution_count": 29,
     "metadata": {},
     "output_type": "execute_result"
    }
   ],
   "source": [
    "df2.head()"
   ]
  },
  {
   "cell_type": "code",
   "execution_count": 30,
   "metadata": {},
   "outputs": [],
   "source": [
    "X = np.array(df2.drop(['label'], 1))\n",
    "y = np.array(df2['label'])\n",
    "X = X[:-1]\n",
    "y = y[:-1]"
   ]
  },
  {
   "cell_type": "code",
   "execution_count": 31,
   "metadata": {},
   "outputs": [],
   "source": [
    "#Standardize feature data\n",
    "X = preprocessing.scale(X)"
   ]
  },
  {
   "cell_type": "markdown",
   "metadata": {},
   "source": [
    "# Autocorrelation"
   ]
  },
  {
   "cell_type": "code",
   "execution_count": 33,
   "metadata": {},
   "outputs": [
    {
     "data": {
      "image/png": "[encoded data removed]",
      "text/plain": [
       "<Figure size 1080x504 with 2 Axes>"
      ]
     },
     "metadata": {},
     "output_type": "display_data"
    }
   ],
   "source": [
    "plt.figure(figsize=(15,7))\n",
    "ax = plt.subplot(211)\n",
    "sm.graphics.tsa.plot_acf(Daily_Mean_Price.close.values.squeeze(), lags=100, ax=ax)\n",
    "ax = plt.subplot(212)\n",
    "sm.graphics.tsa.plot_pacf(Daily_Mean_Price.close.values.squeeze(), lags=100, ax=ax)\n",
    "plt.tight_layout()\n",
    "plt.show()"
   ]
  },
  {
   "cell_type": "markdown",
   "metadata": {},
   "source": [
    "# Define evaluation metrics"
   ]
  },
  {
   "cell_type": "code",
   "execution_count": 9,
   "metadata": {},
   "outputs": [],
   "source": [
    "def RMSE(y, y_pred):\n",
    "    if len(y) != len(y_pred):\n",
    "        raise ValueError('Length of prediction array is not equal to length of y array.')\n",
    "    return np.sqrt(sum((y_pred-y)**2)/len(y))"
   ]
  },
  {
   "cell_type": "code",
   "execution_count": 10,
   "metadata": {},
   "outputs": [],
   "source": [
    "def SMAPE(y, y_pred):\n",
    "    if len(y) != len(y_pred):\n",
    "        raise ValueError('Length of prediction array is not equal to length of y array.')\n",
    "    return np.mean(np.abs(y-y_pred)*2/(np.abs(y)+np.abs(y_pred)))"
   ]
  },
  {
   "cell_type": "code",
   "execution_count": 14,
   "metadata": {},
   "outputs": [],
   "source": [
    "def normalized_RMSE(y, y_pred):\n",
    "    if len(y) != len(y_pred):\n",
    "        raise ValueError('Length of prediction array is not equal to length of y array.')\n",
    "    return np.sqrt(sum((y_pred/y-1)**2)/len(y))"
   ]
  },
  {
   "cell_type": "code",
   "execution_count": 15,
   "metadata": {},
   "outputs": [],
   "source": [
    "def RMSE_log_price(y, y_pred):\n",
    "    if len(y) != len(y_pred):\n",
    "        raise ValueError('Length of prediction array is not equal to length of y array.')\n",
    "    return np.sqrt(sum((np.log(y_pred)-np.log(y))**2)/len(y))"
   ]
  },
  {
   "cell_type": "code",
   "execution_count": 64,
   "metadata": {},
   "outputs": [
    {
     "name": "stdout",
     "output_type": "stream",
     "text": [
      "Validation SMAPE: 0.035047209389751824\n"
     ]
    }
   ],
   "source": [
    "validate_with_window_size(window_size=1, W=np.array([1]), b=0) # Wensi Yin's baseline with window size = 1"
   ]
  },
  {
   "cell_type": "markdown",
   "metadata": {},
   "source": [
    "# Prepare data again to include a window of past prices as feature"
   ]
  },
  {
   "cell_type": "code",
   "execution_count": 32,
   "metadata": {},
   "outputs": [],
   "source": [
    "X_new = X.copy()\n",
    "for shift in range(1,20):\n",
    "    X_new = np.concatenate([X_new, \\\n",
    "                           np.pad(X,((shift,0),(0,0)), mode='constant',constant_values=np.nan)[:-shift]]\\\n",
    "                           , axis = 1)"
   ]
  },
  {
   "cell_type": "code",
   "execution_count": 71,
   "metadata": {},
   "outputs": [
    {
     "data": {
      "text/plain": [
       "19"
      ]
     },
     "execution_count": 71,
     "metadata": {},
     "output_type": "execute_result"
    }
   ],
   "source": [
    "np.isnan(X_new[:,-1]).sum()"
   ]
  },
  {
   "cell_type": "code",
   "execution_count": 35,
   "metadata": {},
   "outputs": [],
   "source": [
    "X_new = X_new[:][19:]\n",
    "y = y[19:]"
   ]
  },
  {
   "cell_type": "code",
   "execution_count": 73,
   "metadata": {},
   "outputs": [
    {
     "data": {
      "text/plain": [
       "0"
      ]
     },
     "execution_count": 73,
     "metadata": {},
     "output_type": "execute_result"
    }
   ],
   "source": [
    "np.isnan(X_new[:,-1]).sum()"
   ]
  },
  {
   "cell_type": "code",
   "execution_count": 36,
   "metadata": {},
   "outputs": [],
   "source": [
    "X_train, X_test, y_train, y_test \\\n",
    "    = train_test_split(X_new, y, test_size=0.2)\n",
    "\n",
    "X_train, X_val, y_train, y_val \\\n",
    "    = train_test_split(X_train, y_train, test_size=0.2)"
   ]
  },
  {
   "cell_type": "markdown",
   "metadata": {},
   "source": [
    "### Linear regression with different window sizes"
   ]
  },
  {
   "cell_type": "code",
   "execution_count": 37,
   "metadata": {},
   "outputs": [
    {
     "name": "stdout",
     "output_type": "stream",
     "text": [
      "window_size= 1 SMAPE= 0.03398454831237503\n",
      "window_size= 2 SMAPE= 0.03158044395975198\n",
      "window_size= 3 SMAPE= 0.03139929620512934\n",
      "window_size= 4 SMAPE= 0.03140976265388537\n",
      "window_size= 5 SMAPE= 0.03217622460902219\n",
      "window_size= 6 SMAPE= 0.0318942994523338\n",
      "window_size= 7 SMAPE= 0.03263050876161087\n",
      "window_size= 8 SMAPE= 0.03254462696062404\n",
      "window_size= 9 SMAPE= 0.033065162327424825\n",
      "window_size= 10 SMAPE= 0.03325389678838915\n",
      "window_size= 11 SMAPE= 0.03309855914490728\n",
      "window_size= 12 SMAPE= 0.033444887821337116\n",
      "window_size= 13 SMAPE= 0.03354973569995548\n",
      "window_size= 14 SMAPE= 0.033420322664364385\n",
      "window_size= 15 SMAPE= 0.03336211788170603\n",
      "window_size= 16 SMAPE= 0.03384511533999684\n",
      "window_size= 17 SMAPE= 0.03336933720837856\n",
      "window_size= 18 SMAPE= 0.03359624189244507\n",
      "window_size= 19 SMAPE= 0.033622826242492354\n",
      "window_size= 20 SMAPE= 0.03353935682581939\n"
     ]
    }
   ],
   "source": [
    "linear_reg = LinearRegression()\n",
    "\n",
    "for window_size in range(1,21):\n",
    "    linear_reg.fit(X_train[:,:window_size], y_train)\n",
    "    y_pred = linear_reg.predict(X_val[:,:window_size])\n",
    "    print('window_size=',window_size,'SMAPE=',SMAPE(y_val, y_pred))"
   ]
  },
  {
   "cell_type": "markdown",
   "metadata": {},
   "source": [
    "### Ridge regression"
   ]
  },
  {
   "cell_type": "code",
   "execution_count": 38,
   "metadata": {},
   "outputs": [
    {
     "name": "stdout",
     "output_type": "stream",
     "text": [
      "window_size= 1 SMAPE= 0.03604200373219756\n",
      "window_size= 2 SMAPE= 0.03598323729956695\n",
      "window_size= 3 SMAPE= 0.03622284356011346\n",
      "window_size= 4 SMAPE= 0.03625115228071768\n",
      "window_size= 5 SMAPE= 0.03678560533921237\n",
      "window_size= 6 SMAPE= 0.036756241442162364\n",
      "window_size= 7 SMAPE= 0.03727374878989818\n",
      "window_size= 8 SMAPE= 0.037205486998688544\n",
      "window_size= 9 SMAPE= 0.037557955185842415\n",
      "window_size= 10 SMAPE= 0.03794829437925814\n",
      "window_size= 11 SMAPE= 0.03799178274896077\n",
      "window_size= 12 SMAPE= 0.03814022015785319\n",
      "window_size= 13 SMAPE= 0.03816614012557572\n",
      "window_size= 14 SMAPE= 0.0378740769792284\n",
      "window_size= 15 SMAPE= 0.03758458645821509\n",
      "window_size= 16 SMAPE= 0.037978129150294374\n",
      "window_size= 17 SMAPE= 0.037861818808801566\n",
      "window_size= 18 SMAPE= 0.03785910355900544\n",
      "window_size= 19 SMAPE= 0.03803419073635502\n",
      "window_size= 20 SMAPE= 0.038175470949975004\n"
     ]
    }
   ],
   "source": [
    "from sklearn.linear_model import Ridge\n",
    "ridge = Ridge(alpha=0.5)\n",
    "for window_size in range(1,21):\n",
    "    ridge.fit(X_train[:,:window_size], y_train)\n",
    "    y_pred = ridge.predict(X_val[:,:window_size])\n",
    "    print('window_size=',window_size,'SMAPE=',SMAPE(y_val, y_pred))"
   ]
  },
  {
   "cell_type": "markdown",
   "metadata": {},
   "source": [
    "### Lasso Regression"
   ]
  },
  {
   "cell_type": "code",
   "execution_count": 39,
   "metadata": {},
   "outputs": [
    {
     "name": "stdout",
     "output_type": "stream",
     "text": [
      "window_size= 1 SMAPE= 0.03450122762210335\n",
      "window_size= 2 SMAPE= 0.03345844286123296\n",
      "window_size= 3 SMAPE= 0.03370309812350254\n",
      "window_size= 4 SMAPE= 0.033703327190357166\n",
      "window_size= 5 SMAPE= 0.03474998391247217\n",
      "window_size= 6 SMAPE= 0.03474998391247217\n",
      "window_size= 7 SMAPE= 0.03508245611812358\n",
      "window_size= 8 SMAPE= 0.03508245611812358\n",
      "window_size= 9 SMAPE= 0.03516086386314578\n",
      "window_size= 10 SMAPE= 0.03538633946366873\n",
      "window_size= 11 SMAPE= 0.03576186326963768\n",
      "window_size= 12 SMAPE= 0.03576186326963768\n",
      "window_size= 13 SMAPE= 0.03590373017179227\n",
      "window_size= 14 SMAPE= 0.0358544375074576\n",
      "window_size= 15 SMAPE= 0.03566435936461639\n",
      "window_size= 16 SMAPE= 0.03580543464463681\n",
      "window_size= 17 SMAPE= 0.03579666788002234\n",
      "window_size= 18 SMAPE= 0.035797912428275146\n",
      "window_size= 19 SMAPE= 0.035797912428275146\n",
      "window_size= 20 SMAPE= 0.035801617753075006\n"
     ]
    }
   ],
   "source": [
    "from sklearn.linear_model import Lasso\n",
    "lasso = Lasso(alpha=1, max_iter=10000)\n",
    "for window_size in range(1,21):\n",
    "    lasso.fit(X_train[:,:window_size], y_train)\n",
    "    y_pred = lasso.predict(X_val[:,:window_size])\n",
    "    print('window_size=',window_size,'SMAPE=',SMAPE(y_val, y_pred))"
   ]
  }
 ],
 "metadata": {
  "kernelspec": {
   "display_name": "Python 3",
   "language": "python",
   "name": "python3"
  },
  "language_info": {
   "codemirror_mode": {
    "name": "ipython",
    "version": 3
   },
   "file_extension": ".py",
   "mimetype": "text/x-python",
   "name": "python",
   "nbconvert_exporter": "python",
   "pygments_lexer": "ipython3",
   "version": "3.5.2"
  }
 },
 "nbformat": 4,
 "nbformat_minor": 2
}
