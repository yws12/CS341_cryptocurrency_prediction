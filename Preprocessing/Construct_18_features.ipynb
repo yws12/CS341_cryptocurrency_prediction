{
 "cells": [
  {
   "cell_type": "code",
   "execution_count": 5,
   "metadata": {},
   "outputs": [],
   "source": [
    "import pandas as pd\n",
    "import numpy as np\n",
    "from matplotlib import pyplot as plt\n",
    "import statsmodels.api as sm\n",
    "import random\n",
    "import datetime"
   ]
  },
  {
   "cell_type": "code",
   "execution_count": 32,
   "metadata": {},
   "outputs": [],
   "source": [
    "df_BTC = pd.read_pickle('BTC-USD-60.pkl')\n",
    "df_ETH = pd.read_pickle('ETH-USD-60.pkl')\n",
    "df_LTC = pd.read_pickle('LTC-USD-60.pkl')"
   ]
  },
  {
   "cell_type": "code",
   "execution_count": 33,
   "metadata": {},
   "outputs": [],
   "source": [
    "df_BTC['time'] = pd.to_datetime(df_BTC['time'],unit='s')\n",
    "df_ETH['time'] = pd.to_datetime(df_ETH['time'],unit='s')\n",
    "df_LTC['time'] = pd.to_datetime(df_LTC['time'],unit='s')"
   ]
  },
  {
   "cell_type": "markdown",
   "metadata": {},
   "source": [
    "# Construct BTC dataframe with 6 attributes"
   ]
  },
  {
   "cell_type": "code",
   "execution_count": 4,
   "metadata": {},
   "outputs": [
    {
     "data": {
      "text/html": [
       "<div>\n",
       "<style scoped>\n",
       "    .dataframe tbody tr th:only-of-type {\n",
       "        vertical-align: middle;\n",
       "    }\n",
       "\n",
       "    .dataframe tbody tr th {\n",
       "        vertical-align: top;\n",
       "    }\n",
       "\n",
       "    .dataframe thead th {\n",
       "        text-align: right;\n",
       "    }\n",
       "</style>\n",
       "<table border=\"1\" class=\"dataframe\">\n",
       "  <thead>\n",
       "    <tr style=\"text-align: right;\">\n",
       "      <th></th>\n",
       "      <th>time</th>\n",
       "      <th>low</th>\n",
       "      <th>high</th>\n",
       "      <th>open</th>\n",
       "      <th>close</th>\n",
       "      <th>volume</th>\n",
       "    </tr>\n",
       "  </thead>\n",
       "  <tbody>\n",
       "    <tr>\n",
       "      <th>0</th>\n",
       "      <td>2016-01-01 04:59:00</td>\n",
       "      <td>436.12</td>\n",
       "      <td>436.13</td>\n",
       "      <td>436.12</td>\n",
       "      <td>436.12</td>\n",
       "      <td>6.139053</td>\n",
       "    </tr>\n",
       "    <tr>\n",
       "      <th>1</th>\n",
       "      <td>2016-01-01 04:58:00</td>\n",
       "      <td>436.02</td>\n",
       "      <td>436.36</td>\n",
       "      <td>436.02</td>\n",
       "      <td>436.13</td>\n",
       "      <td>0.312749</td>\n",
       "    </tr>\n",
       "    <tr>\n",
       "      <th>2</th>\n",
       "      <td>2016-01-01 04:57:00</td>\n",
       "      <td>436.03</td>\n",
       "      <td>437.12</td>\n",
       "      <td>437.02</td>\n",
       "      <td>436.03</td>\n",
       "      <td>23.060550</td>\n",
       "    </tr>\n",
       "    <tr>\n",
       "      <th>3</th>\n",
       "      <td>2016-01-01 04:56:00</td>\n",
       "      <td>437.02</td>\n",
       "      <td>437.07</td>\n",
       "      <td>437.02</td>\n",
       "      <td>437.07</td>\n",
       "      <td>1.017000</td>\n",
       "    </tr>\n",
       "    <tr>\n",
       "      <th>4</th>\n",
       "      <td>2016-01-01 04:55:00</td>\n",
       "      <td>437.02</td>\n",
       "      <td>437.11</td>\n",
       "      <td>437.11</td>\n",
       "      <td>437.02</td>\n",
       "      <td>1.308700</td>\n",
       "    </tr>\n",
       "  </tbody>\n",
       "</table>\n",
       "</div>"
      ],
      "text/plain": [
       "                 time     low    high    open   close     volume\n",
       "0 2016-01-01 04:59:00  436.12  436.13  436.12  436.12   6.139053\n",
       "1 2016-01-01 04:58:00  436.02  436.36  436.02  436.13   0.312749\n",
       "2 2016-01-01 04:57:00  436.03  437.12  437.02  436.03  23.060550\n",
       "3 2016-01-01 04:56:00  437.02  437.07  437.02  437.07   1.017000\n",
       "4 2016-01-01 04:55:00  437.02  437.11  437.11  437.02   1.308700"
      ]
     },
     "execution_count": 4,
     "metadata": {},
     "output_type": "execute_result"
    }
   ],
   "source": [
    "df_BTC.head()"
   ]
  },
  {
   "cell_type": "code",
   "execution_count": 34,
   "metadata": {},
   "outputs": [
    {
     "data": {
      "text/html": [
       "<div>\n",
       "<style scoped>\n",
       "    .dataframe tbody tr th:only-of-type {\n",
       "        vertical-align: middle;\n",
       "    }\n",
       "\n",
       "    .dataframe tbody tr th {\n",
       "        vertical-align: top;\n",
       "    }\n",
       "\n",
       "    .dataframe thead th {\n",
       "        text-align: right;\n",
       "    }\n",
       "</style>\n",
       "<table border=\"1\" class=\"dataframe\">\n",
       "  <thead>\n",
       "    <tr style=\"text-align: right;\">\n",
       "      <th></th>\n",
       "      <th>time</th>\n",
       "      <th>low</th>\n",
       "      <th>high</th>\n",
       "      <th>open</th>\n",
       "      <th>close</th>\n",
       "      <th>volume</th>\n",
       "    </tr>\n",
       "  </thead>\n",
       "  <tbody>\n",
       "    <tr>\n",
       "      <th>0</th>\n",
       "      <td>2015-12-31 18:59:00</td>\n",
       "      <td>436.12</td>\n",
       "      <td>436.13</td>\n",
       "      <td>436.12</td>\n",
       "      <td>436.12</td>\n",
       "      <td>6.139053</td>\n",
       "    </tr>\n",
       "    <tr>\n",
       "      <th>1</th>\n",
       "      <td>2015-12-31 18:58:00</td>\n",
       "      <td>436.02</td>\n",
       "      <td>436.36</td>\n",
       "      <td>436.02</td>\n",
       "      <td>436.13</td>\n",
       "      <td>0.312749</td>\n",
       "    </tr>\n",
       "    <tr>\n",
       "      <th>2</th>\n",
       "      <td>2015-12-31 18:57:00</td>\n",
       "      <td>436.03</td>\n",
       "      <td>437.12</td>\n",
       "      <td>437.02</td>\n",
       "      <td>436.03</td>\n",
       "      <td>23.060550</td>\n",
       "    </tr>\n",
       "    <tr>\n",
       "      <th>3</th>\n",
       "      <td>2015-12-31 18:56:00</td>\n",
       "      <td>437.02</td>\n",
       "      <td>437.07</td>\n",
       "      <td>437.02</td>\n",
       "      <td>437.07</td>\n",
       "      <td>1.017000</td>\n",
       "    </tr>\n",
       "    <tr>\n",
       "      <th>4</th>\n",
       "      <td>2015-12-31 18:55:00</td>\n",
       "      <td>437.02</td>\n",
       "      <td>437.11</td>\n",
       "      <td>437.11</td>\n",
       "      <td>437.02</td>\n",
       "      <td>1.308700</td>\n",
       "    </tr>\n",
       "  </tbody>\n",
       "</table>\n",
       "</div>"
      ],
      "text/plain": [
       "                 time     low    high    open   close     volume\n",
       "0 2015-12-31 18:59:00  436.12  436.13  436.12  436.12   6.139053\n",
       "1 2015-12-31 18:58:00  436.02  436.36  436.02  436.13   0.312749\n",
       "2 2015-12-31 18:57:00  436.03  437.12  437.02  436.03  23.060550\n",
       "3 2015-12-31 18:56:00  437.02  437.07  437.02  437.07   1.017000\n",
       "4 2015-12-31 18:55:00  437.02  437.11  437.11  437.02   1.308700"
      ]
     },
     "execution_count": 34,
     "metadata": {},
     "output_type": "execute_result"
    }
   ],
   "source": [
    "df_BTC.time = df_BTC.time - datetime.timedelta(hours=10)\n",
    "df_BTC.head()"
   ]
  },
  {
   "cell_type": "code",
   "execution_count": 35,
   "metadata": {},
   "outputs": [],
   "source": [
    "df_BTC.time = pd.DatetimeIndex(df_BTC.time) \n",
    "df_BTC=df_BTC.set_index('time')\n",
    "df_BTC=df_BTC.sort_index()"
   ]
  },
  {
   "cell_type": "code",
   "execution_count": 36,
   "metadata": {},
   "outputs": [],
   "source": [
    "daily_grouped = df_BTC.groupby(pd.Grouper(freq='D')) # after this grouping, becomes series\n",
    "daily_volume = daily_grouped.volume.sum()\n",
    "daily_mean = daily_grouped.open.mean()\n",
    "daily_high = daily_grouped.high.max()\n",
    "daily_low = daily_grouped.low.min()\n",
    "daily_weighted_mean = daily_grouped.apply(lambda dfx: (dfx[\"open\"] * dfx[\"volume\"]).sum() / dfx[\"volume\"].sum())\n"
   ]
  },
  {
   "cell_type": "code",
   "execution_count": 37,
   "metadata": {},
   "outputs": [],
   "source": [
    "daily_volume = daily_volume.reset_index().set_index('time') # from time series back to df\n",
    "daily_mean = daily_mean.reset_index().set_index('time')\n",
    "daily_high = daily_high.reset_index().set_index('time')\n",
    "daily_low = daily_low.reset_index().set_index('time')\n",
    "daily_weighted_mean = daily_weighted_mean.rename('BTC_weighted_mean').reset_index().set_index('time')"
   ]
  },
  {
   "cell_type": "code",
   "execution_count": 38,
   "metadata": {},
   "outputs": [],
   "source": [
    "df_daily_BTC = pd.concat([daily_high, daily_low, daily_volume, daily_mean, daily_weighted_mean], axis=1)\n",
    "df_daily_BTC['BTC_percent_change'] = daily_mean.pct_change()"
   ]
  },
  {
   "cell_type": "code",
   "execution_count": 39,
   "metadata": {},
   "outputs": [],
   "source": [
    "df_daily_BTC = df_daily_BTC.rename(columns={'high':'BTC_high', 'low':'BTC_low', 'volume':'BTC_volume', 'open':'BTC_mean'})"
   ]
  },
  {
   "cell_type": "markdown",
   "metadata": {},
   "source": [
    "# Construct ETH dataframe"
   ]
  },
  {
   "cell_type": "code",
   "execution_count": 40,
   "metadata": {},
   "outputs": [
    {
     "name": "stderr",
     "output_type": "stream",
     "text": [
      "/home/yicheng/.local/lib/python3.5/site-packages/ipykernel_launcher.py:11: RuntimeWarning: invalid value encountered in double_scalars\n",
      "  # This is added back by InteractiveShellApp.init_path()\n"
     ]
    }
   ],
   "source": [
    "df_ETH.time = df_ETH.time - datetime.timedelta(hours=10)\n",
    "df_ETH.time = pd.DatetimeIndex(df_ETH.time) \n",
    "df_ETH=df_ETH.set_index('time')\n",
    "df_ETH=df_ETH.sort_index()\n",
    "\n",
    "daily_grouped = df_ETH.groupby(pd.Grouper(freq='D')) # after this grouping, becomes series\n",
    "daily_volume = daily_grouped.volume.sum()\n",
    "daily_mean = daily_grouped.open.mean()\n",
    "daily_high = daily_grouped.high.max()\n",
    "daily_low = daily_grouped.low.min()\n",
    "daily_weighted_mean = daily_grouped.apply(lambda dfx: (dfx[\"open\"] * dfx[\"volume\"]).sum() / dfx[\"volume\"].sum())\n",
    "\n",
    "daily_volume = daily_volume.reset_index().set_index('time') # from time series back to df\n",
    "daily_mean = daily_mean.reset_index().set_index('time')\n",
    "daily_high = daily_high.reset_index().set_index('time')\n",
    "daily_low = daily_low.reset_index().set_index('time')\n",
    "daily_weighted_mean = daily_weighted_mean.rename('ETH_weighted_mean').reset_index().set_index('time')\n",
    "\n",
    "daily_volume = daily_volume.interpolate()\n",
    "daily_mean = daily_mean.interpolate()\n",
    "daily_high = daily_high.interpolate()\n",
    "daily_low = daily_low.interpolate()\n",
    "daily_weighted_mean = daily_weighted_mean.interpolate()\n",
    "\n",
    "df_daily_ETH = pd.concat([daily_high, daily_low, daily_volume, daily_mean, daily_weighted_mean], axis=1)\n",
    "df_daily_ETH['ETH_percent_change'] = daily_mean.pct_change()\n",
    "\n",
    "df_daily_ETH = df_daily_ETH.rename(columns={'high':'ETH_high', 'low':'ETH_low', 'volume':'ETH_volume', 'open':'ETH_mean'})"
   ]
  },
  {
   "cell_type": "code",
   "execution_count": 30,
   "metadata": {},
   "outputs": [
    {
     "data": {
      "text/plain": [
       "ETH_high              0\n",
       "ETH_low               0\n",
       "ETH_volume            0\n",
       "ETH_mean              0\n",
       "ETH_weighted_mean     0\n",
       "ETH_percent_change    1\n",
       "dtype: int64"
      ]
     },
     "execution_count": 30,
     "metadata": {},
     "output_type": "execute_result"
    }
   ],
   "source": [
    "df_daily_ETH.isnull().sum()"
   ]
  },
  {
   "cell_type": "markdown",
   "metadata": {},
   "source": [
    "# Construct LTC dataframe"
   ]
  },
  {
   "cell_type": "code",
   "execution_count": 31,
   "metadata": {},
   "outputs": [],
   "source": [
    "df_LTC.time = df_LTC.time - datetime.timedelta(hours=10)\n",
    "df_LTC.time = pd.DatetimeIndex(df_LTC.time) \n",
    "df_LTC=df_LTC.set_index('time')\n",
    "df_LTC=df_LTC.sort_index()\n",
    "\n",
    "daily_grouped = df_LTC.groupby(pd.Grouper(freq='D')) # after this grouping, becomes series\n",
    "daily_volume = daily_grouped.volume.sum()\n",
    "daily_mean = daily_grouped.open.mean()\n",
    "daily_high = daily_grouped.high.max()\n",
    "daily_low = daily_grouped.low.min()"
   ]
  },
  {
   "cell_type": "code",
   "execution_count": 14,
   "metadata": {},
   "outputs": [
    {
     "name": "stderr",
     "output_type": "stream",
     "text": [
      "/home/yicheng/.local/lib/python3.5/site-packages/ipykernel_launcher.py:1: RuntimeWarning: invalid value encountered in double_scalars\n",
      "  \"\"\"Entry point for launching an IPython kernel.\n"
     ]
    }
   ],
   "source": [
    "daily_weighted_mean = daily_grouped.apply(lambda dfx: (dfx[\"open\"] * dfx[\"volume\"]).sum() / dfx[\"volume\"].sum())\n",
    "\n",
    "daily_volume = daily_volume.reset_index().set_index('time') # from time series back to df\n",
    "daily_mean = daily_mean.reset_index().set_index('time')\n",
    "daily_high = daily_high.reset_index().set_index('time')\n",
    "daily_low = daily_low.reset_index().set_index('time')\n",
    "daily_weighted_mean = daily_weighted_mean.rename('LTC_weighted_mean').reset_index().set_index('time')\n",
    "\n",
    "daily_volume = daily_volume.interpolate()\n",
    "daily_mean = daily_mean.interpolate()\n",
    "daily_high = daily_high.interpolate()\n",
    "daily_low = daily_low.interpolate()\n",
    "daily_weighted_mean = daily_weighted_mean.interpolate()\n",
    "\n",
    "df_daily_LTC = pd.concat([daily_high, daily_low, daily_volume, daily_mean, daily_weighted_mean], axis=1)\n",
    "df_daily_LTC['LTC_percent_change'] = daily_mean.pct_change()\n",
    "\n",
    "df_daily_LTC = df_daily_LTC.rename(columns={'high':'LTC_high', 'low':'LTC_low', 'volume':'LTC_volume', 'open':'LTC_mean'})"
   ]
  },
  {
   "cell_type": "code",
   "execution_count": 15,
   "metadata": {},
   "outputs": [
    {
     "data": {
      "text/plain": [
       "LTC_high              0\n",
       "LTC_low               0\n",
       "LTC_volume            0\n",
       "LTC_mean              0\n",
       "LTC_weighted_mean     0\n",
       "LTC_percent_change    1\n",
       "dtype: int64"
      ]
     },
     "execution_count": 15,
     "metadata": {},
     "output_type": "execute_result"
    }
   ],
   "source": [
    "df_daily_LTC.isnull().sum()"
   ]
  },
  {
   "cell_type": "markdown",
   "metadata": {},
   "source": [
    "# Concat and write to file"
   ]
  },
  {
   "cell_type": "code",
   "execution_count": 16,
   "metadata": {},
   "outputs": [],
   "source": [
    "df_daily = df_daily_BTC.join(df_daily_ETH).join(df_daily_LTC)"
   ]
  },
  {
   "cell_type": "code",
   "execution_count": 17,
   "metadata": {},
   "outputs": [
    {
     "data": {
      "text/plain": [
       "DatetimeIndex(['2015-12-31', '2016-01-01', '2016-01-02', '2016-01-03',\n",
       "               '2016-01-04', '2016-01-05', '2016-01-06', '2016-01-07',\n",
       "               '2016-01-08', '2016-01-09',\n",
       "               ...\n",
       "               '2018-03-25', '2018-03-26', '2018-03-27', '2018-03-28',\n",
       "               '2018-03-29', '2018-03-30', '2018-03-31', '2018-04-01',\n",
       "               '2018-04-02', '2018-04-03'],\n",
       "              dtype='datetime64[ns]', name='time', length=825, freq='D')"
      ]
     },
     "execution_count": 17,
     "metadata": {},
     "output_type": "execute_result"
    }
   ],
   "source": [
    "df_daily.index"
   ]
  },
  {
   "cell_type": "code",
   "execution_count": 18,
   "metadata": {},
   "outputs": [
    {
     "data": {
      "text/plain": [
       "BTC_high                0\n",
       "BTC_low                 0\n",
       "BTC_volume              0\n",
       "BTC_mean                0\n",
       "BTC_weighted_mean       0\n",
       "BTC_percent_change      1\n",
       "ETH_high              140\n",
       "ETH_low               140\n",
       "ETH_volume            138\n",
       "ETH_mean              140\n",
       "ETH_weighted_mean     140\n",
       "ETH_percent_change    141\n",
       "LTC_high              229\n",
       "LTC_low               229\n",
       "LTC_volume            229\n",
       "LTC_mean              229\n",
       "LTC_weighted_mean     229\n",
       "LTC_percent_change    230\n",
       "dtype: int64"
      ]
     },
     "execution_count": 18,
     "metadata": {},
     "output_type": "execute_result"
    }
   ],
   "source": [
    "df_daily.isnull().sum()"
   ]
  },
  {
   "cell_type": "code",
   "execution_count": 56,
   "metadata": {},
   "outputs": [],
   "source": [
    "df_daily.to_pickle('df_daily_interpolated.pickle')"
   ]
  }
 ],
 "metadata": {
  "kernelspec": {
   "display_name": "Python 3",
   "language": "python",
   "name": "python3"
  },
  "language_info": {
   "codemirror_mode": {
    "name": "ipython",
    "version": 3
   },
   "file_extension": ".py",
   "mimetype": "text/x-python",
   "name": "python",
   "nbconvert_exporter": "python",
   "pygments_lexer": "ipython3",
   "version": "3.5.2"
  }
 },
 "nbformat": 4,
 "nbformat_minor": 2
}
