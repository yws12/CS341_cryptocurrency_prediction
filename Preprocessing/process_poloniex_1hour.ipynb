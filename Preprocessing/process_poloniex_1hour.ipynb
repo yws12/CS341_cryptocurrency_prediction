{
 "cells": [
  {
   "cell_type": "code",
   "execution_count": 1,
   "metadata": {},
   "outputs": [],
   "source": [
    "import pandas as pd\n",
    "import numpy as np\n",
    "from matplotlib import pyplot as plt\n",
    "import random"
   ]
  },
  {
   "cell_type": "code",
   "execution_count": 27,
   "metadata": {},
   "outputs": [],
   "source": [
    "def generate_currency_pair_df(path,pairname):\n",
    "    pair_df = pd.read_csv(path,index_col = 0)\n",
    "    pair_df['time'] = pd.to_datetime(pair_df['date'],unit='s')\n",
    "    pair_df.drop(['date'],1,inplace=True)\n",
    "    pair_df.time = pd.DatetimeIndex(pair_df.time) \n",
    "    pair_df = pair_df.set_index('time')\n",
    "    pair_df.sort_index()\n",
    "    hourly_pair_grouped = pair_df.groupby(pd.Grouper(freq='H'),) # after this grouping, becomes series\n",
    "    hourly_pair_volume = hourly_pair_grouped.volume.sum()\n",
    "    hourly_pair_qvolume = hourly_pair_grouped.quoteVolume.sum()\n",
    "    hourly_pair_close = hourly_pair_grouped.close.mean()\n",
    "    hourly_pair_open = hourly_pair_grouped.open.mean()\n",
    "    hourly_pair_high = hourly_pair_grouped.high.max()\n",
    "    hourly_pair_low = hourly_pair_grouped.low.min()\n",
    "    hourly_weighted_mean = hourly_pair_grouped.apply(lambda dfx: (dfx[\"weightedAverage\"] * dfx[\"volume\"]).sum() / dfx[\"volume\"].sum())\n",
    "    hourly_weighted_mean = hourly_weighted_mean.rename(pairname+'_weighted_mean').reset_index().set_index('time')\n",
    "    hourly_pair = pd.concat([hourly_pair_high, hourly_pair_low, hourly_pair_close, hourly_pair_open,hourly_pair_volume,hourly_pair_qvolume, hourly_weighted_mean],axis = 1)\n",
    "    hourly_pair = hourly_pair.rename(columns={'high':pairname+'_high', 'low':pairname+'_low', \\\n",
    "                                            'volume':pairname+'_volume', 'close':pairname+'_close',\\\n",
    "                                             'open':pairname+'_open',  'quoteVolume':pairname+'_quoteVolume',})\n",
    "    hourly_pair.replace([np.inf, -np.inf], np.nan)\n",
    "    hourly_pair = hourly_pair.interpolate()\n",
    "    hourly_pair = hourly_pair.dropna()\n",
    "    hourly_pair[pairname+'_pctChange']=hourly_pair[pairname+'_weighted_mean'].pct_change()\n",
    "    hourly_pair = hourly_pair.dropna()\n",
    "    return hourly_pair"
   ]
  },
  {
   "cell_type": "code",
   "execution_count": 28,
   "metadata": {},
   "outputs": [
    {
     "name": "stderr",
     "output_type": "stream",
     "text": [
      "/usr/local/lib/python3.6/site-packages/ipykernel_launcher.py:15: RuntimeWarning: invalid value encountered in double_scalars\n",
      "  from ipykernel import kernelapp as app\n"
     ]
    },
    {
     "data": {
      "text/html": [
       "<div>\n",
       "<style scoped>\n",
       "    .dataframe tbody tr th:only-of-type {\n",
       "        vertical-align: middle;\n",
       "    }\n",
       "\n",
       "    .dataframe tbody tr th {\n",
       "        vertical-align: top;\n",
       "    }\n",
       "\n",
       "    .dataframe thead th {\n",
       "        text-align: right;\n",
       "    }\n",
       "</style>\n",
       "<table border=\"1\" class=\"dataframe\">\n",
       "  <thead>\n",
       "    <tr style=\"text-align: right;\">\n",
       "      <th></th>\n",
       "      <th>USDT_BTC_high</th>\n",
       "      <th>USDT_BTC_low</th>\n",
       "      <th>USDT_BTC_close</th>\n",
       "      <th>USDT_BTC_open</th>\n",
       "      <th>USDT_BTC_volume</th>\n",
       "      <th>USDT_BTC_quoteVolume</th>\n",
       "      <th>USDT_BTC_weighted_mean</th>\n",
       "      <th>USDT_BTC_pctChange</th>\n",
       "    </tr>\n",
       "    <tr>\n",
       "      <th>time</th>\n",
       "      <th></th>\n",
       "      <th></th>\n",
       "      <th></th>\n",
       "      <th></th>\n",
       "      <th></th>\n",
       "      <th></th>\n",
       "      <th></th>\n",
       "      <th></th>\n",
       "    </tr>\n",
       "  </thead>\n",
       "  <tbody>\n",
       "    <tr>\n",
       "      <th>2016-01-01 10:00:00</th>\n",
       "      <td>431.76</td>\n",
       "      <td>431.76</td>\n",
       "      <td>431.760000</td>\n",
       "      <td>431.760000</td>\n",
       "      <td>38.438328</td>\n",
       "      <td>0.089027</td>\n",
       "      <td>431.760000</td>\n",
       "      <td>0.001996</td>\n",
       "    </tr>\n",
       "    <tr>\n",
       "      <th>2016-01-01 11:00:00</th>\n",
       "      <td>432.62</td>\n",
       "      <td>431.76</td>\n",
       "      <td>432.548333</td>\n",
       "      <td>432.548333</td>\n",
       "      <td>16.616274</td>\n",
       "      <td>0.038485</td>\n",
       "      <td>431.765150</td>\n",
       "      <td>0.000012</td>\n",
       "    </tr>\n",
       "    <tr>\n",
       "      <th>2016-01-01 12:00:00</th>\n",
       "      <td>432.62</td>\n",
       "      <td>431.76</td>\n",
       "      <td>431.975000</td>\n",
       "      <td>431.975000</td>\n",
       "      <td>6.124615</td>\n",
       "      <td>0.014185</td>\n",
       "      <td>431.760000</td>\n",
       "      <td>-0.000012</td>\n",
       "    </tr>\n",
       "    <tr>\n",
       "      <th>2016-01-01 13:00:00</th>\n",
       "      <td>432.62</td>\n",
       "      <td>431.76</td>\n",
       "      <td>432.405000</td>\n",
       "      <td>432.405000</td>\n",
       "      <td>1849.916809</td>\n",
       "      <td>4.284399</td>\n",
       "      <td>431.779778</td>\n",
       "      <td>0.000046</td>\n",
       "    </tr>\n",
       "    <tr>\n",
       "      <th>2016-01-01 14:00:00</th>\n",
       "      <td>431.76</td>\n",
       "      <td>429.12</td>\n",
       "      <td>430.654167</td>\n",
       "      <td>430.655000</td>\n",
       "      <td>146.046809</td>\n",
       "      <td>0.338305</td>\n",
       "      <td>431.701385</td>\n",
       "      <td>-0.000182</td>\n",
       "    </tr>\n",
       "  </tbody>\n",
       "</table>\n",
       "</div>"
      ],
      "text/plain": [
       "                     USDT_BTC_high  USDT_BTC_low  USDT_BTC_close  \\\n",
       "time                                                               \n",
       "2016-01-01 10:00:00         431.76        431.76      431.760000   \n",
       "2016-01-01 11:00:00         432.62        431.76      432.548333   \n",
       "2016-01-01 12:00:00         432.62        431.76      431.975000   \n",
       "2016-01-01 13:00:00         432.62        431.76      432.405000   \n",
       "2016-01-01 14:00:00         431.76        429.12      430.654167   \n",
       "\n",
       "                     USDT_BTC_open  USDT_BTC_volume  USDT_BTC_quoteVolume  \\\n",
       "time                                                                        \n",
       "2016-01-01 10:00:00     431.760000        38.438328              0.089027   \n",
       "2016-01-01 11:00:00     432.548333        16.616274              0.038485   \n",
       "2016-01-01 12:00:00     431.975000         6.124615              0.014185   \n",
       "2016-01-01 13:00:00     432.405000      1849.916809              4.284399   \n",
       "2016-01-01 14:00:00     430.655000       146.046809              0.338305   \n",
       "\n",
       "                     USDT_BTC_weighted_mean  USDT_BTC_pctChange  \n",
       "time                                                             \n",
       "2016-01-01 10:00:00              431.760000            0.001996  \n",
       "2016-01-01 11:00:00              431.765150            0.000012  \n",
       "2016-01-01 12:00:00              431.760000           -0.000012  \n",
       "2016-01-01 13:00:00              431.779778            0.000046  \n",
       "2016-01-01 14:00:00              431.701385           -0.000182  "
      ]
     },
     "execution_count": 28,
     "metadata": {},
     "output_type": "execute_result"
    }
   ],
   "source": [
    "df1 = generate_currency_pair_df('../cs341/poloniex/USDT_BTC.csv','USDT_BTC')\n",
    "df1.head()"
   ]
  },
  {
   "cell_type": "code",
   "execution_count": 22,
   "metadata": {},
   "outputs": [
    {
     "data": {
      "text/html": [
       "<div>\n",
       "<style scoped>\n",
       "    .dataframe tbody tr th:only-of-type {\n",
       "        vertical-align: middle;\n",
       "    }\n",
       "\n",
       "    .dataframe tbody tr th {\n",
       "        vertical-align: top;\n",
       "    }\n",
       "\n",
       "    .dataframe thead th {\n",
       "        text-align: right;\n",
       "    }\n",
       "</style>\n",
       "<table border=\"1\" class=\"dataframe\">\n",
       "  <thead>\n",
       "    <tr style=\"text-align: right;\">\n",
       "      <th></th>\n",
       "      <th>USDT_BTC_high</th>\n",
       "      <th>USDT_BTC_low</th>\n",
       "      <th>USDT_BTC_close</th>\n",
       "      <th>USDT_BTC_open</th>\n",
       "      <th>USDT_BTC_volume</th>\n",
       "      <th>USDT_BTC_quoteVolume</th>\n",
       "      <th>USDT_BTC_weighted_mean</th>\n",
       "      <th>USDT_BTC_pctChange</th>\n",
       "    </tr>\n",
       "    <tr>\n",
       "      <th>time</th>\n",
       "      <th></th>\n",
       "      <th></th>\n",
       "      <th></th>\n",
       "      <th></th>\n",
       "      <th></th>\n",
       "      <th></th>\n",
       "      <th></th>\n",
       "      <th></th>\n",
       "    </tr>\n",
       "  </thead>\n",
       "  <tbody>\n",
       "    <tr>\n",
       "      <th>2016-01-01 08:00:00</th>\n",
       "      <td>433.010137</td>\n",
       "      <td>433.010137</td>\n",
       "      <td>433.010137</td>\n",
       "      <td>433.010137</td>\n",
       "      <td>0.000000</td>\n",
       "      <td>0.000000</td>\n",
       "      <td>NaN</td>\n",
       "      <td>NaN</td>\n",
       "    </tr>\n",
       "    <tr>\n",
       "      <th>2016-01-01 09:00:00</th>\n",
       "      <td>433.010137</td>\n",
       "      <td>430.900000</td>\n",
       "      <td>431.251690</td>\n",
       "      <td>431.251690</td>\n",
       "      <td>26.826007</td>\n",
       "      <td>0.062256</td>\n",
       "      <td>430.900001</td>\n",
       "      <td>NaN</td>\n",
       "    </tr>\n",
       "  </tbody>\n",
       "</table>\n",
       "</div>"
      ],
      "text/plain": [
       "                     USDT_BTC_high  USDT_BTC_low  USDT_BTC_close  \\\n",
       "time                                                               \n",
       "2016-01-01 08:00:00     433.010137    433.010137      433.010137   \n",
       "2016-01-01 09:00:00     433.010137    430.900000      431.251690   \n",
       "\n",
       "                     USDT_BTC_open  USDT_BTC_volume  USDT_BTC_quoteVolume  \\\n",
       "time                                                                        \n",
       "2016-01-01 08:00:00     433.010137         0.000000              0.000000   \n",
       "2016-01-01 09:00:00     431.251690        26.826007              0.062256   \n",
       "\n",
       "                     USDT_BTC_weighted_mean  USDT_BTC_pctChange  \n",
       "time                                                             \n",
       "2016-01-01 08:00:00                     NaN                 NaN  \n",
       "2016-01-01 09:00:00              430.900001                 NaN  "
      ]
     },
     "execution_count": 22,
     "metadata": {},
     "output_type": "execute_result"
    }
   ],
   "source": [
    "nan_rows = df1[df1.isnull().T.any().T]\n",
    "nan_rows"
   ]
  },
  {
   "cell_type": "code",
   "execution_count": 19,
   "metadata": {},
   "outputs": [
    {
     "data": {
      "text/plain": [
       "['USDT_BTC_weighted_mean', 'USDT_BTC_pctChange']"
      ]
     },
     "execution_count": 19,
     "metadata": {},
     "output_type": "execute_result"
    }
   ],
   "source": [
    "nan_rows.columns[nan_rows.isna().any()].tolist()"
   ]
  },
  {
   "cell_type": "code",
   "execution_count": 29,
   "metadata": {},
   "outputs": [
    {
     "name": "stderr",
     "output_type": "stream",
     "text": [
      "/usr/local/lib/python3.6/site-packages/ipykernel_launcher.py:15: RuntimeWarning: invalid value encountered in double_scalars\n",
      "  from ipykernel import kernelapp as app\n"
     ]
    }
   ],
   "source": [
    "df2 = generate_currency_pair_df('../cs341/poloniex/USDT_ETH.csv','USDT_ETH')\n",
    "df3 = generate_currency_pair_df('../cs341/poloniex/USDT_LTC.csv','USDT_LTC')\n",
    "df4 = generate_currency_pair_df('../cs341/poloniex/USDT_XRP.csv','USDT_XRP')\n",
    "df5 = generate_currency_pair_df('../cs341/poloniex/BTC_ETH.csv','BTC_ETH')\n",
    "df6 = generate_currency_pair_df('../cs341/poloniex/BTC_LTC.csv','BTC_LTC')\n",
    "df7 = generate_currency_pair_df('../cs341/poloniex/BTC_XRP.csv','BTC_XRP')\n"
   ]
  },
  {
   "cell_type": "code",
   "execution_count": 30,
   "metadata": {},
   "outputs": [],
   "source": [
    "df_hourly_4_currency = df1.join(df2).join(df3).join(df4).join(df5).join(df6).join(df7)"
   ]
  },
  {
   "cell_type": "code",
   "execution_count": null,
   "metadata": {},
   "outputs": [],
   "source": []
  }
 ],
 "metadata": {
  "kernelspec": {
   "display_name": "Python 3",
   "language": "python",
   "name": "python3"
  },
  "language_info": {
   "codemirror_mode": {
    "name": "ipython",
    "version": 3
   },
   "file_extension": ".py",
   "mimetype": "text/x-python",
   "name": "python",
   "nbconvert_exporter": "python",
   "pygments_lexer": "ipython3",
   "version": "3.6.5"
  }
 },
 "nbformat": 4,
 "nbformat_minor": 2
}
