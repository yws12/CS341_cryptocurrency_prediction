{
 "cells": [
  {
   "cell_type": "code",
   "execution_count": 1,
   "metadata": {},
   "outputs": [
    {
     "name": "stderr",
     "output_type": "stream",
     "text": [
      "/home/yicheng/.local/lib/python3.5/site-packages/statsmodels/compat/pandas.py:56: FutureWarning: The pandas.core.datetools module is deprecated and will be removed in a future version. Please use the pandas.tseries module instead.\n",
      "  from pandas.core import datetools\n"
     ]
    }
   ],
   "source": [
    "__author__ = 'Yicheng Li'\n",
    "\n",
    "import pandas as pd\n",
    "import numpy as np\n",
    "from matplotlib import pyplot as plt\n",
    "import statsmodels.api as sm\n",
    "import random\n",
    "import datetime\n",
    "\n",
    "dir_path = 'Data/Poloniex/'"
   ]
  },
  {
   "cell_type": "code",
   "execution_count": 2,
   "metadata": {},
   "outputs": [],
   "source": [
    "df = pd.read_pickle(dir_path+'df_5min.pkl')"
   ]
  },
  {
   "cell_type": "code",
   "execution_count": 3,
   "metadata": {},
   "outputs": [
    {
     "data": {
      "text/html": [
       "<div>\n",
       "<style scoped>\n",
       "    .dataframe tbody tr th:only-of-type {\n",
       "        vertical-align: middle;\n",
       "    }\n",
       "\n",
       "    .dataframe tbody tr th {\n",
       "        vertical-align: top;\n",
       "    }\n",
       "\n",
       "    .dataframe thead th {\n",
       "        text-align: right;\n",
       "    }\n",
       "</style>\n",
       "<table border=\"1\" class=\"dataframe\">\n",
       "  <thead>\n",
       "    <tr style=\"text-align: right;\">\n",
       "      <th></th>\n",
       "      <th>USDT_BTC_close</th>\n",
       "      <th>USDT_BTC_high</th>\n",
       "      <th>USDT_BTC_low</th>\n",
       "      <th>USDT_BTC_open</th>\n",
       "      <th>USDT_BTC_quoteVolume</th>\n",
       "      <th>USDT_BTC_volume</th>\n",
       "      <th>USDT_BTC_weightedAverage</th>\n",
       "      <th>USDT_BTC_pctChange</th>\n",
       "      <th>BTC_ETH_close</th>\n",
       "      <th>BTC_ETH_high</th>\n",
       "      <th>...</th>\n",
       "      <th>BTC_LTC_weightedAverage</th>\n",
       "      <th>BTC_LTC_pctChange</th>\n",
       "      <th>BTC_XRP_close</th>\n",
       "      <th>BTC_XRP_high</th>\n",
       "      <th>BTC_XRP_low</th>\n",
       "      <th>BTC_XRP_open</th>\n",
       "      <th>BTC_XRP_quoteVolume</th>\n",
       "      <th>BTC_XRP_volume</th>\n",
       "      <th>BTC_XRP_weightedAverage</th>\n",
       "      <th>BTC_XRP_pctChange</th>\n",
       "    </tr>\n",
       "    <tr>\n",
       "      <th>time</th>\n",
       "      <th></th>\n",
       "      <th></th>\n",
       "      <th></th>\n",
       "      <th></th>\n",
       "      <th></th>\n",
       "      <th></th>\n",
       "      <th></th>\n",
       "      <th></th>\n",
       "      <th></th>\n",
       "      <th></th>\n",
       "      <th></th>\n",
       "      <th></th>\n",
       "      <th></th>\n",
       "      <th></th>\n",
       "      <th></th>\n",
       "      <th></th>\n",
       "      <th></th>\n",
       "      <th></th>\n",
       "      <th></th>\n",
       "      <th></th>\n",
       "      <th></th>\n",
       "    </tr>\n",
       "  </thead>\n",
       "  <tbody>\n",
       "    <tr>\n",
       "      <th>2016-01-01 08:00:00</th>\n",
       "      <td>433.010137</td>\n",
       "      <td>433.010137</td>\n",
       "      <td>433.010137</td>\n",
       "      <td>433.010137</td>\n",
       "      <td>0.0</td>\n",
       "      <td>0.0</td>\n",
       "      <td>433.010137</td>\n",
       "      <td>0.0</td>\n",
       "      <td>0.002174</td>\n",
       "      <td>0.002177</td>\n",
       "      <td>...</td>\n",
       "      <td>0.008078</td>\n",
       "      <td>0.000000</td>\n",
       "      <td>0.000014</td>\n",
       "      <td>0.000014</td>\n",
       "      <td>0.000014</td>\n",
       "      <td>0.000014</td>\n",
       "      <td>0.000000</td>\n",
       "      <td>0.000000</td>\n",
       "      <td>0.000014</td>\n",
       "      <td>0.000000</td>\n",
       "    </tr>\n",
       "    <tr>\n",
       "      <th>2016-01-01 08:05:00</th>\n",
       "      <td>433.010137</td>\n",
       "      <td>433.010137</td>\n",
       "      <td>433.010137</td>\n",
       "      <td>433.010137</td>\n",
       "      <td>0.0</td>\n",
       "      <td>0.0</td>\n",
       "      <td>433.010137</td>\n",
       "      <td>0.0</td>\n",
       "      <td>0.002177</td>\n",
       "      <td>0.002177</td>\n",
       "      <td>...</td>\n",
       "      <td>0.008079</td>\n",
       "      <td>0.000089</td>\n",
       "      <td>0.000014</td>\n",
       "      <td>0.000014</td>\n",
       "      <td>0.000014</td>\n",
       "      <td>0.000014</td>\n",
       "      <td>980.096150</td>\n",
       "      <td>0.013429</td>\n",
       "      <td>0.000014</td>\n",
       "      <td>0.005136</td>\n",
       "    </tr>\n",
       "    <tr>\n",
       "      <th>2016-01-01 08:10:00</th>\n",
       "      <td>433.010137</td>\n",
       "      <td>433.010137</td>\n",
       "      <td>433.010137</td>\n",
       "      <td>433.010137</td>\n",
       "      <td>0.0</td>\n",
       "      <td>0.0</td>\n",
       "      <td>433.010137</td>\n",
       "      <td>0.0</td>\n",
       "      <td>0.002175</td>\n",
       "      <td>0.002175</td>\n",
       "      <td>...</td>\n",
       "      <td>0.008079</td>\n",
       "      <td>0.000000</td>\n",
       "      <td>0.000014</td>\n",
       "      <td>0.000014</td>\n",
       "      <td>0.000014</td>\n",
       "      <td>0.000014</td>\n",
       "      <td>657.512017</td>\n",
       "      <td>0.009028</td>\n",
       "      <td>0.000014</td>\n",
       "      <td>0.002190</td>\n",
       "    </tr>\n",
       "    <tr>\n",
       "      <th>2016-01-01 08:15:00</th>\n",
       "      <td>433.010137</td>\n",
       "      <td>433.010137</td>\n",
       "      <td>433.010137</td>\n",
       "      <td>433.010137</td>\n",
       "      <td>0.0</td>\n",
       "      <td>0.0</td>\n",
       "      <td>433.010137</td>\n",
       "      <td>0.0</td>\n",
       "      <td>0.002174</td>\n",
       "      <td>0.002175</td>\n",
       "      <td>...</td>\n",
       "      <td>0.008079</td>\n",
       "      <td>0.000000</td>\n",
       "      <td>0.000014</td>\n",
       "      <td>0.000014</td>\n",
       "      <td>0.000014</td>\n",
       "      <td>0.000014</td>\n",
       "      <td>862.028200</td>\n",
       "      <td>0.011801</td>\n",
       "      <td>0.000014</td>\n",
       "      <td>-0.002913</td>\n",
       "    </tr>\n",
       "    <tr>\n",
       "      <th>2016-01-01 08:20:00</th>\n",
       "      <td>433.010137</td>\n",
       "      <td>433.010137</td>\n",
       "      <td>433.010137</td>\n",
       "      <td>433.010137</td>\n",
       "      <td>0.0</td>\n",
       "      <td>0.0</td>\n",
       "      <td>433.010137</td>\n",
       "      <td>0.0</td>\n",
       "      <td>0.002174</td>\n",
       "      <td>0.002174</td>\n",
       "      <td>...</td>\n",
       "      <td>0.008079</td>\n",
       "      <td>0.000000</td>\n",
       "      <td>0.000014</td>\n",
       "      <td>0.000014</td>\n",
       "      <td>0.000014</td>\n",
       "      <td>0.000014</td>\n",
       "      <td>5331.418950</td>\n",
       "      <td>0.072934</td>\n",
       "      <td>0.000014</td>\n",
       "      <td>-0.000730</td>\n",
       "    </tr>\n",
       "  </tbody>\n",
       "</table>\n",
       "<p>5 rows × 32 columns</p>\n",
       "</div>"
      ],
      "text/plain": [
       "                     USDT_BTC_close  USDT_BTC_high  USDT_BTC_low  \\\n",
       "time                                                               \n",
       "2016-01-01 08:00:00      433.010137     433.010137    433.010137   \n",
       "2016-01-01 08:05:00      433.010137     433.010137    433.010137   \n",
       "2016-01-01 08:10:00      433.010137     433.010137    433.010137   \n",
       "2016-01-01 08:15:00      433.010137     433.010137    433.010137   \n",
       "2016-01-01 08:20:00      433.010137     433.010137    433.010137   \n",
       "\n",
       "                     USDT_BTC_open  USDT_BTC_quoteVolume  USDT_BTC_volume  \\\n",
       "time                                                                        \n",
       "2016-01-01 08:00:00     433.010137                   0.0              0.0   \n",
       "2016-01-01 08:05:00     433.010137                   0.0              0.0   \n",
       "2016-01-01 08:10:00     433.010137                   0.0              0.0   \n",
       "2016-01-01 08:15:00     433.010137                   0.0              0.0   \n",
       "2016-01-01 08:20:00     433.010137                   0.0              0.0   \n",
       "\n",
       "                     USDT_BTC_weightedAverage  USDT_BTC_pctChange  \\\n",
       "time                                                                \n",
       "2016-01-01 08:00:00                433.010137                 0.0   \n",
       "2016-01-01 08:05:00                433.010137                 0.0   \n",
       "2016-01-01 08:10:00                433.010137                 0.0   \n",
       "2016-01-01 08:15:00                433.010137                 0.0   \n",
       "2016-01-01 08:20:00                433.010137                 0.0   \n",
       "\n",
       "                     BTC_ETH_close  BTC_ETH_high        ...          \\\n",
       "time                                                    ...           \n",
       "2016-01-01 08:00:00       0.002174      0.002177        ...           \n",
       "2016-01-01 08:05:00       0.002177      0.002177        ...           \n",
       "2016-01-01 08:10:00       0.002175      0.002175        ...           \n",
       "2016-01-01 08:15:00       0.002174      0.002175        ...           \n",
       "2016-01-01 08:20:00       0.002174      0.002174        ...           \n",
       "\n",
       "                     BTC_LTC_weightedAverage  BTC_LTC_pctChange  \\\n",
       "time                                                              \n",
       "2016-01-01 08:00:00                 0.008078           0.000000   \n",
       "2016-01-01 08:05:00                 0.008079           0.000089   \n",
       "2016-01-01 08:10:00                 0.008079           0.000000   \n",
       "2016-01-01 08:15:00                 0.008079           0.000000   \n",
       "2016-01-01 08:20:00                 0.008079           0.000000   \n",
       "\n",
       "                     BTC_XRP_close  BTC_XRP_high  BTC_XRP_low  BTC_XRP_open  \\\n",
       "time                                                                          \n",
       "2016-01-01 08:00:00       0.000014      0.000014     0.000014      0.000014   \n",
       "2016-01-01 08:05:00       0.000014      0.000014     0.000014      0.000014   \n",
       "2016-01-01 08:10:00       0.000014      0.000014     0.000014      0.000014   \n",
       "2016-01-01 08:15:00       0.000014      0.000014     0.000014      0.000014   \n",
       "2016-01-01 08:20:00       0.000014      0.000014     0.000014      0.000014   \n",
       "\n",
       "                     BTC_XRP_quoteVolume  BTC_XRP_volume  \\\n",
       "time                                                       \n",
       "2016-01-01 08:00:00             0.000000        0.000000   \n",
       "2016-01-01 08:05:00           980.096150        0.013429   \n",
       "2016-01-01 08:10:00           657.512017        0.009028   \n",
       "2016-01-01 08:15:00           862.028200        0.011801   \n",
       "2016-01-01 08:20:00          5331.418950        0.072934   \n",
       "\n",
       "                     BTC_XRP_weightedAverage  BTC_XRP_pctChange  \n",
       "time                                                             \n",
       "2016-01-01 08:00:00                 0.000014           0.000000  \n",
       "2016-01-01 08:05:00                 0.000014           0.005136  \n",
       "2016-01-01 08:10:00                 0.000014           0.002190  \n",
       "2016-01-01 08:15:00                 0.000014          -0.002913  \n",
       "2016-01-01 08:20:00                 0.000014          -0.000730  \n",
       "\n",
       "[5 rows x 32 columns]"
      ]
     },
     "execution_count": 3,
     "metadata": {},
     "output_type": "execute_result"
    }
   ],
   "source": [
    "df.head()"
   ]
  },
  {
   "cell_type": "code",
   "execution_count": 4,
   "metadata": {},
   "outputs": [
    {
     "data": {
      "text/plain": [
       "array([[<matplotlib.axes._subplots.AxesSubplot object at 0x7efc9ddac550>]],\n",
       "      dtype=object)"
      ]
     },
     "execution_count": 4,
     "metadata": {},
     "output_type": "execute_result"
    },
    {
     "data": {
      "image/png": "[encoded data removed]",
      "text/plain": [
       "<Figure size 432x288 with 1 Axes>"
      ]
     },
     "metadata": {},
     "output_type": "display_data"
    }
   ],
   "source": [
    "df.hist(column='USDT_BTC_pctChange')"
   ]
  },
  {
   "cell_type": "code",
   "execution_count": 12,
   "metadata": {},
   "outputs": [
    {
     "name": "stdout",
     "output_type": "stream",
     "text": [
      "-0.09588161044700527 0.10635845023694057\n"
     ]
    }
   ],
   "source": [
    "min_pct = df['USDT_BTC_pctChange'].min()\n",
    "max_pct = df['USDT_BTC_pctChange'].max()\n",
    "print(min_pct, max_pct)"
   ]
  },
  {
   "cell_type": "code",
   "execution_count": 11,
   "metadata": {},
   "outputs": [
    {
     "data": {
      "text/plain": [
       "(array([4.00000e+00, 3.00000e+00, 2.90000e+01, 7.57000e+02, 2.29503e+05,\n",
       "        9.69500e+03, 1.25000e+02, 1.00000e+01, 3.00000e+00, 5.00000e+00]),\n",
       " array([-0.09588161, -0.0756576 , -0.0554336 , -0.03520959, -0.01498559,\n",
       "         0.00523842,  0.02546243,  0.04568643,  0.06591044,  0.08613444,\n",
       "         0.10635845]),\n",
       " <a list of 10 Patch objects>)"
      ]
     },
     "execution_count": 11,
     "metadata": {},
     "output_type": "execute_result"
    },
    {
     "data": {
      "image/png": "[encoded data removed]",
      "text/plain": [
       "<Figure size 432x288 with 1 Axes>"
      ]
     },
     "metadata": {},
     "output_type": "display_data"
    }
   ],
   "source": [
    "plt.hist(df['USDT_BTC_pctChange'])"
   ]
  },
  {
   "cell_type": "code",
   "execution_count": 19,
   "metadata": {},
   "outputs": [
    {
     "data": {
      "text/plain": [
       "0.9800153247769995"
      ]
     },
     "execution_count": 19,
     "metadata": {},
     "output_type": "execute_result"
    }
   ],
   "source": [
    "(abs(df['USDT_BTC_pctChange']) < 0.01).sum() / len(df)"
   ]
  },
  {
   "cell_type": "code",
   "execution_count": null,
   "metadata": {},
   "outputs": [],
   "source": []
  },
  {
   "cell_type": "code",
   "execution_count": 20,
   "metadata": {},
   "outputs": [],
   "source": [
    "df2 = pd.DataFrame([1,2,3])"
   ]
  },
  {
   "cell_type": "code",
   "execution_count": 22,
   "metadata": {},
   "outputs": [
    {
     "data": {
      "text/html": [
       "<div>\n",
       "<style scoped>\n",
       "    .dataframe tbody tr th:only-of-type {\n",
       "        vertical-align: middle;\n",
       "    }\n",
       "\n",
       "    .dataframe tbody tr th {\n",
       "        vertical-align: top;\n",
       "    }\n",
       "\n",
       "    .dataframe thead th {\n",
       "        text-align: right;\n",
       "    }\n",
       "</style>\n",
       "<table border=\"1\" class=\"dataframe\">\n",
       "  <thead>\n",
       "    <tr style=\"text-align: right;\">\n",
       "      <th></th>\n",
       "      <th>0</th>\n",
       "    </tr>\n",
       "  </thead>\n",
       "  <tbody>\n",
       "    <tr>\n",
       "      <th>0</th>\n",
       "      <td>NaN</td>\n",
       "    </tr>\n",
       "    <tr>\n",
       "      <th>1</th>\n",
       "      <td>1.0</td>\n",
       "    </tr>\n",
       "    <tr>\n",
       "      <th>2</th>\n",
       "      <td>0.5</td>\n",
       "    </tr>\n",
       "  </tbody>\n",
       "</table>\n",
       "</div>"
      ],
      "text/plain": [
       "     0\n",
       "0  NaN\n",
       "1  1.0\n",
       "2  0.5"
      ]
     },
     "execution_count": 22,
     "metadata": {},
     "output_type": "execute_result"
    }
   ],
   "source": [
    "df2.pct_change()"
   ]
  },
  {
   "cell_type": "code",
   "execution_count": 30,
   "metadata": {},
   "outputs": [],
   "source": [
    "df = pd.read_pickle(dir_path+'df_hourly_with_pair.pickle')"
   ]
  },
  {
   "cell_type": "code",
   "execution_count": 31,
   "metadata": {},
   "outputs": [
    {
     "data": {
      "text/html": [
       "<div>\n",
       "<style scoped>\n",
       "    .dataframe tbody tr th:only-of-type {\n",
       "        vertical-align: middle;\n",
       "    }\n",
       "\n",
       "    .dataframe tbody tr th {\n",
       "        vertical-align: top;\n",
       "    }\n",
       "\n",
       "    .dataframe thead th {\n",
       "        text-align: right;\n",
       "    }\n",
       "</style>\n",
       "<table border=\"1\" class=\"dataframe\">\n",
       "  <thead>\n",
       "    <tr style=\"text-align: right;\">\n",
       "      <th></th>\n",
       "      <th>BTC_ETH_high</th>\n",
       "      <th>BTC_ETH_low</th>\n",
       "      <th>BTC_ETH_volume</th>\n",
       "      <th>BTC_ETH_mean</th>\n",
       "      <th>BTC_ETH_quoteVolume</th>\n",
       "      <th>btc_eth_weighted_mean</th>\n",
       "      <th>BTC_LTC_high</th>\n",
       "      <th>BTC_LTC_low</th>\n",
       "      <th>BTC_LTC_volume</th>\n",
       "      <th>BTC_LTC_mean</th>\n",
       "      <th>...</th>\n",
       "      <th>ETH_volume</th>\n",
       "      <th>ETH_mean</th>\n",
       "      <th>ETH_weighted_mean</th>\n",
       "      <th>ETH_percent_change</th>\n",
       "      <th>LTC_high</th>\n",
       "      <th>LTC_low</th>\n",
       "      <th>LTC_volume</th>\n",
       "      <th>LTC_mean</th>\n",
       "      <th>LTC_weighted_mean</th>\n",
       "      <th>LTC_percent_change</th>\n",
       "    </tr>\n",
       "    <tr>\n",
       "      <th>time</th>\n",
       "      <th></th>\n",
       "      <th></th>\n",
       "      <th></th>\n",
       "      <th></th>\n",
       "      <th></th>\n",
       "      <th></th>\n",
       "      <th></th>\n",
       "      <th></th>\n",
       "      <th></th>\n",
       "      <th></th>\n",
       "      <th></th>\n",
       "      <th></th>\n",
       "      <th></th>\n",
       "      <th></th>\n",
       "      <th></th>\n",
       "      <th></th>\n",
       "      <th></th>\n",
       "      <th></th>\n",
       "      <th></th>\n",
       "      <th></th>\n",
       "      <th></th>\n",
       "    </tr>\n",
       "  </thead>\n",
       "  <tbody>\n",
       "    <tr>\n",
       "      <th>2016-01-01 08:00:00</th>\n",
       "      <td>0.002178</td>\n",
       "      <td>0.002174</td>\n",
       "      <td>2.544539</td>\n",
       "      <td>0.002175</td>\n",
       "      <td>1170.394668</td>\n",
       "      <td>0.002174</td>\n",
       "      <td>0.008079</td>\n",
       "      <td>0.008052</td>\n",
       "      <td>0.011620</td>\n",
       "      <td>0.008071</td>\n",
       "      <td>...</td>\n",
       "      <td>NaN</td>\n",
       "      <td>NaN</td>\n",
       "      <td>NaN</td>\n",
       "      <td>NaN</td>\n",
       "      <td>NaN</td>\n",
       "      <td>NaN</td>\n",
       "      <td>NaN</td>\n",
       "      <td>NaN</td>\n",
       "      <td>NaN</td>\n",
       "      <td>NaN</td>\n",
       "    </tr>\n",
       "    <tr>\n",
       "      <th>2016-01-01 09:00:00</th>\n",
       "      <td>0.002179</td>\n",
       "      <td>0.002163</td>\n",
       "      <td>6.528289</td>\n",
       "      <td>0.002169</td>\n",
       "      <td>3011.175035</td>\n",
       "      <td>0.002167</td>\n",
       "      <td>0.008072</td>\n",
       "      <td>0.008052</td>\n",
       "      <td>0.036629</td>\n",
       "      <td>0.008066</td>\n",
       "      <td>...</td>\n",
       "      <td>NaN</td>\n",
       "      <td>NaN</td>\n",
       "      <td>NaN</td>\n",
       "      <td>NaN</td>\n",
       "      <td>NaN</td>\n",
       "      <td>NaN</td>\n",
       "      <td>NaN</td>\n",
       "      <td>NaN</td>\n",
       "      <td>NaN</td>\n",
       "      <td>NaN</td>\n",
       "    </tr>\n",
       "    <tr>\n",
       "      <th>2016-01-01 10:00:00</th>\n",
       "      <td>0.002174</td>\n",
       "      <td>0.002160</td>\n",
       "      <td>1.639960</td>\n",
       "      <td>0.002162</td>\n",
       "      <td>758.664280</td>\n",
       "      <td>0.002161</td>\n",
       "      <td>0.008104</td>\n",
       "      <td>0.008056</td>\n",
       "      <td>0.101427</td>\n",
       "      <td>0.008072</td>\n",
       "      <td>...</td>\n",
       "      <td>NaN</td>\n",
       "      <td>NaN</td>\n",
       "      <td>NaN</td>\n",
       "      <td>NaN</td>\n",
       "      <td>NaN</td>\n",
       "      <td>NaN</td>\n",
       "      <td>NaN</td>\n",
       "      <td>NaN</td>\n",
       "      <td>NaN</td>\n",
       "      <td>NaN</td>\n",
       "    </tr>\n",
       "    <tr>\n",
       "      <th>2016-01-01 11:00:00</th>\n",
       "      <td>0.002165</td>\n",
       "      <td>0.002134</td>\n",
       "      <td>7.048119</td>\n",
       "      <td>0.002148</td>\n",
       "      <td>3283.321229</td>\n",
       "      <td>0.002144</td>\n",
       "      <td>0.008114</td>\n",
       "      <td>0.008062</td>\n",
       "      <td>0.131034</td>\n",
       "      <td>0.008091</td>\n",
       "      <td>...</td>\n",
       "      <td>NaN</td>\n",
       "      <td>NaN</td>\n",
       "      <td>NaN</td>\n",
       "      <td>NaN</td>\n",
       "      <td>NaN</td>\n",
       "      <td>NaN</td>\n",
       "      <td>NaN</td>\n",
       "      <td>NaN</td>\n",
       "      <td>NaN</td>\n",
       "      <td>NaN</td>\n",
       "    </tr>\n",
       "    <tr>\n",
       "      <th>2016-01-01 12:00:00</th>\n",
       "      <td>0.002151</td>\n",
       "      <td>0.002132</td>\n",
       "      <td>2.006907</td>\n",
       "      <td>0.002136</td>\n",
       "      <td>936.135190</td>\n",
       "      <td>0.002139</td>\n",
       "      <td>0.008114</td>\n",
       "      <td>0.008047</td>\n",
       "      <td>0.576634</td>\n",
       "      <td>0.008089</td>\n",
       "      <td>...</td>\n",
       "      <td>NaN</td>\n",
       "      <td>NaN</td>\n",
       "      <td>NaN</td>\n",
       "      <td>NaN</td>\n",
       "      <td>NaN</td>\n",
       "      <td>NaN</td>\n",
       "      <td>NaN</td>\n",
       "      <td>NaN</td>\n",
       "      <td>NaN</td>\n",
       "      <td>NaN</td>\n",
       "    </tr>\n",
       "  </tbody>\n",
       "</table>\n",
       "<p>5 rows × 30 columns</p>\n",
       "</div>"
      ],
      "text/plain": [
       "                     BTC_ETH_high  BTC_ETH_low  BTC_ETH_volume  BTC_ETH_mean  \\\n",
       "time                                                                           \n",
       "2016-01-01 08:00:00      0.002178     0.002174        2.544539      0.002175   \n",
       "2016-01-01 09:00:00      0.002179     0.002163        6.528289      0.002169   \n",
       "2016-01-01 10:00:00      0.002174     0.002160        1.639960      0.002162   \n",
       "2016-01-01 11:00:00      0.002165     0.002134        7.048119      0.002148   \n",
       "2016-01-01 12:00:00      0.002151     0.002132        2.006907      0.002136   \n",
       "\n",
       "                     BTC_ETH_quoteVolume  btc_eth_weighted_mean  BTC_LTC_high  \\\n",
       "time                                                                            \n",
       "2016-01-01 08:00:00          1170.394668               0.002174      0.008079   \n",
       "2016-01-01 09:00:00          3011.175035               0.002167      0.008072   \n",
       "2016-01-01 10:00:00           758.664280               0.002161      0.008104   \n",
       "2016-01-01 11:00:00          3283.321229               0.002144      0.008114   \n",
       "2016-01-01 12:00:00           936.135190               0.002139      0.008114   \n",
       "\n",
       "                     BTC_LTC_low  BTC_LTC_volume  BTC_LTC_mean  \\\n",
       "time                                                             \n",
       "2016-01-01 08:00:00     0.008052        0.011620      0.008071   \n",
       "2016-01-01 09:00:00     0.008052        0.036629      0.008066   \n",
       "2016-01-01 10:00:00     0.008056        0.101427      0.008072   \n",
       "2016-01-01 11:00:00     0.008062        0.131034      0.008091   \n",
       "2016-01-01 12:00:00     0.008047        0.576634      0.008089   \n",
       "\n",
       "                            ...          ETH_volume  ETH_mean  \\\n",
       "time                        ...                                 \n",
       "2016-01-01 08:00:00         ...                 NaN       NaN   \n",
       "2016-01-01 09:00:00         ...                 NaN       NaN   \n",
       "2016-01-01 10:00:00         ...                 NaN       NaN   \n",
       "2016-01-01 11:00:00         ...                 NaN       NaN   \n",
       "2016-01-01 12:00:00         ...                 NaN       NaN   \n",
       "\n",
       "                     ETH_weighted_mean  ETH_percent_change  LTC_high  LTC_low  \\\n",
       "time                                                                            \n",
       "2016-01-01 08:00:00                NaN                 NaN       NaN      NaN   \n",
       "2016-01-01 09:00:00                NaN                 NaN       NaN      NaN   \n",
       "2016-01-01 10:00:00                NaN                 NaN       NaN      NaN   \n",
       "2016-01-01 11:00:00                NaN                 NaN       NaN      NaN   \n",
       "2016-01-01 12:00:00                NaN                 NaN       NaN      NaN   \n",
       "\n",
       "                     LTC_volume  LTC_mean  LTC_weighted_mean  \\\n",
       "time                                                           \n",
       "2016-01-01 08:00:00         NaN       NaN                NaN   \n",
       "2016-01-01 09:00:00         NaN       NaN                NaN   \n",
       "2016-01-01 10:00:00         NaN       NaN                NaN   \n",
       "2016-01-01 11:00:00         NaN       NaN                NaN   \n",
       "2016-01-01 12:00:00         NaN       NaN                NaN   \n",
       "\n",
       "                     LTC_percent_change  \n",
       "time                                     \n",
       "2016-01-01 08:00:00                 NaN  \n",
       "2016-01-01 09:00:00                 NaN  \n",
       "2016-01-01 10:00:00                 NaN  \n",
       "2016-01-01 11:00:00                 NaN  \n",
       "2016-01-01 12:00:00                 NaN  \n",
       "\n",
       "[5 rows x 30 columns]"
      ]
     },
     "execution_count": 31,
     "metadata": {},
     "output_type": "execute_result"
    }
   ],
   "source": [
    "df.head()"
   ]
  },
  {
   "cell_type": "code",
   "execution_count": 34,
   "metadata": {},
   "outputs": [
    {
     "data": {
      "text/plain": [
       "[(0, 'BTC_ETH_high'),\n",
       " (1, 'BTC_ETH_low'),\n",
       " (2, 'BTC_ETH_volume'),\n",
       " (3, 'BTC_ETH_mean'),\n",
       " (4, 'BTC_ETH_quoteVolume'),\n",
       " (5, 'btc_eth_weighted_mean'),\n",
       " (6, 'BTC_LTC_high'),\n",
       " (7, 'BTC_LTC_low'),\n",
       " (8, 'BTC_LTC_volume'),\n",
       " (9, 'BTC_LTC_mean'),\n",
       " (10, 'BTC_LTC_quoteVolume'),\n",
       " (11, 'BTC_LTC_weighted_mean'),\n",
       " (12, 'BTC_high'),\n",
       " (13, 'BTC_low'),\n",
       " (14, 'BTC_volume'),\n",
       " (15, 'BTC_mean'),\n",
       " (16, 'BTC_weighted_mean'),\n",
       " (17, 'BTC_percent_change'),\n",
       " (18, 'ETH_high'),\n",
       " (19, 'ETH_low'),\n",
       " (20, 'ETH_volume'),\n",
       " (21, 'ETH_mean'),\n",
       " (22, 'ETH_weighted_mean'),\n",
       " (23, 'ETH_percent_change'),\n",
       " (24, 'LTC_high'),\n",
       " (25, 'LTC_low'),\n",
       " (26, 'LTC_volume'),\n",
       " (27, 'LTC_mean'),\n",
       " (28, 'LTC_weighted_mean'),\n",
       " (29, 'LTC_percent_change')]"
      ]
     },
     "execution_count": 34,
     "metadata": {},
     "output_type": "execute_result"
    }
   ],
   "source": [
    "[x for x in zip([x for x in range(30)], df.columns.values)]"
   ]
  },
  {
   "cell_type": "code",
   "execution_count": 50,
   "metadata": {},
   "outputs": [],
   "source": [
    "filled = df['BTC_percent_change'].replace(np.inf, np.nan).fillna(method='ffill')"
   ]
  },
  {
   "cell_type": "code",
   "execution_count": 49,
   "metadata": {},
   "outputs": [
    {
     "data": {
      "text/plain": [
       "(array([   21.,    24.,    75.,   204.,  1217., 16563.,  1169.,   212.,\n",
       "           94.,    43.,    22.]),\n",
       " array([-0.5       , -0.40909091, -0.31818182, -0.22727273, -0.13636364,\n",
       "        -0.04545455,  0.04545455,  0.13636364,  0.22727273,  0.31818182,\n",
       "         0.40909091,  0.5       ]),\n",
       " <a list of 11 Patch objects>)"
      ]
     },
     "execution_count": 49,
     "metadata": {},
     "output_type": "execute_result"
    },
    {
     "data": {
      "image/png": "[encoded data removed]",
      "text/plain": [
       "<Figure size 432x288 with 1 Axes>"
      ]
     },
     "metadata": {},
     "output_type": "display_data"
    }
   ],
   "source": [
    "plt.hist(filled, range=(-0.5,0.5), bins=11)"
   ]
  },
  {
   "cell_type": "code",
   "execution_count": 51,
   "metadata": {},
   "outputs": [
    {
     "data": {
      "text/plain": [
       "0.543823705776534"
      ]
     },
     "execution_count": 51,
     "metadata": {},
     "output_type": "execute_result"
    }
   ],
   "source": [
    "(abs(filled) < 0.01).sum() / len(df)"
   ]
  },
  {
   "cell_type": "code",
   "execution_count": 56,
   "metadata": {},
   "outputs": [],
   "source": [
    "from scipy import stats\n",
    "bin_edges = stats.mstats.mquantiles(filled, [x/3 for x in range(4)])"
   ]
  },
  {
   "cell_type": "code",
   "execution_count": 57,
   "metadata": {},
   "outputs": [
    {
     "data": {
      "text/plain": [
       "array([-1.00000000e+00, -3.09330785e-03,  3.28352206e-03,  1.10486870e+01])"
      ]
     },
     "execution_count": 57,
     "metadata": {},
     "output_type": "execute_result"
    }
   ],
   "source": [
    "bin_edges"
   ]
  },
  {
   "cell_type": "code",
   "execution_count": 58,
   "metadata": {},
   "outputs": [
    {
     "data": {
      "text/plain": [
       "0.32130721567059767"
      ]
     },
     "execution_count": 58,
     "metadata": {},
     "output_type": "execute_result"
    }
   ],
   "source": [
    "(abs(filled) < 3e-3).sum() / len(df)"
   ]
  }
 ],
 "metadata": {
  "kernelspec": {
   "display_name": "Python 3",
   "language": "python",
   "name": "python3"
  },
  "language_info": {
   "codemirror_mode": {
    "name": "ipython",
    "version": 3
   },
   "file_extension": ".py",
   "mimetype": "text/x-python",
   "name": "python",
   "nbconvert_exporter": "python",
   "pygments_lexer": "ipython3",
   "version": "3.5.2"
  }
 },
 "nbformat": 4,
 "nbformat_minor": 2
}
