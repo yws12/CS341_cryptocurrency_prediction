{
 "cells": [
  {
   "cell_type": "code",
   "execution_count": 1,
   "metadata": {},
   "outputs": [],
   "source": [
    "import pandas as pd\n",
    "import numpy as np\n",
    "from matplotlib import pyplot as plt\n",
    "import random\n",
    "import math"
   ]
  },
  {
   "cell_type": "code",
   "execution_count": 45,
   "metadata": {},
   "outputs": [],
   "source": [
    "df = pd.read_pickle('df_daily_interpolated.pickle')"
   ]
  },
  {
   "cell_type": "code",
   "execution_count": 26,
   "metadata": {},
   "outputs": [
    {
     "data": {
      "text/html": [
       "<div>\n",
       "<style scoped>\n",
       "    .dataframe tbody tr th:only-of-type {\n",
       "        vertical-align: middle;\n",
       "    }\n",
       "\n",
       "    .dataframe tbody tr th {\n",
       "        vertical-align: top;\n",
       "    }\n",
       "\n",
       "    .dataframe thead th {\n",
       "        text-align: right;\n",
       "    }\n",
       "</style>\n",
       "<table border=\"1\" class=\"dataframe\">\n",
       "  <thead>\n",
       "    <tr style=\"text-align: right;\">\n",
       "      <th></th>\n",
       "      <th>BTC_high</th>\n",
       "      <th>BTC_low</th>\n",
       "      <th>BTC_volume</th>\n",
       "      <th>BTC_mean</th>\n",
       "      <th>BTC_weighted_mean</th>\n",
       "      <th>BTC_percent_change</th>\n",
       "      <th>ETH_high</th>\n",
       "      <th>ETH_low</th>\n",
       "      <th>ETH_volume</th>\n",
       "      <th>ETH_mean</th>\n",
       "      <th>ETH_weighted_mean</th>\n",
       "      <th>ETH_percent_change</th>\n",
       "      <th>LTC_high</th>\n",
       "      <th>LTC_low</th>\n",
       "      <th>LTC_volume</th>\n",
       "      <th>LTC_mean</th>\n",
       "      <th>LTC_weighted_mean</th>\n",
       "      <th>LTC_percent_change</th>\n",
       "    </tr>\n",
       "    <tr>\n",
       "      <th>time</th>\n",
       "      <th></th>\n",
       "      <th></th>\n",
       "      <th></th>\n",
       "      <th></th>\n",
       "      <th></th>\n",
       "      <th></th>\n",
       "      <th></th>\n",
       "      <th></th>\n",
       "      <th></th>\n",
       "      <th></th>\n",
       "      <th></th>\n",
       "      <th></th>\n",
       "      <th></th>\n",
       "      <th></th>\n",
       "      <th></th>\n",
       "      <th></th>\n",
       "      <th></th>\n",
       "      <th></th>\n",
       "    </tr>\n",
       "  </thead>\n",
       "  <tbody>\n",
       "    <tr>\n",
       "      <th>2016-01-01</th>\n",
       "      <td>437.15</td>\n",
       "      <td>427.92</td>\n",
       "      <td>3863.277451</td>\n",
       "      <td>433.287069</td>\n",
       "      <td>433.460852</td>\n",
       "      <td>NaN</td>\n",
       "      <td>NaN</td>\n",
       "      <td>NaN</td>\n",
       "      <td>NaN</td>\n",
       "      <td>NaN</td>\n",
       "      <td>NaN</td>\n",
       "      <td>NaN</td>\n",
       "      <td>NaN</td>\n",
       "      <td>NaN</td>\n",
       "      <td>NaN</td>\n",
       "      <td>NaN</td>\n",
       "      <td>NaN</td>\n",
       "      <td>NaN</td>\n",
       "    </tr>\n",
       "    <tr>\n",
       "      <th>2016-01-02</th>\n",
       "      <td>437.56</td>\n",
       "      <td>432.41</td>\n",
       "      <td>3276.709621</td>\n",
       "      <td>435.075572</td>\n",
       "      <td>435.297847</td>\n",
       "      <td>0.004128</td>\n",
       "      <td>NaN</td>\n",
       "      <td>NaN</td>\n",
       "      <td>NaN</td>\n",
       "      <td>NaN</td>\n",
       "      <td>NaN</td>\n",
       "      <td>NaN</td>\n",
       "      <td>NaN</td>\n",
       "      <td>NaN</td>\n",
       "      <td>NaN</td>\n",
       "      <td>NaN</td>\n",
       "      <td>NaN</td>\n",
       "      <td>NaN</td>\n",
       "    </tr>\n",
       "    <tr>\n",
       "      <th>2016-01-03</th>\n",
       "      <td>435.75</td>\n",
       "      <td>425.02</td>\n",
       "      <td>3904.325318</td>\n",
       "      <td>431.324176</td>\n",
       "      <td>430.707753</td>\n",
       "      <td>-0.008622</td>\n",
       "      <td>NaN</td>\n",
       "      <td>NaN</td>\n",
       "      <td>NaN</td>\n",
       "      <td>NaN</td>\n",
       "      <td>NaN</td>\n",
       "      <td>NaN</td>\n",
       "      <td>NaN</td>\n",
       "      <td>NaN</td>\n",
       "      <td>NaN</td>\n",
       "      <td>NaN</td>\n",
       "      <td>NaN</td>\n",
       "      <td>NaN</td>\n",
       "    </tr>\n",
       "    <tr>\n",
       "      <th>2016-01-04</th>\n",
       "      <td>435.79</td>\n",
       "      <td>431.37</td>\n",
       "      <td>5894.445723</td>\n",
       "      <td>433.615547</td>\n",
       "      <td>433.989539</td>\n",
       "      <td>0.005312</td>\n",
       "      <td>NaN</td>\n",
       "      <td>NaN</td>\n",
       "      <td>NaN</td>\n",
       "      <td>NaN</td>\n",
       "      <td>NaN</td>\n",
       "      <td>NaN</td>\n",
       "      <td>NaN</td>\n",
       "      <td>NaN</td>\n",
       "      <td>NaN</td>\n",
       "      <td>NaN</td>\n",
       "      <td>NaN</td>\n",
       "      <td>NaN</td>\n",
       "    </tr>\n",
       "    <tr>\n",
       "      <th>2016-01-05</th>\n",
       "      <td>435.64</td>\n",
       "      <td>430.00</td>\n",
       "      <td>5150.049476</td>\n",
       "      <td>433.375370</td>\n",
       "      <td>433.341902</td>\n",
       "      <td>-0.000554</td>\n",
       "      <td>NaN</td>\n",
       "      <td>NaN</td>\n",
       "      <td>NaN</td>\n",
       "      <td>NaN</td>\n",
       "      <td>NaN</td>\n",
       "      <td>NaN</td>\n",
       "      <td>NaN</td>\n",
       "      <td>NaN</td>\n",
       "      <td>NaN</td>\n",
       "      <td>NaN</td>\n",
       "      <td>NaN</td>\n",
       "      <td>NaN</td>\n",
       "    </tr>\n",
       "  </tbody>\n",
       "</table>\n",
       "</div>"
      ],
      "text/plain": [
       "            BTC_high  BTC_low   BTC_volume    BTC_mean  BTC_weighted_mean  \\\n",
       "time                                                                        \n",
       "2016-01-01    437.15   427.92  3863.277451  433.287069         433.460852   \n",
       "2016-01-02    437.56   432.41  3276.709621  435.075572         435.297847   \n",
       "2016-01-03    435.75   425.02  3904.325318  431.324176         430.707753   \n",
       "2016-01-04    435.79   431.37  5894.445723  433.615547         433.989539   \n",
       "2016-01-05    435.64   430.00  5150.049476  433.375370         433.341902   \n",
       "\n",
       "            BTC_percent_change  ETH_high  ETH_low  ETH_volume  ETH_mean  \\\n",
       "time                                                                      \n",
       "2016-01-01                 NaN       NaN      NaN         NaN       NaN   \n",
       "2016-01-02            0.004128       NaN      NaN         NaN       NaN   \n",
       "2016-01-03           -0.008622       NaN      NaN         NaN       NaN   \n",
       "2016-01-04            0.005312       NaN      NaN         NaN       NaN   \n",
       "2016-01-05           -0.000554       NaN      NaN         NaN       NaN   \n",
       "\n",
       "            ETH_weighted_mean  ETH_percent_change  LTC_high  LTC_low  \\\n",
       "time                                                                   \n",
       "2016-01-01                NaN                 NaN       NaN      NaN   \n",
       "2016-01-02                NaN                 NaN       NaN      NaN   \n",
       "2016-01-03                NaN                 NaN       NaN      NaN   \n",
       "2016-01-04                NaN                 NaN       NaN      NaN   \n",
       "2016-01-05                NaN                 NaN       NaN      NaN   \n",
       "\n",
       "            LTC_volume  LTC_mean  LTC_weighted_mean  LTC_percent_change  \n",
       "time                                                                     \n",
       "2016-01-01         NaN       NaN                NaN                 NaN  \n",
       "2016-01-02         NaN       NaN                NaN                 NaN  \n",
       "2016-01-03         NaN       NaN                NaN                 NaN  \n",
       "2016-01-04         NaN       NaN                NaN                 NaN  \n",
       "2016-01-05         NaN       NaN                NaN                 NaN  "
      ]
     },
     "execution_count": 26,
     "metadata": {},
     "output_type": "execute_result"
    }
   ],
   "source": [
    "df.head()"
   ]
  },
  {
   "cell_type": "code",
   "execution_count": 6,
   "metadata": {},
   "outputs": [
    {
     "data": {
      "text/plain": [
       "Timestamp('2016-05-18 00:00:00', freq='D')"
      ]
     },
     "execution_count": 6,
     "metadata": {},
     "output_type": "execute_result"
    }
   ],
   "source": [
    "df['ETH_high'].first_valid_index()"
   ]
  },
  {
   "cell_type": "code",
   "execution_count": 7,
   "metadata": {},
   "outputs": [
    {
     "data": {
      "text/plain": [
       "Timestamp('2016-08-17 00:00:00', freq='D')"
      ]
     },
     "execution_count": 7,
     "metadata": {},
     "output_type": "execute_result"
    }
   ],
   "source": [
    "df['LTC_high'].first_valid_index()"
   ]
  },
  {
   "cell_type": "code",
   "execution_count": 17,
   "metadata": {},
   "outputs": [],
   "source": [
    "from datetime import date\n",
    "train_start_date = date(2016,8,17)\n",
    "validation_end_date = date(2018,4,3)"
   ]
  },
  {
   "cell_type": "code",
   "execution_count": 4,
   "metadata": {},
   "outputs": [
    {
     "name": "stdout",
     "output_type": "stream",
     "text": [
      "594\n"
     ]
    }
   ],
   "source": [
    "total_days = (validation_end_date - train_start_date).days + 1 - 1 # first day has no percent change, so -1\n",
    "print(total_days)"
   ]
  },
  {
   "cell_type": "code",
   "execution_count": 5,
   "metadata": {},
   "outputs": [
    {
     "name": "stdout",
     "output_type": "stream",
     "text": [
      "230\n"
     ]
    }
   ],
   "source": [
    "num_days_unused = (train_start_date - date(2016,1,1)).days + 1 # first day has no percent change, so +1\n",
    "print(num_days_unused)"
   ]
  },
  {
   "cell_type": "code",
   "execution_count": 6,
   "metadata": {},
   "outputs": [
    {
     "name": "stdout",
     "output_type": "stream",
     "text": [
      "415 179\n"
     ]
    }
   ],
   "source": [
    "num_days_train = math.floor(total_days*0.7)\n",
    "num_days_validate = total_days - num_days_train\n",
    "print(num_days_train, num_days_validate)"
   ]
  },
  {
   "cell_type": "code",
   "execution_count": 46,
   "metadata": {},
   "outputs": [],
   "source": [
    "df = df.reset_index()\n",
    "df = df.drop(columns=['time'])"
   ]
  },
  {
   "cell_type": "code",
   "execution_count": 47,
   "metadata": {},
   "outputs": [],
   "source": [
    "# # weird normalization\n",
    "# for feature_name in df.columns:\n",
    "#     max_value = df[feature_name].max()\n",
    "#     min_value = df[feature_name].min()\n",
    "#     df[feature_name] = (df[feature_name] - min_value) * 100000000 / (max_value - min_value)\n",
    "\n",
    "df['BTC_percent_change'] = (df['BTC_percent_change'] - df['BTC_percent_change'].min())\n",
    "df['LTC_percent_change'] = (df['LTC_percent_change'] - df['LTC_percent_change'].min())\n",
    "df['ETH_percent_change'] = (df['ETH_percent_change'] - df['ETH_percent_change'].min())\n",
    "df['ETH_volume'] = df['ETH_volume']/10\n",
    "# df['LTC_low'] = df['LTC_low'] * 1e3\n",
    "# df['LTC_high'] = df['LTC_high'] * 1e3\n",
    "# df['LTC_mean'] = df['LTC_mean'] * 1e3\n",
    "# df['LTC_weighted_mean'] = df['LTC_weighted_mean'] * 1e3"
   ]
  },
  {
   "cell_type": "code",
   "execution_count": 48,
   "metadata": {},
   "outputs": [
    {
     "data": {
      "text/plain": [
       "BTC_high               576.990000\n",
       "BTC_low                573.000000\n",
       "BTC_volume            3964.988429\n",
       "BTC_mean               575.137264\n",
       "BTC_weighted_mean      575.244977\n",
       "BTC_percent_change       0.145387\n",
       "ETH_high                11.060000\n",
       "ETH_low                 10.760000\n",
       "ETH_volume            3578.119456\n",
       "ETH_mean                10.910598\n",
       "ETH_weighted_mean       10.903948\n",
       "ETH_percent_change       0.238499\n",
       "LTC_high                 3.700000\n",
       "LTC_low                  3.620000\n",
       "LTC_volume               1.000000\n",
       "LTC_mean                 3.620000\n",
       "LTC_weighted_mean        3.620000\n",
       "LTC_percent_change       0.174819\n",
       "Name: 230, dtype: float64"
      ]
     },
     "execution_count": 48,
     "metadata": {},
     "output_type": "execute_result"
    }
   ],
   "source": [
    "df.loc[num_days_unused]"
   ]
  },
  {
   "cell_type": "code",
   "execution_count": 10,
   "metadata": {},
   "outputs": [],
   "source": [
    "def SMAPE(y, y_pred):\n",
    "    if len(y) != len(y_pred):\n",
    "        raise ValueError('Length of prediction array is not equal to length of y array.')\n",
    "    return np.mean(np.abs(y-y_pred)*2/(np.abs(y)+np.abs(y_pred)))\n",
    "\n",
    "def normalized_RMSE(y, y_pred):\n",
    "    if len(y) != len(y_pred):\n",
    "        raise ValueError('Length of prediction array is not equal to length of y array.')\n",
    "    return np.sqrt(sum((y_pred/y-1)**2)/len(y))\n",
    "\n",
    "def RMSE_log_price(y, y_pred):\n",
    "    if len(y) != len(y_pred):\n",
    "        raise ValueError('Length of prediction array is not equal to length of y array.')\n",
    "    return np.sqrt(sum((np.log(y_pred)-np.log(y))**2)/len(y))"
   ]
  },
  {
   "cell_type": "code",
   "execution_count": 62,
   "metadata": {},
   "outputs": [],
   "source": [
    "# fixed-window linear regression\n",
    "def train_with_window_size(window_size, features, loss_func='normalized_RMSE', verbose=True):\n",
    "    if loss_func != 'normalized_RMSE' and loss_func != 'RMSE_log_price':\n",
    "        raise ValueError('loss_func must be either normalized_RMSE or RMSE_log_price')\n",
    "                 \n",
    "    y = df.loc[num_days_unused+window_size:num_days_unused+num_days_train-1, 'BTC_mean']\n",
    "    W = (np.random.rand(window_size*len(features)) + np.ones(window_size*len(features)))/window_size # initialize as weighted average\n",
    "    W_old = np.ones(window_size*len(features))\n",
    "    b = 0\n",
    "    if loss_func=='RMSE_log_price':\n",
    "        learning_rate = 1e-3\n",
    "    else:\n",
    "        learning_rate = 1e-7\n",
    "    error_list = []\n",
    "\n",
    "    timestep_random_perm = [x for x in range(num_days_unused, num_days_unused + num_days_train - window_size)]\n",
    "    timestep_random_perm = random.sample(timestep_random_perm, len(timestep_random_perm))\n",
    "    iteration = 0\n",
    "    batch_len = 0\n",
    "    gradient = 0\n",
    "    while iteration < 15000 and np.abs(W_old.dot(W_old.T) - W.dot(W.T))/(W_old.dot(W_old.T)) > 0.000001:\n",
    "        for timestep in timestep_random_perm:\n",
    "            iteration += 1\n",
    "    #         print('iteration ',iteration)\n",
    "            X = df.loc[timestep:timestep+window_size-1, features].values.flatten()\n",
    "#             if math.isnan(X):\n",
    "#                 raise ValueError('Input has nan')\n",
    "        \n",
    "            if batch_len == 10:\n",
    "                batch_len = 1\n",
    "                W_old = W\n",
    "                W = W - learning_rate * np.exp(-iteration/50000) * gradient * X\n",
    "                b = b - learning_rate * np.exp(-iteration/50000) * gradient\n",
    "                if loss_func == 'normalized_RMSE':\n",
    "                    gradient = (W.dot(X.T) + b)*1.0/price[timestep+window_size] - 1\n",
    "                else:\n",
    "                    gradient = np.log((W.dot(X.T)+b)/(df.loc[timestep+window_size, 'BTC_mean']))/(W.dot(X.T)+b)\n",
    "    #             print(gradient, W, b)\n",
    "            else:\n",
    "                batch_len += 1\n",
    "                if loss_func == 'normalized_RMSE':\n",
    "                    gradient += (W.dot(X.T) + b)*1.0/price[timestep+window_size] - 1\n",
    "                else:\n",
    "                    gradient += np.log((W.dot(X.T)+b)/(df.loc[timestep+window_size, 'BTC_mean']))/(W.dot(X.T)+b)\n",
    "\n",
    "#             if iteration % 20 == 0:\n",
    "#                 print('iteration', iteration)\n",
    "#                 y_pred = []\n",
    "#                 for t in range(num_days_unused, num_days_unused + num_days_train - window_size):\n",
    "#                     X = df.loc[t:t+window_size-1, features].values.flatten()\n",
    "#                     y_pred.append(W.dot(X.T) + b)\n",
    "#                 if loss_func == 'normalized_RMSE':\n",
    "#                     error = normalized_RMSE(y, y_pred)\n",
    "#                 else:\n",
    "#                     error = RMSE_log_price(y, y_pred)\n",
    "#                 error_list.append(error)\n",
    "    \n",
    "    if verbose:\n",
    "        plt.figure()\n",
    "        plt.plot([x*20 for x in range(len(error_list))], error_list)\n",
    "        plt.title('learining curve')\n",
    "        plt.ylabel('training loss')\n",
    "        plt.xlabel('iteration')\n",
    "        print('Training loss:',error_list[-1])\n",
    "        y_pred = []\n",
    "        for t in range(num_days_unused, num_days_unused + num_days_train - window_size):\n",
    "            X = df.loc[t:t+window_size-1, features].values.flatten()\n",
    "            y_pred.append(W.dot(X.T) + b)\n",
    "        print('Training SMAPE:',SMAPE(y, y_pred))\n",
    "\n",
    "        print(W.dot(W.T))\n",
    "        print(sum(W)) # should be close to 1 because it's essentially weighted average\n",
    "        print('W=',W)\n",
    "        print('b=',b)\n",
    "    return W, b"
   ]
  },
  {
   "cell_type": "code",
   "execution_count": 50,
   "metadata": {},
   "outputs": [],
   "source": [
    "# validate\n",
    "def validate_with_window_size(window_size, features, W, b, verbose=True):\n",
    "    y = df.loc[num_days_unused+num_days_train:num_days_unused+num_days_train+num_days_validate-1, 'BTC_mean']\n",
    "    y_pred = []\n",
    "\n",
    "    for timestep in range(num_days_unused+num_days_train-window_size, \\\n",
    "                          num_days_unused+num_days_train+num_days_validate-window_size):\n",
    "        X = df.loc[timestep:timestep+window_size-1, features].values.flatten()\n",
    "        y_pred.append(W.dot(X.T) + b)\n",
    "\n",
    "    validation_SMAPE = SMAPE(y, y_pred)\n",
    "    if verbose:\n",
    "        print('Validation SMAPE:', validation_SMAPE)\n",
    "    \n",
    "    return validation_SMAPE"
   ]
  },
  {
   "cell_type": "code",
   "execution_count": null,
   "metadata": {},
   "outputs": [],
   "source": [
    "# dic = {0:'BTC_high',1:'BTC_low',2:'BTC_volume',3:'BTC_mean',4:'BTC_weighted_mean',5:'BTC_percent_change',\\\n",
    "#        6:'ETH_high',7:'ETH_low',8:'ETH_volume',9:'ETH_mean',10:'ETH_weighted_mean',11:'ETH_percent_change',\\\n",
    "#        12:'LTC_high',13:'LTC_low',14:'LTC_volume' \tLTC_mean \tLTC_weighted_mean \tLTC_percent_change}"
   ]
  },
  {
   "cell_type": "code",
   "execution_count": 42,
   "metadata": {},
   "outputs": [],
   "source": [
    "all_features = list(df.columns.values)"
   ]
  },
  {
   "cell_type": "code",
   "execution_count": 43,
   "metadata": {},
   "outputs": [
    {
     "data": {
      "text/plain": [
       "['BTC_high',\n",
       " 'BTC_low',\n",
       " 'BTC_volume',\n",
       " 'BTC_mean',\n",
       " 'BTC_weighted_mean',\n",
       " 'BTC_percent_change',\n",
       " 'ETH_high',\n",
       " 'ETH_low',\n",
       " 'ETH_volume',\n",
       " 'ETH_mean',\n",
       " 'ETH_weighted_mean',\n",
       " 'ETH_percent_change',\n",
       " 'LTC_high',\n",
       " 'LTC_low',\n",
       " 'LTC_volume',\n",
       " 'LTC_mean',\n",
       " 'LTC_weighted_mean',\n",
       " 'LTC_percent_change']"
      ]
     },
     "execution_count": 43,
     "metadata": {},
     "output_type": "execute_result"
    }
   ],
   "source": [
    "all_features"
   ]
  },
  {
   "cell_type": "code",
   "execution_count": 63,
   "metadata": {},
   "outputs": [
    {
     "name": "stdout",
     "output_type": "stream",
     "text": [
      "{'BTC_high': 0.04748722945612306}\n",
      "{'BTC_low': 1.9554869535468071, 'BTC_high': 0.04748722945612306}\n",
      "{'BTC_volume': 0.41354622427105314, 'BTC_low': 1.9554869535468071, 'BTC_high': 0.04748722945612306}\n",
      "{'BTC_volume': 0.41354622427105314, 'BTC_low': 1.9554869535468071, 'BTC_mean': 0.04148175871824706, 'BTC_high': 0.04748722945612306}\n",
      "{'BTC_volume': 0.41354622427105314, 'BTC_low': 1.9554869535468071, 'BTC_weighted_mean': 0.037278815966984936, 'BTC_mean': 0.04148175871824706, 'BTC_high': 0.04748722945612306}\n",
      "{'BTC_volume': 0.41354622427105314, 'BTC_percent_change': 1.994705974491497, 'BTC_mean': 0.04148175871824706, 'BTC_high': 0.04748722945612306, 'BTC_low': 1.9554869535468071, 'BTC_weighted_mean': 0.037278815966984936}\n",
      "{'BTC_volume': 0.41354622427105314, 'BTC_percent_change': 1.994705974491497, 'BTC_mean': 0.04148175871824706, 'BTC_high': 0.04748722945612306, 'ETH_high': 0.2910264731079428, 'BTC_low': 1.9554869535468071, 'BTC_weighted_mean': 0.037278815966984936}\n",
      "{'BTC_volume': 0.41354622427105314, 'BTC_percent_change': 1.994705974491497, 'BTC_mean': 0.04148175871824706, 'BTC_high': 0.04748722945612306, 'ETH_high': 0.2910264731079428, 'BTC_low': 1.9554869535468071, 'BTC_weighted_mean': 0.037278815966984936, 'ETH_low': 0.3244098651865934}\n",
      "{'BTC_volume': 0.41354622427105314, 'BTC_percent_change': 1.994705974491497, 'BTC_mean': 0.04148175871824706, 'ETH_volume': 0.9669930870274599, 'BTC_high': 0.04748722945612306, 'ETH_high': 0.2910264731079428, 'BTC_low': 1.9554869535468071, 'BTC_weighted_mean': 0.037278815966984936, 'ETH_low': 0.3244098651865934}\n",
      "{'BTC_volume': 0.41354622427105314, 'BTC_percent_change': 1.994705974491497, 'BTC_mean': 0.04148175871824706, 'ETH_volume': 0.9669930870274599, 'BTC_high': 0.04748722945612306, 'ETH_high': 0.2910264731079428, 'BTC_low': 1.9554869535468071, 'BTC_weighted_mean': 0.037278815966984936, 'ETH_mean': 0.29400116215539396, 'ETH_low': 0.3244098651865934}\n",
      "{'BTC_volume': 0.41354622427105314, 'BTC_percent_change': 1.994705974491497, 'BTC_mean': 0.04148175871824706, 'ETH_volume': 0.9669930870274599, 'BTC_high': 0.04748722945612306, 'ETH_high': 0.2910264731079428, 'ETH_weighted_mean': 0.28801550396657716, 'BTC_low': 1.9554869535468071, 'BTC_weighted_mean': 0.037278815966984936, 'ETH_mean': 0.29400116215539396, 'ETH_low': 0.3244098651865934}\n",
      "{'BTC_volume': 0.41354622427105314, 'BTC_percent_change': 1.994705974491497, 'ETH_mean': 0.29400116215539396, 'ETH_volume': 0.9669930870274599, 'ETH_high': 0.2910264731079428, 'BTC_low': 1.9554869535468071, 'ETH_low': 0.3244098651865934, 'BTC_mean': 0.04148175871824706, 'BTC_high': 0.04748722945612306, 'ETH_percent_change': 1.994621986984693, 'ETH_weighted_mean': 0.28801550396657716, 'BTC_weighted_mean': 0.037278815966984936}\n",
      "{'BTC_volume': 0.41354622427105314, 'BTC_percent_change': 1.994705974491497, 'LTC_high': 1.2296599049789925, 'ETH_mean': 0.29400116215539396, 'ETH_volume': 0.9669930870274599, 'ETH_high': 0.2910264731079428, 'BTC_low': 1.9554869535468071, 'ETH_low': 0.3244098651865934, 'BTC_mean': 0.04148175871824706, 'BTC_high': 0.04748722945612306, 'ETH_percent_change': 1.994621986984693, 'ETH_weighted_mean': 0.28801550396657716, 'BTC_weighted_mean': 0.037278815966984936}\n",
      "{'BTC_volume': 0.41354622427105314, 'BTC_percent_change': 1.994705974491497, 'LTC_high': 1.2296599049789925, 'ETH_mean': 0.29400116215539396, 'ETH_volume': 0.9669930870274599, 'ETH_high': 0.2910264731079428, 'BTC_low': 1.9554869535468071, 'ETH_low': 0.3244098651865934, 'LTC_low': 1.3197031425842312, 'BTC_mean': 0.04148175871824706, 'BTC_high': 0.04748722945612306, 'ETH_percent_change': 1.994621986984693, 'ETH_weighted_mean': 0.28801550396657716, 'BTC_weighted_mean': 0.037278815966984936}\n",
      "{'BTC_volume': 0.41354622427105314, 'BTC_percent_change': 1.994705974491497, 'LTC_high': 1.2296599049789925, 'ETH_mean': 0.29400116215539396, 'ETH_volume': 0.9669930870274599, 'ETH_high': 0.2910264731079428, 'BTC_low': 1.9554869535468071, 'ETH_low': 0.3244098651865934, 'LTC_volume': 1.999999473678369, 'LTC_low': 1.3197031425842312, 'BTC_mean': 0.04148175871824706, 'BTC_high': 0.04748722945612306, 'ETH_percent_change': 1.994621986984693, 'ETH_weighted_mean': 0.28801550396657716, 'BTC_weighted_mean': 0.037278815966984936}\n",
      "{'BTC_volume': 0.41354622427105314, 'BTC_percent_change': 1.994705974491497, 'LTC_high': 1.2296599049789925, 'ETH_mean': 0.29400116215539396, 'ETH_volume': 0.9669930870274599, 'ETH_high': 0.2910264731079428, 'BTC_low': 1.9554869535468071, 'ETH_low': 0.3244098651865934, 'LTC_volume': 1.999999473678369, 'LTC_low': 1.3197031425842312, 'LTC_mean': 1.255733975262876, 'BTC_mean': 0.04148175871824706, 'BTC_high': 0.04748722945612306, 'ETH_percent_change': 1.994621986984693, 'ETH_weighted_mean': 0.28801550396657716, 'BTC_weighted_mean': 0.037278815966984936}\n",
      "{'BTC_volume': 0.41354622427105314, 'BTC_percent_change': 1.994705974491497, 'LTC_high': 1.2296599049789925, 'ETH_mean': 0.29400116215539396, 'ETH_volume': 0.9669930870274599, 'ETH_high': 0.2910264731079428, 'BTC_low': 1.9554869535468071, 'LTC_weighted_mean': 1.2498041710784173, 'ETH_low': 0.3244098651865934, 'LTC_volume': 1.999999473678369, 'LTC_low': 1.3197031425842312, 'LTC_mean': 1.255733975262876, 'BTC_mean': 0.04148175871824706, 'BTC_high': 0.04748722945612306, 'ETH_percent_change': 1.994621986984693, 'ETH_weighted_mean': 0.28801550396657716, 'BTC_weighted_mean': 0.037278815966984936}\n",
      "{'BTC_volume': 0.41354622427105314, 'BTC_percent_change': 1.994705974491497, 'LTC_high': 1.2296599049789925, 'ETH_mean': 0.29400116215539396, 'ETH_volume': 0.9669930870274599, 'ETH_high': 0.2910264731079428, 'BTC_low': 1.9554869535468071, 'LTC_weighted_mean': 1.2498041710784173, 'ETH_low': 0.3244098651865934, 'LTC_volume': 1.999999473678369, 'LTC_low': 1.3197031425842312, 'LTC_mean': 1.255733975262876, 'BTC_mean': 0.04148175871824706, 'BTC_high': 0.04748722945612306, 'ETH_percent_change': 1.994621986984693, 'ETH_weighted_mean': 0.28801550396657716, 'LTC_percent_change': 1.9946696918459832, 'BTC_weighted_mean': 0.037278815966984936}\n",
      "{'BTC_high': 0.03729399602958333}\n",
      "{'BTC_low': 0.03809846628075997, 'BTC_high': 0.03729399602958333}\n",
      "{'BTC_volume': 0.06429729830904386, 'BTC_low': 0.03809846628075997, 'BTC_high': 0.03729399602958333}\n",
      "{'BTC_volume': 0.06429729830904386, 'BTC_low': 0.03809846628075997, 'BTC_mean': 0.039377618205351905, 'BTC_high': 0.03729399602958333}\n",
      "{'BTC_volume': 0.06429729830904386, 'BTC_low': 0.03809846628075997, 'BTC_mean': 0.039377618205351905, 'BTC_high': 0.03729399602958333}\n",
      "{'BTC_volume': 0.06429729830904386, 'BTC_percent_change': 0.037273175716443, 'BTC_low': 0.03809846628075997, 'BTC_mean': 0.039377618205351905, 'BTC_high': 0.03729399602958333}\n",
      "{'BTC_volume': 0.06429729830904386, 'BTC_percent_change': 0.037273175716443, 'BTC_mean': 0.039377618205351905, 'BTC_high': 0.03729399602958333, 'ETH_high': 0.06094924969057638, 'BTC_low': 0.03809846628075997}\n",
      "{'BTC_volume': 0.06429729830904386, 'BTC_percent_change': 0.037273175716443, 'BTC_mean': 0.039377618205351905, 'BTC_high': 0.03729399602958333, 'ETH_high': 0.06094924969057638, 'BTC_low': 0.03809846628075997, 'ETH_low': 0.05061010172563344}\n"
     ]
    },
    {
     "name": "stderr",
     "output_type": "stream",
     "text": [
      "/home/yicheng/.local/lib/python3.5/site-packages/ipykernel_launcher.py:44: RuntimeWarning: invalid value encountered in log\n"
     ]
    },
    {
     "name": "stdout",
     "output_type": "stream",
     "text": [
      "{'BTC_volume': 0.06429729830904386, 'BTC_percent_change': 0.037273175716443, 'BTC_mean': 0.039377618205351905, 'ETH_volume': nan, 'BTC_high': 0.03729399602958333, 'ETH_high': 0.06094924969057638, 'BTC_low': 0.03809846628075997, 'ETH_low': 0.05061010172563344}\n",
      "{'BTC_volume': 0.06429729830904386, 'BTC_percent_change': 0.037273175716443, 'BTC_mean': 0.039377618205351905, 'ETH_volume': nan, 'BTC_high': 0.03729399602958333, 'ETH_high': 0.06094924969057638, 'BTC_low': 0.03809846628075997, 'ETH_mean': 0.07594413158329455, 'ETH_low': 0.05061010172563344}\n",
      "{'BTC_volume': 0.06429729830904386, 'BTC_percent_change': 0.037273175716443, 'BTC_mean': 0.039377618205351905, 'ETH_volume': nan, 'BTC_high': 0.03729399602958333, 'ETH_high': 0.06094924969057638, 'ETH_weighted_mean': 0.07509306670840364, 'BTC_low': 0.03809846628075997, 'ETH_mean': 0.07594413158329455, 'ETH_low': 0.05061010172563344}\n",
      "{'BTC_volume': 0.06429729830904386, 'BTC_percent_change': 0.037273175716443, 'BTC_mean': 0.039377618205351905, 'ETH_volume': nan, 'BTC_high': 0.03729399602958333, 'ETH_high': 0.06094924969057638, 'ETH_percent_change': 0.03727636267940546, 'ETH_weighted_mean': 0.07509306670840364, 'BTC_low': 0.03809846628075997, 'ETH_mean': 0.07594413158329455, 'ETH_low': 0.05061010172563344}\n",
      "{'BTC_volume': 0.06429729830904386, 'BTC_percent_change': 0.037273175716443, 'LTC_high': 0.03909377730195442, 'ETH_mean': 0.07594413158329455, 'ETH_volume': nan, 'ETH_high': 0.06094924969057638, 'BTC_low': 0.03809846628075997, 'ETH_low': 0.05061010172563344, 'BTC_mean': 0.039377618205351905, 'BTC_high': 0.03729399602958333, 'ETH_percent_change': 0.03727636267940546, 'ETH_weighted_mean': 0.07509306670840364}\n",
      "{'BTC_volume': 0.06429729830904386, 'BTC_percent_change': 0.037273175716443, 'LTC_high': 0.03909377730195442, 'ETH_mean': 0.07594413158329455, 'ETH_volume': nan, 'ETH_high': 0.06094924969057638, 'BTC_low': 0.03809846628075997, 'ETH_low': 0.05061010172563344, 'LTC_low': 0.03901460423487388, 'BTC_mean': 0.039377618205351905, 'BTC_high': 0.03729399602958333, 'ETH_percent_change': 0.03727636267940546, 'ETH_weighted_mean': 0.07509306670840364}\n"
     ]
    },
    {
     "name": "stderr",
     "output_type": "stream",
     "text": [
      "/home/yicheng/.local/lib/python3.5/site-packages/ipykernel_launcher.py:37: RuntimeWarning: invalid value encountered in log\n"
     ]
    },
    {
     "name": "stdout",
     "output_type": "stream",
     "text": [
      "{'BTC_volume': 0.06429729830904386, 'BTC_percent_change': 0.037273175716443, 'LTC_high': 0.03909377730195442, 'ETH_mean': 0.07594413158329455, 'ETH_volume': nan, 'ETH_high': 0.06094924969057638, 'BTC_low': 0.03809846628075997, 'ETH_low': 0.05061010172563344, 'LTC_volume': nan, 'LTC_low': 0.03901460423487388, 'BTC_mean': 0.039377618205351905, 'BTC_high': 0.03729399602958333, 'ETH_percent_change': 0.03727636267940546, 'ETH_weighted_mean': 0.07509306670840364}\n",
      "{'BTC_volume': 0.06429729830904386, 'BTC_percent_change': 0.037273175716443, 'LTC_high': 0.03909377730195442, 'ETH_mean': 0.07594413158329455, 'ETH_volume': nan, 'ETH_high': 0.06094924969057638, 'BTC_low': 0.03809846628075997, 'ETH_low': 0.05061010172563344, 'LTC_volume': nan, 'LTC_low': 0.03901460423487388, 'LTC_mean': 0.04002571940129554, 'BTC_mean': 0.039377618205351905, 'BTC_high': 0.03729399602958333, 'ETH_percent_change': 0.03727636267940546, 'ETH_weighted_mean': 0.07509306670840364}\n",
      "{'BTC_volume': 0.06429729830904386, 'BTC_percent_change': 0.037273175716443, 'LTC_high': 0.03909377730195442, 'ETH_mean': 0.07594413158329455, 'ETH_volume': nan, 'ETH_high': 0.06094924969057638, 'BTC_low': 0.03809846628075997, 'LTC_weighted_mean': 0.03910589796213259, 'ETH_low': 0.05061010172563344, 'LTC_volume': nan, 'LTC_low': 0.03901460423487388, 'LTC_mean': 0.04002571940129554, 'BTC_mean': 0.039377618205351905, 'BTC_high': 0.03729399602958333, 'ETH_percent_change': 0.03727636267940546, 'ETH_weighted_mean': 0.07509306670840364}\n",
      "{'BTC_volume': 0.06429729830904386, 'BTC_percent_change': 0.037273175716443, 'LTC_high': 0.03909377730195442, 'ETH_mean': 0.07594413158329455, 'ETH_volume': nan, 'ETH_high': 0.06094924969057638, 'BTC_low': 0.03809846628075997, 'LTC_weighted_mean': 0.03910589796213259, 'ETH_low': 0.05061010172563344, 'LTC_volume': nan, 'LTC_low': 0.03901460423487388, 'LTC_mean': 0.04002571940129554, 'BTC_mean': 0.039377618205351905, 'BTC_high': 0.03729399602958333, 'ETH_percent_change': 0.03727636267940546, 'ETH_weighted_mean': 0.07509306670840364, 'LTC_percent_change': 0.03727450076077308}\n",
      "{'BTC_high': 0.038144354952805555}\n",
      "{'BTC_low': 0.040051338197545694, 'BTC_high': 0.038144354952805555}\n",
      "{'BTC_volume': 0.1139632963160745, 'BTC_low': 0.040051338197545694, 'BTC_high': 0.038144354952805555}\n",
      "{'BTC_volume': 0.1139632963160745, 'BTC_low': 0.040051338197545694, 'BTC_mean': 0.040740514206027, 'BTC_high': 0.038144354952805555}\n",
      "{'BTC_volume': 0.1139632963160745, 'BTC_low': 0.040051338197545694, 'BTC_mean': 0.040740514206027, 'BTC_high': 0.038144354952805555}\n",
      "{'BTC_volume': 0.1139632963160745, 'BTC_low': 0.040051338197545694, 'BTC_mean': 0.040740514206027, 'BTC_high': 0.038144354952805555}\n",
      "{'BTC_volume': 0.1139632963160745, 'BTC_low': 0.040051338197545694, 'BTC_mean': 0.040740514206027, 'BTC_high': 0.038144354952805555, 'ETH_high': 0.07536081475967243}\n",
      "{'BTC_volume': 0.1139632963160745, 'BTC_mean': 0.040740514206027, 'BTC_high': 0.038144354952805555, 'ETH_high': 0.07536081475967243, 'BTC_low': 0.040051338197545694, 'ETH_low': 0.0731025265851576}\n",
      "{'BTC_volume': 0.1139632963160745, 'BTC_mean': 0.040740514206027, 'ETH_volume': nan, 'BTC_high': 0.038144354952805555, 'ETH_high': 0.07536081475967243, 'BTC_low': 0.040051338197545694, 'ETH_low': 0.0731025265851576}\n",
      "{'BTC_volume': 0.1139632963160745, 'BTC_mean': 0.040740514206027, 'ETH_volume': nan, 'BTC_high': 0.038144354952805555, 'ETH_high': 0.07536081475967243, 'BTC_low': 0.040051338197545694, 'ETH_mean': 0.061260152496633864, 'ETH_low': 0.0731025265851576}\n",
      "{'BTC_volume': 0.1139632963160745, 'BTC_mean': 0.040740514206027, 'ETH_volume': nan, 'BTC_high': 0.038144354952805555, 'ETH_high': 0.07536081475967243, 'ETH_weighted_mean': 0.062271486971764656, 'BTC_low': 0.040051338197545694, 'ETH_mean': 0.061260152496633864, 'ETH_low': 0.0731025265851576}\n",
      "{'BTC_volume': 0.1139632963160745, 'BTC_mean': 0.040740514206027, 'ETH_volume': nan, 'BTC_high': 0.038144354952805555, 'ETH_high': 0.07536081475967243, 'ETH_percent_change': 0.03727664497768245, 'ETH_weighted_mean': 0.062271486971764656, 'BTC_low': 0.040051338197545694, 'ETH_mean': 0.061260152496633864, 'ETH_low': 0.0731025265851576}\n",
      "{'BTC_volume': 0.1139632963160745, 'BTC_mean': 0.040740514206027, 'ETH_volume': nan, 'BTC_high': 0.038144354952805555, 'ETH_high': 0.07536081475967243, 'ETH_percent_change': 0.03727664497768245, 'ETH_weighted_mean': 0.062271486971764656, 'BTC_low': 0.040051338197545694, 'LTC_high': 0.03925431585839807, 'ETH_mean': 0.061260152496633864, 'ETH_low': 0.0731025265851576}\n",
      "{'BTC_volume': 0.1139632963160745, 'LTC_high': 0.03925431585839807, 'ETH_mean': 0.061260152496633864, 'ETH_volume': nan, 'ETH_high': 0.07536081475967243, 'BTC_low': 0.040051338197545694, 'ETH_low': 0.0731025265851576, 'LTC_low': 0.0389666432459828, 'BTC_mean': 0.040740514206027, 'BTC_high': 0.038144354952805555, 'ETH_percent_change': 0.03727664497768245, 'ETH_weighted_mean': 0.062271486971764656}\n",
      "{'BTC_volume': 0.1139632963160745, 'LTC_high': 0.03925431585839807, 'ETH_mean': 0.061260152496633864, 'ETH_volume': nan, 'ETH_high': 0.07536081475967243, 'BTC_low': 0.040051338197545694, 'ETH_low': 0.0731025265851576, 'LTC_volume': nan, 'LTC_low': 0.0389666432459828, 'BTC_mean': 0.040740514206027, 'BTC_high': 0.038144354952805555, 'ETH_percent_change': 0.03727664497768245, 'ETH_weighted_mean': 0.062271486971764656}\n",
      "{'BTC_volume': 0.1139632963160745, 'LTC_high': 0.03925431585839807, 'ETH_mean': 0.061260152496633864, 'ETH_volume': nan, 'ETH_high': 0.07536081475967243, 'BTC_low': 0.040051338197545694, 'ETH_low': 0.0731025265851576, 'LTC_volume': nan, 'LTC_low': 0.0389666432459828, 'LTC_mean': 0.03892101139223691, 'BTC_mean': 0.040740514206027, 'BTC_high': 0.038144354952805555, 'ETH_percent_change': 0.03727664497768245, 'ETH_weighted_mean': 0.062271486971764656}\n",
      "{'BTC_volume': 0.1139632963160745, 'LTC_high': 0.03925431585839807, 'ETH_mean': 0.061260152496633864, 'ETH_volume': nan, 'ETH_high': 0.07536081475967243, 'BTC_low': 0.040051338197545694, 'LTC_weighted_mean': 0.03922716607121619, 'ETH_low': 0.0731025265851576, 'LTC_volume': nan, 'LTC_low': 0.0389666432459828, 'LTC_mean': 0.03892101139223691, 'BTC_mean': 0.040740514206027, 'BTC_high': 0.038144354952805555, 'ETH_percent_change': 0.03727664497768245, 'ETH_weighted_mean': 0.062271486971764656}\n",
      "{'BTC_volume': 0.1139632963160745, 'LTC_high': 0.03925431585839807, 'ETH_mean': 0.061260152496633864, 'ETH_volume': nan, 'ETH_high': 0.07536081475967243, 'BTC_low': 0.040051338197545694, 'LTC_weighted_mean': 0.03922716607121619, 'ETH_low': 0.0731025265851576, 'LTC_volume': nan, 'LTC_low': 0.0389666432459828, 'LTC_mean': 0.03892101139223691, 'BTC_mean': 0.040740514206027, 'BTC_high': 0.038144354952805555, 'ETH_percent_change': 0.03727664497768245, 'ETH_weighted_mean': 0.062271486971764656, 'LTC_percent_change': 0.03728851463975526}\n",
      "{'BTC_high': 0.03771996718572344}\n",
      "{'BTC_low': 0.040811929163988556, 'BTC_high': 0.03771996718572344}\n",
      "{'BTC_volume': nan, 'BTC_low': 0.040811929163988556, 'BTC_high': 0.03771996718572344}\n",
      "{'BTC_volume': nan, 'BTC_low': 0.040811929163988556, 'BTC_mean': 0.039568154615497536, 'BTC_high': 0.03771996718572344}\n",
      "{'BTC_volume': nan, 'BTC_low': 0.040811929163988556, 'BTC_mean': 0.039568154615497536, 'BTC_high': 0.03771996718572344}\n",
      "{'BTC_volume': nan, 'BTC_low': 0.040811929163988556, 'BTC_mean': 0.039568154615497536, 'BTC_high': 0.03771996718572344}\n",
      "{'BTC_volume': nan, 'BTC_low': 0.040811929163988556, 'BTC_mean': 0.039568154615497536, 'BTC_high': 0.03771996718572344, 'ETH_high': 0.056444204772738114}\n",
      "{'BTC_volume': nan, 'BTC_mean': 0.039568154615497536, 'BTC_high': 0.03771996718572344, 'ETH_high': 0.056444204772738114, 'BTC_low': 0.040811929163988556, 'ETH_low': 0.05209613052725075}\n",
      "{'BTC_volume': nan, 'BTC_mean': 0.039568154615497536, 'ETH_volume': nan, 'BTC_high': 0.03771996718572344, 'ETH_high': 0.056444204772738114, 'BTC_low': 0.040811929163988556, 'ETH_low': 0.05209613052725075}\n",
      "{'BTC_volume': nan, 'BTC_mean': 0.039568154615497536, 'ETH_volume': nan, 'BTC_high': 0.03771996718572344, 'ETH_high': 0.056444204772738114, 'BTC_low': 0.040811929163988556, 'ETH_mean': 0.08092188841993729, 'ETH_low': 0.05209613052725075}\n",
      "{'BTC_volume': nan, 'BTC_mean': 0.039568154615497536, 'ETH_volume': nan, 'BTC_high': 0.03771996718572344, 'ETH_high': 0.056444204772738114, 'ETH_weighted_mean': 0.06341267252211377, 'BTC_low': 0.040811929163988556, 'ETH_mean': 0.08092188841993729, 'ETH_low': 0.05209613052725075}\n",
      "{'BTC_volume': nan, 'BTC_mean': 0.039568154615497536, 'ETH_volume': nan, 'BTC_high': 0.03771996718572344, 'ETH_high': 0.056444204772738114, 'ETH_weighted_mean': 0.06341267252211377, 'BTC_low': 0.040811929163988556, 'ETH_mean': 0.08092188841993729, 'ETH_low': 0.05209613052725075}\n"
     ]
    },
    {
     "name": "stdout",
     "output_type": "stream",
     "text": [
      "{'BTC_volume': nan, 'BTC_mean': 0.039568154615497536, 'ETH_volume': nan, 'BTC_high': 0.03771996718572344, 'ETH_high': 0.056444204772738114, 'ETH_weighted_mean': 0.06341267252211377, 'BTC_low': 0.040811929163988556, 'LTC_high': 0.039048196725819, 'ETH_mean': 0.08092188841993729, 'ETH_low': 0.05209613052725075}\n",
      "{'LTC_low': 0.03922164904511135, 'BTC_volume': nan, 'BTC_mean': 0.039568154615497536, 'ETH_volume': nan, 'BTC_high': 0.03771996718572344, 'ETH_high': 0.056444204772738114, 'ETH_weighted_mean': 0.06341267252211377, 'BTC_low': 0.040811929163988556, 'LTC_high': 0.039048196725819, 'ETH_mean': 0.08092188841993729, 'ETH_low': 0.05209613052725075}\n",
      "{'BTC_volume': nan, 'LTC_high': 0.039048196725819, 'ETH_mean': 0.08092188841993729, 'ETH_volume': nan, 'ETH_high': 0.056444204772738114, 'BTC_low': 0.040811929163988556, 'ETH_low': 0.05209613052725075, 'LTC_volume': nan, 'LTC_low': 0.03922164904511135, 'BTC_mean': 0.039568154615497536, 'BTC_high': 0.03771996718572344, 'ETH_weighted_mean': 0.06341267252211377}\n",
      "{'BTC_volume': nan, 'LTC_high': 0.039048196725819, 'ETH_mean': 0.08092188841993729, 'ETH_volume': nan, 'ETH_high': 0.056444204772738114, 'BTC_low': 0.040811929163988556, 'ETH_low': 0.05209613052725075, 'LTC_volume': nan, 'LTC_low': 0.03922164904511135, 'LTC_mean': 0.03934894163912652, 'BTC_mean': 0.039568154615497536, 'BTC_high': 0.03771996718572344, 'ETH_weighted_mean': 0.06341267252211377}\n",
      "{'BTC_volume': nan, 'LTC_high': 0.039048196725819, 'ETH_mean': 0.08092188841993729, 'ETH_volume': nan, 'ETH_high': 0.056444204772738114, 'BTC_low': 0.040811929163988556, 'LTC_weighted_mean': 0.039992757585747586, 'ETH_low': 0.05209613052725075, 'LTC_volume': nan, 'LTC_low': 0.03922164904511135, 'LTC_mean': 0.03934894163912652, 'BTC_mean': 0.039568154615497536, 'BTC_high': 0.03771996718572344, 'ETH_weighted_mean': 0.06341267252211377}\n",
      "{'BTC_volume': nan, 'LTC_high': 0.039048196725819, 'ETH_mean': 0.08092188841993729, 'ETH_volume': nan, 'ETH_high': 0.056444204772738114, 'BTC_low': 0.040811929163988556, 'LTC_weighted_mean': 0.039992757585747586, 'ETH_low': 0.05209613052725075, 'LTC_volume': nan, 'LTC_low': 0.03922164904511135, 'LTC_mean': 0.03934894163912652, 'BTC_mean': 0.039568154615497536, 'BTC_high': 0.03771996718572344, 'ETH_weighted_mean': 0.06341267252211377, 'LTC_percent_change': 0.03741726438132718}\n",
      "{'BTC_high': nan}\n",
      "{'BTC_low': nan, 'BTC_high': nan}\n",
      "{'BTC_low': nan, 'BTC_high': nan}\n",
      "{'BTC_mean': nan, 'BTC_low': nan, 'BTC_high': nan}\n",
      "{'BTC_mean': nan, 'BTC_low': nan, 'BTC_high': nan}\n",
      "{'BTC_mean': nan, 'BTC_low': nan, 'BTC_high': nan}\n",
      "{'BTC_mean': nan, 'BTC_low': nan, 'BTC_high': nan, 'ETH_high': nan}\n",
      "{'BTC_mean': nan, 'BTC_low': nan, 'ETH_low': nan, 'BTC_high': nan, 'ETH_high': nan}\n",
      "{'BTC_mean': nan, 'ETH_volume': nan, 'BTC_high': nan, 'ETH_high': nan, 'BTC_low': nan, 'ETH_low': nan}\n",
      "{'ETH_mean': nan, 'BTC_mean': nan, 'ETH_volume': nan, 'BTC_high': nan, 'ETH_high': nan, 'BTC_low': nan, 'ETH_low': nan}\n",
      "{'ETH_mean': nan, 'BTC_mean': nan, 'ETH_volume': nan, 'BTC_high': nan, 'ETH_high': nan, 'ETH_weighted_mean': nan, 'BTC_low': nan, 'ETH_low': nan}\n",
      "{'ETH_mean': nan, 'BTC_mean': nan, 'ETH_volume': nan, 'BTC_high': nan, 'ETH_high': nan, 'ETH_weighted_mean': nan, 'BTC_low': nan, 'ETH_low': nan}\n",
      "{'ETH_mean': nan, 'BTC_mean': nan, 'ETH_volume': nan, 'BTC_high': nan, 'ETH_high': nan, 'ETH_weighted_mean': nan, 'BTC_low': nan, 'LTC_high': nan, 'ETH_low': nan}\n",
      "{'LTC_low': 0.038245112593982916, 'ETH_mean': nan, 'BTC_mean': nan, 'ETH_volume': nan, 'BTC_high': nan, 'ETH_high': nan, 'ETH_weighted_mean': nan, 'BTC_low': nan, 'LTC_high': nan, 'ETH_low': nan}\n",
      "{'LTC_low': 0.038245112593982916, 'ETH_mean': nan, 'BTC_mean': nan, 'ETH_volume': nan, 'BTC_high': nan, 'ETH_high': nan, 'ETH_weighted_mean': nan, 'BTC_low': nan, 'LTC_high': nan, 'ETH_low': nan, 'LTC_volume': nan}\n",
      "{'LTC_high': nan, 'ETH_volume': nan, 'ETH_mean': nan, 'ETH_high': nan, 'BTC_low': nan, 'ETH_low': nan, 'LTC_volume': nan, 'LTC_low': 0.038245112593982916, 'LTC_mean': 0.20477300034441526, 'BTC_mean': nan, 'BTC_high': nan, 'ETH_weighted_mean': nan}\n",
      "{'LTC_high': nan, 'ETH_volume': nan, 'ETH_mean': nan, 'ETH_high': nan, 'BTC_low': nan, 'LTC_weighted_mean': 0.10960016196900656, 'ETH_low': nan, 'LTC_volume': nan, 'LTC_low': 0.038245112593982916, 'LTC_mean': 0.20477300034441526, 'BTC_mean': nan, 'BTC_high': nan, 'ETH_weighted_mean': nan}\n",
      "{'LTC_high': nan, 'ETH_volume': nan, 'ETH_mean': nan, 'ETH_high': nan, 'BTC_low': nan, 'LTC_weighted_mean': 0.10960016196900656, 'ETH_low': nan, 'LTC_volume': nan, 'LTC_low': 0.038245112593982916, 'LTC_mean': 0.20477300034441526, 'BTC_mean': nan, 'BTC_high': nan, 'ETH_weighted_mean': nan, 'LTC_percent_change': 0.1732608137941683}\n",
      "{'BTC_high': nan}\n",
      "{'BTC_low': nan, 'BTC_high': nan}\n",
      "{'BTC_low': nan, 'BTC_high': nan}\n",
      "{'BTC_mean': nan, 'BTC_low': nan, 'BTC_high': nan}\n",
      "{'BTC_mean': nan, 'BTC_low': nan, 'BTC_high': nan}\n",
      "{'BTC_mean': nan, 'BTC_low': nan, 'BTC_high': nan}\n",
      "{'BTC_mean': nan, 'BTC_low': nan, 'BTC_high': nan, 'ETH_high': nan}\n",
      "{'BTC_mean': nan, 'BTC_low': nan, 'ETH_low': 1.5142104734617063, 'BTC_high': nan, 'ETH_high': nan}\n",
      "{'BTC_mean': nan, 'ETH_volume': nan, 'BTC_high': nan, 'ETH_high': nan, 'BTC_low': nan, 'ETH_low': 1.5142104734617063}\n",
      "{'ETH_mean': nan, 'BTC_mean': nan, 'ETH_volume': nan, 'BTC_high': nan, 'ETH_high': nan, 'BTC_low': nan, 'ETH_low': 1.5142104734617063}\n",
      "{'ETH_mean': nan, 'BTC_mean': nan, 'ETH_volume': nan, 'BTC_high': nan, 'ETH_high': nan, 'ETH_weighted_mean': 0.1288793257667503, 'BTC_low': nan, 'ETH_low': 1.5142104734617063}\n",
      "{'ETH_mean': nan, 'BTC_mean': nan, 'ETH_volume': nan, 'BTC_high': nan, 'ETH_high': nan, 'ETH_weighted_mean': 0.1288793257667503, 'BTC_low': nan, 'ETH_low': 1.5142104734617063}\n",
      "{'ETH_mean': nan, 'BTC_mean': nan, 'ETH_volume': nan, 'BTC_high': nan, 'ETH_high': nan, 'ETH_weighted_mean': 0.1288793257667503, 'BTC_low': nan, 'ETH_low': 1.5142104734617063}\n",
      "{'LTC_low': nan, 'ETH_mean': nan, 'BTC_mean': nan, 'ETH_volume': nan, 'BTC_high': nan, 'ETH_high': nan, 'ETH_weighted_mean': 0.1288793257667503, 'BTC_low': nan, 'ETH_low': 1.5142104734617063}\n",
      "{'LTC_low': nan, 'ETH_mean': nan, 'BTC_mean': nan, 'ETH_volume': nan, 'BTC_high': nan, 'ETH_high': nan, 'ETH_weighted_mean': 0.1288793257667503, 'BTC_low': nan, 'ETH_low': 1.5142104734617063, 'LTC_volume': nan}\n",
      "{'LTC_low': nan, 'ETH_mean': nan, 'LTC_mean': 0.04624793878563757, 'BTC_mean': nan, 'ETH_volume': nan, 'BTC_high': nan, 'ETH_high': nan, 'ETH_weighted_mean': 0.1288793257667503, 'BTC_low': nan, 'ETH_low': 1.5142104734617063, 'LTC_volume': nan}\n",
      "{'ETH_volume': nan, 'ETH_mean': nan, 'ETH_high': nan, 'BTC_low': nan, 'LTC_weighted_mean': 0.07624500776350743, 'ETH_low': 1.5142104734617063, 'LTC_volume': nan, 'LTC_low': nan, 'LTC_mean': 0.04624793878563757, 'BTC_mean': nan, 'BTC_high': nan, 'ETH_weighted_mean': 0.1288793257667503}\n",
      "{'LTC_percent_change': 0.19528997498022427, 'ETH_volume': nan, 'ETH_mean': nan, 'ETH_high': nan, 'BTC_low': nan, 'LTC_weighted_mean': 0.07624500776350743, 'ETH_low': 1.5142104734617063, 'LTC_volume': nan, 'LTC_low': nan, 'LTC_mean': 0.04624793878563757, 'BTC_mean': nan, 'BTC_high': nan, 'ETH_weighted_mean': 0.1288793257667503}\n",
      "{'BTC_high': nan}\n",
      "{'BTC_low': nan, 'BTC_high': nan}\n",
      "{'BTC_low': nan, 'BTC_high': nan}\n",
      "{'BTC_mean': nan, 'BTC_low': nan, 'BTC_high': nan}\n",
      "{'BTC_mean': nan, 'BTC_low': nan, 'BTC_high': nan}\n",
      "{'BTC_mean': nan, 'BTC_low': nan, 'BTC_high': nan}\n",
      "{'BTC_mean': nan, 'BTC_low': nan, 'BTC_high': nan, 'ETH_high': 0.11509284691611295}\n",
      "{'BTC_mean': nan, 'BTC_low': nan, 'ETH_low': nan, 'BTC_high': nan, 'ETH_high': 0.11509284691611295}\n",
      "{'BTC_mean': nan, 'ETH_volume': nan, 'BTC_high': nan, 'ETH_high': 0.11509284691611295, 'BTC_low': nan, 'ETH_low': nan}\n",
      "{'ETH_mean': nan, 'BTC_mean': nan, 'ETH_volume': nan, 'BTC_high': nan, 'ETH_high': 0.11509284691611295, 'BTC_low': nan, 'ETH_low': nan}\n",
      "{'ETH_mean': nan, 'BTC_mean': nan, 'ETH_volume': nan, 'BTC_high': nan, 'ETH_high': 0.11509284691611295, 'ETH_weighted_mean': nan, 'BTC_low': nan, 'ETH_low': nan}\n",
      "{'ETH_mean': nan, 'BTC_mean': nan, 'ETH_volume': nan, 'BTC_high': nan, 'ETH_high': 0.11509284691611295, 'ETH_weighted_mean': nan, 'BTC_low': nan, 'ETH_low': nan}\n",
      "{'ETH_mean': nan, 'BTC_mean': nan, 'ETH_volume': nan, 'BTC_high': nan, 'ETH_high': 0.11509284691611295, 'ETH_weighted_mean': nan, 'BTC_low': nan, 'ETH_low': nan}\n"
     ]
    },
    {
     "name": "stdout",
     "output_type": "stream",
     "text": [
      "{'LTC_low': nan, 'ETH_mean': nan, 'BTC_mean': nan, 'ETH_volume': nan, 'BTC_high': nan, 'ETH_high': 0.11509284691611295, 'ETH_weighted_mean': nan, 'BTC_low': nan, 'ETH_low': nan}\n",
      "{'LTC_low': nan, 'ETH_mean': nan, 'BTC_mean': nan, 'ETH_volume': nan, 'BTC_high': nan, 'ETH_high': 0.11509284691611295, 'ETH_weighted_mean': nan, 'BTC_low': nan, 'ETH_low': nan, 'LTC_volume': nan}\n",
      "{'LTC_low': nan, 'ETH_mean': nan, 'BTC_mean': nan, 'ETH_volume': nan, 'BTC_high': nan, 'ETH_high': 0.11509284691611295, 'ETH_weighted_mean': nan, 'BTC_low': nan, 'ETH_low': nan, 'LTC_volume': nan}\n",
      "{'LTC_low': nan, 'ETH_mean': nan, 'LTC_weighted_mean': 0.22977376562134288, 'BTC_mean': nan, 'ETH_volume': nan, 'BTC_high': nan, 'ETH_high': 0.11509284691611295, 'ETH_weighted_mean': nan, 'BTC_low': nan, 'ETH_low': nan, 'LTC_volume': nan}\n",
      "{'LTC_percent_change': nan, 'ETH_volume': nan, 'ETH_mean': nan, 'ETH_high': 0.11509284691611295, 'BTC_low': nan, 'ETH_low': nan, 'LTC_volume': nan, 'LTC_low': nan, 'LTC_weighted_mean': 0.22977376562134288, 'BTC_mean': nan, 'BTC_high': nan, 'ETH_weighted_mean': nan}\n",
      "{'BTC_high': nan}\n",
      "{'BTC_low': nan, 'BTC_high': nan}\n",
      "{'BTC_low': nan, 'BTC_high': nan}\n",
      "{'BTC_mean': nan, 'BTC_low': nan, 'BTC_high': nan}\n",
      "{'BTC_mean': nan, 'BTC_low': nan, 'BTC_high': nan}\n",
      "{'BTC_mean': nan, 'BTC_low': nan, 'BTC_high': nan}\n",
      "{'BTC_mean': nan, 'BTC_low': nan, 'BTC_high': nan, 'ETH_high': 1.9156700190984883}\n",
      "{'BTC_mean': nan, 'BTC_low': nan, 'ETH_low': 0.20105414683135106, 'BTC_high': nan, 'ETH_high': 1.9156700190984883}\n",
      "{'BTC_mean': nan, 'ETH_volume': nan, 'BTC_high': nan, 'ETH_high': 1.9156700190984883, 'BTC_low': nan, 'ETH_low': 0.20105414683135106}\n",
      "{'ETH_mean': 0.061515445973162, 'BTC_mean': nan, 'ETH_volume': nan, 'BTC_high': nan, 'ETH_high': 1.9156700190984883, 'BTC_low': nan, 'ETH_low': 0.20105414683135106}\n",
      "{'ETH_mean': 0.061515445973162, 'BTC_mean': nan, 'ETH_volume': nan, 'BTC_high': nan, 'ETH_high': 1.9156700190984883, 'ETH_weighted_mean': nan, 'BTC_low': nan, 'ETH_low': 0.20105414683135106}\n",
      "{'ETH_mean': 0.061515445973162, 'BTC_mean': nan, 'ETH_volume': nan, 'BTC_high': nan, 'ETH_high': 1.9156700190984883, 'ETH_weighted_mean': nan, 'BTC_low': nan, 'ETH_low': 0.20105414683135106}\n",
      "{'ETH_mean': 0.061515445973162, 'BTC_mean': nan, 'ETH_volume': nan, 'BTC_high': nan, 'ETH_high': 1.9156700190984883, 'ETH_weighted_mean': nan, 'BTC_low': nan, 'ETH_low': 0.20105414683135106}\n",
      "{'LTC_low': 0.16495162491247334, 'ETH_mean': 0.061515445973162, 'BTC_mean': nan, 'ETH_volume': nan, 'BTC_high': nan, 'ETH_high': 1.9156700190984883, 'ETH_weighted_mean': nan, 'BTC_low': nan, 'ETH_low': 0.20105414683135106}\n",
      "{'LTC_low': 0.16495162491247334, 'ETH_mean': 0.061515445973162, 'BTC_mean': nan, 'ETH_volume': nan, 'BTC_high': nan, 'ETH_high': 1.9156700190984883, 'ETH_weighted_mean': nan, 'BTC_low': nan, 'ETH_low': 0.20105414683135106, 'LTC_volume': nan}\n",
      "{'LTC_low': 0.16495162491247334, 'ETH_mean': 0.061515445973162, 'BTC_mean': nan, 'ETH_volume': nan, 'BTC_high': nan, 'ETH_high': 1.9156700190984883, 'ETH_weighted_mean': nan, 'BTC_low': nan, 'ETH_low': 0.20105414683135106, 'LTC_volume': nan}\n",
      "{'LTC_low': 0.16495162491247334, 'ETH_mean': 0.061515445973162, 'LTC_weighted_mean': 0.10682037472348718, 'BTC_mean': nan, 'ETH_volume': nan, 'BTC_high': nan, 'ETH_high': 1.9156700190984883, 'ETH_weighted_mean': nan, 'BTC_low': nan, 'ETH_low': 0.20105414683135106, 'LTC_volume': nan}\n",
      "{'LTC_low': 0.16495162491247334, 'ETH_mean': 0.061515445973162, 'LTC_weighted_mean': 0.10682037472348718, 'BTC_mean': nan, 'ETH_volume': nan, 'BTC_high': nan, 'ETH_high': 1.9156700190984883, 'ETH_weighted_mean': nan, 'BTC_low': nan, 'ETH_low': 0.20105414683135106, 'LTC_volume': nan}\n",
      "{'BTC_high': nan}\n",
      "{'BTC_low': nan, 'BTC_high': nan}\n",
      "{'BTC_low': nan, 'BTC_high': nan}\n",
      "{'BTC_mean': nan, 'BTC_low': nan, 'BTC_high': nan}\n",
      "{'BTC_mean': nan, 'BTC_low': nan, 'BTC_high': nan}\n",
      "{'BTC_mean': nan, 'BTC_low': nan, 'BTC_high': nan}\n",
      "{'BTC_mean': nan, 'BTC_low': nan, 'BTC_high': nan, 'ETH_high': 0.10935740191691024}\n",
      "{'BTC_mean': nan, 'BTC_low': nan, 'ETH_low': nan, 'BTC_high': nan, 'ETH_high': 0.10935740191691024}\n",
      "{'BTC_mean': nan, 'ETH_volume': nan, 'BTC_high': nan, 'ETH_high': 0.10935740191691024, 'BTC_low': nan, 'ETH_low': nan}\n",
      "{'BTC_mean': nan, 'ETH_volume': nan, 'BTC_high': nan, 'ETH_high': 0.10935740191691024, 'BTC_low': nan, 'ETH_low': nan}\n",
      "{'BTC_mean': nan, 'ETH_volume': nan, 'BTC_high': nan, 'ETH_high': 0.10935740191691024, 'ETH_weighted_mean': nan, 'BTC_low': nan, 'ETH_low': nan}\n",
      "{'BTC_mean': nan, 'ETH_volume': nan, 'BTC_high': nan, 'ETH_high': 0.10935740191691024, 'ETH_weighted_mean': nan, 'BTC_low': nan, 'ETH_low': nan}\n",
      "{'BTC_mean': nan, 'ETH_volume': nan, 'BTC_high': nan, 'ETH_high': 0.10935740191691024, 'ETH_weighted_mean': nan, 'BTC_low': nan, 'ETH_low': nan}\n",
      "{'LTC_low': 0.2572414793719936, 'BTC_mean': nan, 'ETH_volume': nan, 'BTC_high': nan, 'ETH_high': 0.10935740191691024, 'ETH_weighted_mean': nan, 'BTC_low': nan, 'ETH_low': nan}\n",
      "{'LTC_low': 0.2572414793719936, 'BTC_mean': nan, 'ETH_volume': nan, 'BTC_high': nan, 'ETH_high': 0.10935740191691024, 'ETH_weighted_mean': nan, 'BTC_low': nan, 'ETH_low': nan, 'LTC_volume': nan}\n",
      "{'LTC_low': 0.2572414793719936, 'BTC_mean': nan, 'ETH_volume': nan, 'BTC_high': nan, 'ETH_high': 0.10935740191691024, 'ETH_weighted_mean': nan, 'BTC_low': nan, 'ETH_low': nan, 'LTC_volume': nan}\n",
      "{'LTC_low': 0.2572414793719936, 'LTC_weighted_mean': nan, 'BTC_mean': nan, 'ETH_volume': nan, 'BTC_high': nan, 'ETH_high': 0.10935740191691024, 'ETH_weighted_mean': nan, 'BTC_low': nan, 'ETH_low': nan, 'LTC_volume': nan}\n",
      "{'LTC_low': 0.2572414793719936, 'LTC_weighted_mean': nan, 'BTC_mean': nan, 'ETH_volume': nan, 'BTC_high': nan, 'ETH_high': 0.10935740191691024, 'ETH_weighted_mean': nan, 'BTC_low': nan, 'ETH_low': nan, 'LTC_volume': nan}\n",
      "{'BTC_high': nan}\n",
      "{'BTC_low': nan, 'BTC_high': nan}\n",
      "{'BTC_low': nan, 'BTC_high': nan}\n",
      "{'BTC_mean': nan, 'BTC_low': nan, 'BTC_high': nan}\n",
      "{'BTC_mean': nan, 'BTC_low': nan, 'BTC_high': nan}\n",
      "{'BTC_mean': nan, 'BTC_low': nan, 'BTC_high': nan}\n",
      "{'BTC_mean': nan, 'BTC_low': nan, 'BTC_high': nan}\n",
      "{'BTC_mean': nan, 'BTC_low': nan, 'ETH_low': nan, 'BTC_high': nan}\n",
      "{'BTC_mean': nan, 'BTC_low': nan, 'ETH_volume': nan, 'ETH_low': nan, 'BTC_high': nan}\n",
      "{'BTC_mean': nan, 'BTC_low': nan, 'ETH_volume': nan, 'ETH_low': nan, 'BTC_high': nan}\n",
      "{'BTC_mean': nan, 'BTC_high': nan, 'ETH_volume': nan, 'ETH_weighted_mean': 0.36422018007420803, 'BTC_low': nan, 'ETH_low': nan}\n",
      "{'BTC_mean': nan, 'BTC_high': nan, 'ETH_volume': nan, 'ETH_weighted_mean': 0.36422018007420803, 'BTC_low': nan, 'ETH_low': nan}\n",
      "{'BTC_mean': nan, 'BTC_high': nan, 'ETH_volume': nan, 'ETH_weighted_mean': 0.36422018007420803, 'BTC_low': nan, 'ETH_low': nan}\n",
      "{'LTC_low': 0.28718351832636885, 'BTC_mean': nan, 'BTC_high': nan, 'ETH_volume': nan, 'ETH_weighted_mean': 0.36422018007420803, 'BTC_low': nan, 'ETH_low': nan}\n",
      "{'LTC_low': 0.28718351832636885, 'BTC_mean': nan, 'BTC_high': nan, 'ETH_volume': nan, 'ETH_weighted_mean': 0.36422018007420803, 'BTC_low': nan, 'ETH_low': nan, 'LTC_volume': nan}\n",
      "{'LTC_low': 0.28718351832636885, 'BTC_mean': nan, 'BTC_high': nan, 'ETH_volume': nan, 'ETH_weighted_mean': 0.36422018007420803, 'BTC_low': nan, 'ETH_low': nan, 'LTC_volume': nan}\n",
      "{'LTC_low': 0.28718351832636885, 'LTC_weighted_mean': nan, 'BTC_mean': nan, 'BTC_high': nan, 'ETH_volume': nan, 'ETH_weighted_mean': 0.36422018007420803, 'BTC_low': nan, 'ETH_low': nan, 'LTC_volume': nan}\n",
      "{'LTC_low': 0.28718351832636885, 'LTC_weighted_mean': nan, 'BTC_mean': nan, 'BTC_high': nan, 'ETH_volume': nan, 'ETH_weighted_mean': 0.36422018007420803, 'BTC_low': nan, 'ETH_low': nan, 'LTC_volume': nan}\n",
      "{'BTC_high': nan}\n",
      "{'BTC_low': nan, 'BTC_high': nan}\n",
      "{'BTC_low': nan, 'BTC_high': nan}\n",
      "{'BTC_mean': nan, 'BTC_low': nan, 'BTC_high': nan}\n",
      "{'BTC_mean': nan, 'BTC_low': nan, 'BTC_high': nan}\n",
      "{'BTC_mean': nan, 'BTC_low': nan, 'BTC_high': nan}\n",
      "{'BTC_mean': nan, 'BTC_low': nan, 'BTC_high': nan}\n",
      "{'BTC_mean': nan, 'BTC_low': nan, 'ETH_low': nan, 'BTC_high': nan}\n"
     ]
    },
    {
     "ename": "KeyboardInterrupt",
     "evalue": "",
     "output_type": "error",
     "traceback": [
      "\u001b[0;31m---------------------------------------------------------------------------\u001b[0m",
      "\u001b[0;31mKeyboardInterrupt\u001b[0m                         Traceback (most recent call last)",
      "\u001b[0;32m<ipython-input-63-cadae9083ff1>\u001b[0m in \u001b[0;36m<module>\u001b[0;34m()\u001b[0m\n\u001b[1;32m      7\u001b[0m         \u001b[0;32mif\u001b[0m \u001b[0mfeature\u001b[0m \u001b[0;32mnot\u001b[0m \u001b[0;32min\u001b[0m \u001b[0mfeature_set\u001b[0m\u001b[0;34m:\u001b[0m\u001b[0;34m\u001b[0m\u001b[0m\n\u001b[1;32m      8\u001b[0m             \u001b[0mto_use\u001b[0m \u001b[0;34m=\u001b[0m \u001b[0mfeature_set\u001b[0m \u001b[0;34m+\u001b[0m \u001b[0;34m[\u001b[0m\u001b[0mfeature\u001b[0m\u001b[0;34m]\u001b[0m\u001b[0;34m\u001b[0m\u001b[0m\n\u001b[0;32m----> 9\u001b[0;31m             \u001b[0mW\u001b[0m\u001b[0;34m,\u001b[0m \u001b[0mb\u001b[0m \u001b[0;34m=\u001b[0m \u001b[0mtrain_with_window_size\u001b[0m\u001b[0;34m(\u001b[0m\u001b[0;36m1\u001b[0m\u001b[0;34m,\u001b[0m \u001b[0mfeatures\u001b[0m\u001b[0;34m=\u001b[0m\u001b[0mto_use\u001b[0m\u001b[0;34m,\u001b[0m \u001b[0mloss_func\u001b[0m\u001b[0;34m=\u001b[0m\u001b[0;34m'RMSE_log_price'\u001b[0m\u001b[0;34m,\u001b[0m \u001b[0mverbose\u001b[0m\u001b[0;34m=\u001b[0m\u001b[0;32mFalse\u001b[0m\u001b[0;34m)\u001b[0m\u001b[0;34m\u001b[0m\u001b[0m\n\u001b[0m\u001b[1;32m     10\u001b[0m             \u001b[0mperformance_with_new_feature\u001b[0m\u001b[0;34m[\u001b[0m\u001b[0mfeature\u001b[0m\u001b[0;34m]\u001b[0m \u001b[0;34m=\u001b[0m \u001b[0mvalidate_with_window_size\u001b[0m\u001b[0;34m(\u001b[0m\u001b[0;36m1\u001b[0m\u001b[0;34m,\u001b[0m \u001b[0mto_use\u001b[0m\u001b[0;34m,\u001b[0m \u001b[0mW\u001b[0m\u001b[0;34m,\u001b[0m \u001b[0mb\u001b[0m\u001b[0;34m,\u001b[0m \u001b[0mverbose\u001b[0m\u001b[0;34m=\u001b[0m\u001b[0;32mFalse\u001b[0m\u001b[0;34m)\u001b[0m\u001b[0;34m\u001b[0m\u001b[0m\n\u001b[1;32m     11\u001b[0m         \u001b[0mprint\u001b[0m\u001b[0;34m(\u001b[0m\u001b[0mperformance_with_new_feature\u001b[0m\u001b[0;34m)\u001b[0m\u001b[0;34m\u001b[0m\u001b[0m\n",
      "\u001b[0;32m<ipython-input-62-d79daf874e5d>\u001b[0m in \u001b[0;36mtrain_with_window_size\u001b[0;34m(window_size, features, loss_func, verbose)\u001b[0m\n\u001b[1;32m     23\u001b[0m             \u001b[0miteration\u001b[0m \u001b[0;34m+=\u001b[0m \u001b[0;36m1\u001b[0m\u001b[0;34m\u001b[0m\u001b[0m\n\u001b[1;32m     24\u001b[0m     \u001b[0;31m#         print('iteration ',iteration)\u001b[0m\u001b[0;34m\u001b[0m\u001b[0;34m\u001b[0m\u001b[0m\n\u001b[0;32m---> 25\u001b[0;31m             \u001b[0mX\u001b[0m \u001b[0;34m=\u001b[0m \u001b[0mdf\u001b[0m\u001b[0;34m.\u001b[0m\u001b[0mloc\u001b[0m\u001b[0;34m[\u001b[0m\u001b[0mtimestep\u001b[0m\u001b[0;34m:\u001b[0m\u001b[0mtimestep\u001b[0m\u001b[0;34m+\u001b[0m\u001b[0mwindow_size\u001b[0m\u001b[0;34m-\u001b[0m\u001b[0;36m1\u001b[0m\u001b[0;34m,\u001b[0m \u001b[0mfeatures\u001b[0m\u001b[0;34m]\u001b[0m\u001b[0;34m.\u001b[0m\u001b[0mvalues\u001b[0m\u001b[0;34m.\u001b[0m\u001b[0mflatten\u001b[0m\u001b[0;34m(\u001b[0m\u001b[0;34m)\u001b[0m\u001b[0;34m\u001b[0m\u001b[0m\n\u001b[0m\u001b[1;32m     26\u001b[0m \u001b[0;31m#             if math.isnan(X):\u001b[0m\u001b[0;34m\u001b[0m\u001b[0;34m\u001b[0m\u001b[0m\n\u001b[1;32m     27\u001b[0m \u001b[0;31m#                 raise ValueError('Input has nan')\u001b[0m\u001b[0;34m\u001b[0m\u001b[0;34m\u001b[0m\u001b[0m\n",
      "\u001b[0;32m~/.local/lib/python3.5/site-packages/pandas/core/indexing.py\u001b[0m in \u001b[0;36m__getitem__\u001b[0;34m(self, key)\u001b[0m\n\u001b[1;32m   1365\u001b[0m             \u001b[0;32mexcept\u001b[0m \u001b[0;34m(\u001b[0m\u001b[0mKeyError\u001b[0m\u001b[0;34m,\u001b[0m \u001b[0mIndexError\u001b[0m\u001b[0;34m)\u001b[0m\u001b[0;34m:\u001b[0m\u001b[0;34m\u001b[0m\u001b[0m\n\u001b[1;32m   1366\u001b[0m                 \u001b[0;32mpass\u001b[0m\u001b[0;34m\u001b[0m\u001b[0m\n\u001b[0;32m-> 1367\u001b[0;31m             \u001b[0;32mreturn\u001b[0m \u001b[0mself\u001b[0m\u001b[0;34m.\u001b[0m\u001b[0m_getitem_tuple\u001b[0m\u001b[0;34m(\u001b[0m\u001b[0mkey\u001b[0m\u001b[0;34m)\u001b[0m\u001b[0;34m\u001b[0m\u001b[0m\n\u001b[0m\u001b[1;32m   1368\u001b[0m         \u001b[0;32melse\u001b[0m\u001b[0;34m:\u001b[0m\u001b[0;34m\u001b[0m\u001b[0m\n\u001b[1;32m   1369\u001b[0m             \u001b[0;31m# we by definition only have the 0th axis\u001b[0m\u001b[0;34m\u001b[0m\u001b[0;34m\u001b[0m\u001b[0m\n",
      "\u001b[0;32m~/.local/lib/python3.5/site-packages/pandas/core/indexing.py\u001b[0m in \u001b[0;36m_getitem_tuple\u001b[0;34m(self, tup)\u001b[0m\n\u001b[1;32m    876\u001b[0m                 \u001b[0;32mcontinue\u001b[0m\u001b[0;34m\u001b[0m\u001b[0m\n\u001b[1;32m    877\u001b[0m \u001b[0;34m\u001b[0m\u001b[0m\n\u001b[0;32m--> 878\u001b[0;31m             \u001b[0mretval\u001b[0m \u001b[0;34m=\u001b[0m \u001b[0mgetattr\u001b[0m\u001b[0;34m(\u001b[0m\u001b[0mretval\u001b[0m\u001b[0;34m,\u001b[0m \u001b[0mself\u001b[0m\u001b[0;34m.\u001b[0m\u001b[0mname\u001b[0m\u001b[0;34m)\u001b[0m\u001b[0;34m.\u001b[0m\u001b[0m_getitem_axis\u001b[0m\u001b[0;34m(\u001b[0m\u001b[0mkey\u001b[0m\u001b[0;34m,\u001b[0m \u001b[0maxis\u001b[0m\u001b[0;34m=\u001b[0m\u001b[0mi\u001b[0m\u001b[0;34m)\u001b[0m\u001b[0;34m\u001b[0m\u001b[0m\n\u001b[0m\u001b[1;32m    879\u001b[0m \u001b[0;34m\u001b[0m\u001b[0m\n\u001b[1;32m    880\u001b[0m         \u001b[0;32mreturn\u001b[0m \u001b[0mretval\u001b[0m\u001b[0;34m\u001b[0m\u001b[0m\n",
      "\u001b[0;32m~/.local/lib/python3.5/site-packages/pandas/core/indexing.py\u001b[0m in \u001b[0;36m_getitem_axis\u001b[0;34m(self, key, axis)\u001b[0m\n\u001b[1;32m   1579\u001b[0m         \u001b[0;32mif\u001b[0m \u001b[0misinstance\u001b[0m\u001b[0;34m(\u001b[0m\u001b[0mkey\u001b[0m\u001b[0;34m,\u001b[0m \u001b[0mslice\u001b[0m\u001b[0;34m)\u001b[0m\u001b[0;34m:\u001b[0m\u001b[0;34m\u001b[0m\u001b[0m\n\u001b[1;32m   1580\u001b[0m             \u001b[0mself\u001b[0m\u001b[0;34m.\u001b[0m\u001b[0m_has_valid_type\u001b[0m\u001b[0;34m(\u001b[0m\u001b[0mkey\u001b[0m\u001b[0;34m,\u001b[0m \u001b[0maxis\u001b[0m\u001b[0;34m)\u001b[0m\u001b[0;34m\u001b[0m\u001b[0m\n\u001b[0;32m-> 1581\u001b[0;31m             \u001b[0;32mreturn\u001b[0m \u001b[0mself\u001b[0m\u001b[0;34m.\u001b[0m\u001b[0m_get_slice_axis\u001b[0m\u001b[0;34m(\u001b[0m\u001b[0mkey\u001b[0m\u001b[0;34m,\u001b[0m \u001b[0maxis\u001b[0m\u001b[0;34m=\u001b[0m\u001b[0maxis\u001b[0m\u001b[0;34m)\u001b[0m\u001b[0;34m\u001b[0m\u001b[0m\n\u001b[0m\u001b[1;32m   1582\u001b[0m         \u001b[0;32melif\u001b[0m \u001b[0mis_bool_indexer\u001b[0m\u001b[0;34m(\u001b[0m\u001b[0mkey\u001b[0m\u001b[0;34m)\u001b[0m\u001b[0;34m:\u001b[0m\u001b[0;34m\u001b[0m\u001b[0m\n\u001b[1;32m   1583\u001b[0m             \u001b[0;32mreturn\u001b[0m \u001b[0mself\u001b[0m\u001b[0;34m.\u001b[0m\u001b[0m_getbool_axis\u001b[0m\u001b[0;34m(\u001b[0m\u001b[0mkey\u001b[0m\u001b[0;34m,\u001b[0m \u001b[0maxis\u001b[0m\u001b[0;34m=\u001b[0m\u001b[0maxis\u001b[0m\u001b[0;34m)\u001b[0m\u001b[0;34m\u001b[0m\u001b[0m\n",
      "\u001b[0;32m~/.local/lib/python3.5/site-packages/pandas/core/indexing.py\u001b[0m in \u001b[0;36m_get_slice_axis\u001b[0;34m(self, slice_obj, axis)\u001b[0m\n\u001b[1;32m   1407\u001b[0m \u001b[0;34m\u001b[0m\u001b[0m\n\u001b[1;32m   1408\u001b[0m         \u001b[0;32mif\u001b[0m \u001b[0misinstance\u001b[0m\u001b[0;34m(\u001b[0m\u001b[0mindexer\u001b[0m\u001b[0;34m,\u001b[0m \u001b[0mslice\u001b[0m\u001b[0;34m)\u001b[0m\u001b[0;34m:\u001b[0m\u001b[0;34m\u001b[0m\u001b[0m\n\u001b[0;32m-> 1409\u001b[0;31m             \u001b[0;32mreturn\u001b[0m \u001b[0mself\u001b[0m\u001b[0;34m.\u001b[0m\u001b[0m_slice\u001b[0m\u001b[0;34m(\u001b[0m\u001b[0mindexer\u001b[0m\u001b[0;34m,\u001b[0m \u001b[0maxis\u001b[0m\u001b[0;34m=\u001b[0m\u001b[0maxis\u001b[0m\u001b[0;34m,\u001b[0m \u001b[0mkind\u001b[0m\u001b[0;34m=\u001b[0m\u001b[0;34m'iloc'\u001b[0m\u001b[0;34m)\u001b[0m\u001b[0;34m\u001b[0m\u001b[0m\n\u001b[0m\u001b[1;32m   1410\u001b[0m         \u001b[0;32melse\u001b[0m\u001b[0;34m:\u001b[0m\u001b[0;34m\u001b[0m\u001b[0m\n\u001b[1;32m   1411\u001b[0m             \u001b[0;32mreturn\u001b[0m \u001b[0mself\u001b[0m\u001b[0;34m.\u001b[0m\u001b[0mobj\u001b[0m\u001b[0;34m.\u001b[0m\u001b[0m_take\u001b[0m\u001b[0;34m(\u001b[0m\u001b[0mindexer\u001b[0m\u001b[0;34m,\u001b[0m \u001b[0maxis\u001b[0m\u001b[0;34m=\u001b[0m\u001b[0maxis\u001b[0m\u001b[0;34m,\u001b[0m \u001b[0mconvert\u001b[0m\u001b[0;34m=\u001b[0m\u001b[0;32mFalse\u001b[0m\u001b[0;34m)\u001b[0m\u001b[0;34m\u001b[0m\u001b[0m\n",
      "\u001b[0;32m~/.local/lib/python3.5/site-packages/pandas/core/indexing.py\u001b[0m in \u001b[0;36m_slice\u001b[0;34m(self, obj, axis, kind)\u001b[0m\n\u001b[1;32m    153\u001b[0m         \u001b[0;32mif\u001b[0m \u001b[0maxis\u001b[0m \u001b[0;32mis\u001b[0m \u001b[0;32mNone\u001b[0m\u001b[0;34m:\u001b[0m\u001b[0;34m\u001b[0m\u001b[0m\n\u001b[1;32m    154\u001b[0m             \u001b[0maxis\u001b[0m \u001b[0;34m=\u001b[0m \u001b[0mself\u001b[0m\u001b[0;34m.\u001b[0m\u001b[0maxis\u001b[0m\u001b[0;34m\u001b[0m\u001b[0m\n\u001b[0;32m--> 155\u001b[0;31m         \u001b[0;32mreturn\u001b[0m \u001b[0mself\u001b[0m\u001b[0;34m.\u001b[0m\u001b[0mobj\u001b[0m\u001b[0;34m.\u001b[0m\u001b[0m_slice\u001b[0m\u001b[0;34m(\u001b[0m\u001b[0mobj\u001b[0m\u001b[0;34m,\u001b[0m \u001b[0maxis\u001b[0m\u001b[0;34m=\u001b[0m\u001b[0maxis\u001b[0m\u001b[0;34m,\u001b[0m \u001b[0mkind\u001b[0m\u001b[0;34m=\u001b[0m\u001b[0mkind\u001b[0m\u001b[0;34m)\u001b[0m\u001b[0;34m\u001b[0m\u001b[0m\n\u001b[0m\u001b[1;32m    156\u001b[0m \u001b[0;34m\u001b[0m\u001b[0m\n\u001b[1;32m    157\u001b[0m     \u001b[0;32mdef\u001b[0m \u001b[0m_get_setitem_indexer\u001b[0m\u001b[0;34m(\u001b[0m\u001b[0mself\u001b[0m\u001b[0;34m,\u001b[0m \u001b[0mkey\u001b[0m\u001b[0;34m)\u001b[0m\u001b[0;34m:\u001b[0m\u001b[0;34m\u001b[0m\u001b[0m\n",
      "\u001b[0;32m~/.local/lib/python3.5/site-packages/pandas/core/generic.py\u001b[0m in \u001b[0;36m_slice\u001b[0;34m(self, slobj, axis, kind)\u001b[0m\n\u001b[1;32m   1942\u001b[0m         \"\"\"\n\u001b[1;32m   1943\u001b[0m         \u001b[0maxis\u001b[0m \u001b[0;34m=\u001b[0m \u001b[0mself\u001b[0m\u001b[0;34m.\u001b[0m\u001b[0m_get_block_manager_axis\u001b[0m\u001b[0;34m(\u001b[0m\u001b[0maxis\u001b[0m\u001b[0;34m)\u001b[0m\u001b[0;34m\u001b[0m\u001b[0m\n\u001b[0;32m-> 1944\u001b[0;31m         \u001b[0mresult\u001b[0m \u001b[0;34m=\u001b[0m \u001b[0mself\u001b[0m\u001b[0;34m.\u001b[0m\u001b[0m_constructor\u001b[0m\u001b[0;34m(\u001b[0m\u001b[0mself\u001b[0m\u001b[0;34m.\u001b[0m\u001b[0m_data\u001b[0m\u001b[0;34m.\u001b[0m\u001b[0mget_slice\u001b[0m\u001b[0;34m(\u001b[0m\u001b[0mslobj\u001b[0m\u001b[0;34m,\u001b[0m \u001b[0maxis\u001b[0m\u001b[0;34m=\u001b[0m\u001b[0maxis\u001b[0m\u001b[0;34m)\u001b[0m\u001b[0;34m)\u001b[0m\u001b[0;34m\u001b[0m\u001b[0m\n\u001b[0m\u001b[1;32m   1945\u001b[0m         \u001b[0mresult\u001b[0m \u001b[0;34m=\u001b[0m \u001b[0mresult\u001b[0m\u001b[0;34m.\u001b[0m\u001b[0m__finalize__\u001b[0m\u001b[0;34m(\u001b[0m\u001b[0mself\u001b[0m\u001b[0;34m)\u001b[0m\u001b[0;34m\u001b[0m\u001b[0m\n\u001b[1;32m   1946\u001b[0m \u001b[0;34m\u001b[0m\u001b[0m\n",
      "\u001b[0;32m~/.local/lib/python3.5/site-packages/pandas/core/internals.py\u001b[0m in \u001b[0;36mget_slice\u001b[0;34m(self, slobj, axis)\u001b[0m\n\u001b[1;32m   3623\u001b[0m \u001b[0;34m\u001b[0m\u001b[0m\n\u001b[1;32m   3624\u001b[0m         \u001b[0mnew_axes\u001b[0m \u001b[0;34m=\u001b[0m \u001b[0mlist\u001b[0m\u001b[0;34m(\u001b[0m\u001b[0mself\u001b[0m\u001b[0;34m.\u001b[0m\u001b[0maxes\u001b[0m\u001b[0;34m)\u001b[0m\u001b[0;34m\u001b[0m\u001b[0m\n\u001b[0;32m-> 3625\u001b[0;31m         \u001b[0mnew_axes\u001b[0m\u001b[0;34m[\u001b[0m\u001b[0maxis\u001b[0m\u001b[0;34m]\u001b[0m \u001b[0;34m=\u001b[0m \u001b[0mnew_axes\u001b[0m\u001b[0;34m[\u001b[0m\u001b[0maxis\u001b[0m\u001b[0;34m]\u001b[0m\u001b[0;34m[\u001b[0m\u001b[0mslobj\u001b[0m\u001b[0;34m]\u001b[0m\u001b[0;34m\u001b[0m\u001b[0m\n\u001b[0m\u001b[1;32m   3626\u001b[0m \u001b[0;34m\u001b[0m\u001b[0m\n\u001b[1;32m   3627\u001b[0m         bm = self.__class__(new_blocks, new_axes, do_integrity_check=False,\n",
      "\u001b[0;32m~/.local/lib/python3.5/site-packages/pandas/core/indexes/range.py\u001b[0m in \u001b[0;36m__getitem__\u001b[0;34m(self, key)\u001b[0m\n\u001b[1;32m    500\u001b[0m             \u001b[0;31m# super routines if we don't have integers\u001b[0m\u001b[0;34m\u001b[0m\u001b[0;34m\u001b[0m\u001b[0m\n\u001b[1;32m    501\u001b[0m \u001b[0;34m\u001b[0m\u001b[0m\n\u001b[0;32m--> 502\u001b[0;31m             \u001b[0ml\u001b[0m \u001b[0;34m=\u001b[0m \u001b[0mlen\u001b[0m\u001b[0;34m(\u001b[0m\u001b[0mself\u001b[0m\u001b[0;34m)\u001b[0m\u001b[0;34m\u001b[0m\u001b[0m\n\u001b[0m\u001b[1;32m    503\u001b[0m \u001b[0;34m\u001b[0m\u001b[0m\n\u001b[1;32m    504\u001b[0m             \u001b[0;31m# complete missing slice information\u001b[0m\u001b[0;34m\u001b[0m\u001b[0;34m\u001b[0m\u001b[0m\n",
      "\u001b[0;32m~/.local/lib/python3.5/site-packages/pandas/core/indexes/range.py\u001b[0m in \u001b[0;36m__len__\u001b[0;34m(self)\u001b[0m\n\u001b[1;32m    471\u001b[0m         \u001b[0;32mreturn\u001b[0m \u001b[0mthe\u001b[0m \u001b[0mlength\u001b[0m \u001b[0mof\u001b[0m \u001b[0mthe\u001b[0m \u001b[0mRangeIndex\u001b[0m\u001b[0;34m\u001b[0m\u001b[0m\n\u001b[1;32m    472\u001b[0m         \"\"\"\n\u001b[0;32m--> 473\u001b[0;31m         \u001b[0;32mreturn\u001b[0m \u001b[0mmax\u001b[0m\u001b[0;34m(\u001b[0m\u001b[0;36m0\u001b[0m\u001b[0;34m,\u001b[0m \u001b[0;34m-\u001b[0m\u001b[0;34m(\u001b[0m\u001b[0;34m-\u001b[0m\u001b[0;34m(\u001b[0m\u001b[0mself\u001b[0m\u001b[0;34m.\u001b[0m\u001b[0m_stop\u001b[0m \u001b[0;34m-\u001b[0m \u001b[0mself\u001b[0m\u001b[0;34m.\u001b[0m\u001b[0m_start\u001b[0m\u001b[0;34m)\u001b[0m \u001b[0;34m//\u001b[0m \u001b[0mself\u001b[0m\u001b[0;34m.\u001b[0m\u001b[0m_step\u001b[0m\u001b[0;34m)\u001b[0m\u001b[0;34m)\u001b[0m\u001b[0;34m\u001b[0m\u001b[0m\n\u001b[0m\u001b[1;32m    474\u001b[0m \u001b[0;34m\u001b[0m\u001b[0m\n\u001b[1;32m    475\u001b[0m     \u001b[0;34m@\u001b[0m\u001b[0mproperty\u001b[0m\u001b[0;34m\u001b[0m\u001b[0m\n",
      "\u001b[0;31mKeyboardInterrupt\u001b[0m: "
     ]
    }
   ],
   "source": [
    "feature_set = []\n",
    "current_best_SMAPE = 1\n",
    "\n",
    "while len(feature_set) < len(all_features):\n",
    "    performance_with_new_feature = dict()\n",
    "    for feature in all_features:\n",
    "        if feature not in feature_set:\n",
    "            to_use = feature_set + [feature]\n",
    "            W, b = train_with_window_size(1, features=to_use, loss_func='RMSE_log_price', verbose=False)\n",
    "            performance_with_new_feature[feature] = validate_with_window_size(1, to_use, W, b, verbose=False)\n",
    "        print(performance_with_new_feature)\n",
    "    if min(performance_with_new_feature.values()) > current_best_SMAPE:\n",
    "        print('Feature selection stopped.')\n",
    "        print(feature_set)\n",
    "        break\n",
    "    feature_set.append(min(performance_with_new_feature, key=performance_with_new_feature.get))\n",
    "            \n",
    "        "
   ]
  },
  {
   "cell_type": "code",
   "execution_count": 59,
   "metadata": {},
   "outputs": [
    {
     "data": {
      "text/plain": [
       "0.06869539390780695"
      ]
     },
     "execution_count": 59,
     "metadata": {},
     "output_type": "execute_result"
    }
   ],
   "source": []
  },
  {
   "cell_type": "code",
   "execution_count": 170,
   "metadata": {
    "scrolled": true
   },
   "outputs": [
    {
     "data": {
      "text/plain": [
       "[('BTC_weighted_mean', 0.037275934724246264),\n",
       " ('BTC_mean', 0.04148287179743869),\n",
       " ('BTC_high', 0.0476803808079486),\n",
       " ('ETH_weighted_mean', 0.2859962614658656),\n",
       " ('ETH_mean', 0.2883615221118441),\n",
       " ('ETH_high', 0.2958137088587737),\n",
       " ('ETH_low', 0.36885684993752876),\n",
       " ('BTC_volume', 0.5053290892216526),\n",
       " ('ETH_volume', 0.7446427871700374),\n",
       " ('BTC_low', 1.9532046230981701),\n",
       " ('ETH_percent_change', 1.9942434948525865),\n",
       " ('BTC_percent_change', 1.9943317156315155),\n",
       " ('LTC_volume', 1.9999999639650992)]"
      ]
     },
     "execution_count": 170,
     "metadata": {},
     "output_type": "execute_result"
    }
   ],
   "source": [
    "clean_dict = {k: performance_with_new_feature[k] for k in performance_with_new_feature if not math.isnan(performance_with_new_feature[k])}\n",
    "import operator\n",
    "sorted(clean_dict.items(), key=operator.itemgetter(1))"
   ]
  },
  {
   "cell_type": "code",
   "execution_count": 64,
   "metadata": {},
   "outputs": [
    {
     "data": {
      "text/plain": [
       "['BTC_weighted_mean',\n",
       " 'BTC_percent_change',\n",
       " 'ETH_percent_change',\n",
       " 'BTC_volume',\n",
       " 'LTC_high',\n",
       " 'LTC_mean',\n",
       " 'LTC_percent_change',\n",
       " 'ETH_mean',\n",
       " 'ETH_high',\n",
       " 'LTC_low']"
      ]
     },
     "execution_count": 64,
     "metadata": {},
     "output_type": "execute_result"
    }
   ],
   "source": [
    "feature_set"
   ]
  }
 ],
 "metadata": {
  "kernelspec": {
   "display_name": "Python 3",
   "language": "python",
   "name": "python3"
  },
  "language_info": {
   "codemirror_mode": {
    "name": "ipython",
    "version": 3
   },
   "file_extension": ".py",
   "mimetype": "text/x-python",
   "name": "python",
   "nbconvert_exporter": "python",
   "pygments_lexer": "ipython3",
   "version": "3.5.2"
  }
 },
 "nbformat": 4,
 "nbformat_minor": 2
}
