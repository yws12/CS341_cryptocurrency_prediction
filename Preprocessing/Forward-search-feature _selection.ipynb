{
 "cells": [
  {
   "cell_type": "code",
   "execution_count": 113,
   "metadata": {},
   "outputs": [],
   "source": [
    "import pandas as pd\n",
    "import numpy as np\n",
    "from matplotlib import pyplot as plt\n",
    "import random\n",
    "import math"
   ]
  },
  {
   "cell_type": "code",
   "execution_count": 155,
   "metadata": {},
   "outputs": [],
   "source": [
    "df = pd.read_pickle('df_daily.pickle')"
   ]
  },
  {
   "cell_type": "code",
   "execution_count": 3,
   "metadata": {},
   "outputs": [
    {
     "data": {
      "text/html": [
       "<div>\n",
       "<style scoped>\n",
       "    .dataframe tbody tr th:only-of-type {\n",
       "        vertical-align: middle;\n",
       "    }\n",
       "\n",
       "    .dataframe tbody tr th {\n",
       "        vertical-align: top;\n",
       "    }\n",
       "\n",
       "    .dataframe thead th {\n",
       "        text-align: right;\n",
       "    }\n",
       "</style>\n",
       "<table border=\"1\" class=\"dataframe\">\n",
       "  <thead>\n",
       "    <tr style=\"text-align: right;\">\n",
       "      <th></th>\n",
       "      <th>BTC_high</th>\n",
       "      <th>BTC_low</th>\n",
       "      <th>BTC_volume</th>\n",
       "      <th>BTC_mean</th>\n",
       "      <th>BTC_weighted_mean</th>\n",
       "      <th>BTC_percent_change</th>\n",
       "      <th>ETH_high</th>\n",
       "      <th>ETH_low</th>\n",
       "      <th>ETH_volume</th>\n",
       "      <th>ETH_mean</th>\n",
       "      <th>ETH_weighted_mean</th>\n",
       "      <th>ETH_percent_change</th>\n",
       "      <th>LTC_high</th>\n",
       "      <th>LTC_low</th>\n",
       "      <th>LTC_volume</th>\n",
       "      <th>LTC_mean</th>\n",
       "      <th>LTC_weighted_mean</th>\n",
       "      <th>LTC_percent_change</th>\n",
       "    </tr>\n",
       "    <tr>\n",
       "      <th>time</th>\n",
       "      <th></th>\n",
       "      <th></th>\n",
       "      <th></th>\n",
       "      <th></th>\n",
       "      <th></th>\n",
       "      <th></th>\n",
       "      <th></th>\n",
       "      <th></th>\n",
       "      <th></th>\n",
       "      <th></th>\n",
       "      <th></th>\n",
       "      <th></th>\n",
       "      <th></th>\n",
       "      <th></th>\n",
       "      <th></th>\n",
       "      <th></th>\n",
       "      <th></th>\n",
       "      <th></th>\n",
       "    </tr>\n",
       "  </thead>\n",
       "  <tbody>\n",
       "    <tr>\n",
       "      <th>2016-01-01</th>\n",
       "      <td>437.15</td>\n",
       "      <td>427.92</td>\n",
       "      <td>3863.277451</td>\n",
       "      <td>433.287069</td>\n",
       "      <td>433.460852</td>\n",
       "      <td>NaN</td>\n",
       "      <td>NaN</td>\n",
       "      <td>NaN</td>\n",
       "      <td>NaN</td>\n",
       "      <td>NaN</td>\n",
       "      <td>NaN</td>\n",
       "      <td>NaN</td>\n",
       "      <td>NaN</td>\n",
       "      <td>NaN</td>\n",
       "      <td>NaN</td>\n",
       "      <td>NaN</td>\n",
       "      <td>NaN</td>\n",
       "      <td>NaN</td>\n",
       "    </tr>\n",
       "    <tr>\n",
       "      <th>2016-01-02</th>\n",
       "      <td>437.56</td>\n",
       "      <td>432.41</td>\n",
       "      <td>3276.709621</td>\n",
       "      <td>435.075572</td>\n",
       "      <td>435.297847</td>\n",
       "      <td>0.004128</td>\n",
       "      <td>NaN</td>\n",
       "      <td>NaN</td>\n",
       "      <td>NaN</td>\n",
       "      <td>NaN</td>\n",
       "      <td>NaN</td>\n",
       "      <td>NaN</td>\n",
       "      <td>NaN</td>\n",
       "      <td>NaN</td>\n",
       "      <td>NaN</td>\n",
       "      <td>NaN</td>\n",
       "      <td>NaN</td>\n",
       "      <td>NaN</td>\n",
       "    </tr>\n",
       "    <tr>\n",
       "      <th>2016-01-03</th>\n",
       "      <td>435.75</td>\n",
       "      <td>425.02</td>\n",
       "      <td>3904.325318</td>\n",
       "      <td>431.324176</td>\n",
       "      <td>430.707753</td>\n",
       "      <td>-0.008622</td>\n",
       "      <td>NaN</td>\n",
       "      <td>NaN</td>\n",
       "      <td>NaN</td>\n",
       "      <td>NaN</td>\n",
       "      <td>NaN</td>\n",
       "      <td>NaN</td>\n",
       "      <td>NaN</td>\n",
       "      <td>NaN</td>\n",
       "      <td>NaN</td>\n",
       "      <td>NaN</td>\n",
       "      <td>NaN</td>\n",
       "      <td>NaN</td>\n",
       "    </tr>\n",
       "    <tr>\n",
       "      <th>2016-01-04</th>\n",
       "      <td>435.79</td>\n",
       "      <td>431.37</td>\n",
       "      <td>5894.445723</td>\n",
       "      <td>433.615547</td>\n",
       "      <td>433.989539</td>\n",
       "      <td>0.005312</td>\n",
       "      <td>NaN</td>\n",
       "      <td>NaN</td>\n",
       "      <td>NaN</td>\n",
       "      <td>NaN</td>\n",
       "      <td>NaN</td>\n",
       "      <td>NaN</td>\n",
       "      <td>NaN</td>\n",
       "      <td>NaN</td>\n",
       "      <td>NaN</td>\n",
       "      <td>NaN</td>\n",
       "      <td>NaN</td>\n",
       "      <td>NaN</td>\n",
       "    </tr>\n",
       "    <tr>\n",
       "      <th>2016-01-05</th>\n",
       "      <td>435.64</td>\n",
       "      <td>430.00</td>\n",
       "      <td>5150.049476</td>\n",
       "      <td>433.375370</td>\n",
       "      <td>433.341902</td>\n",
       "      <td>-0.000554</td>\n",
       "      <td>NaN</td>\n",
       "      <td>NaN</td>\n",
       "      <td>NaN</td>\n",
       "      <td>NaN</td>\n",
       "      <td>NaN</td>\n",
       "      <td>NaN</td>\n",
       "      <td>NaN</td>\n",
       "      <td>NaN</td>\n",
       "      <td>NaN</td>\n",
       "      <td>NaN</td>\n",
       "      <td>NaN</td>\n",
       "      <td>NaN</td>\n",
       "    </tr>\n",
       "  </tbody>\n",
       "</table>\n",
       "</div>"
      ],
      "text/plain": [
       "            BTC_high  BTC_low   BTC_volume    BTC_mean  BTC_weighted_mean  \\\n",
       "time                                                                        \n",
       "2016-01-01    437.15   427.92  3863.277451  433.287069         433.460852   \n",
       "2016-01-02    437.56   432.41  3276.709621  435.075572         435.297847   \n",
       "2016-01-03    435.75   425.02  3904.325318  431.324176         430.707753   \n",
       "2016-01-04    435.79   431.37  5894.445723  433.615547         433.989539   \n",
       "2016-01-05    435.64   430.00  5150.049476  433.375370         433.341902   \n",
       "\n",
       "            BTC_percent_change  ETH_high  ETH_low  ETH_volume  ETH_mean  \\\n",
       "time                                                                      \n",
       "2016-01-01                 NaN       NaN      NaN         NaN       NaN   \n",
       "2016-01-02            0.004128       NaN      NaN         NaN       NaN   \n",
       "2016-01-03           -0.008622       NaN      NaN         NaN       NaN   \n",
       "2016-01-04            0.005312       NaN      NaN         NaN       NaN   \n",
       "2016-01-05           -0.000554       NaN      NaN         NaN       NaN   \n",
       "\n",
       "            ETH_weighted_mean  ETH_percent_change  LTC_high  LTC_low  \\\n",
       "time                                                                   \n",
       "2016-01-01                NaN                 NaN       NaN      NaN   \n",
       "2016-01-02                NaN                 NaN       NaN      NaN   \n",
       "2016-01-03                NaN                 NaN       NaN      NaN   \n",
       "2016-01-04                NaN                 NaN       NaN      NaN   \n",
       "2016-01-05                NaN                 NaN       NaN      NaN   \n",
       "\n",
       "            LTC_volume  LTC_mean  LTC_weighted_mean  LTC_percent_change  \n",
       "time                                                                     \n",
       "2016-01-01         NaN       NaN                NaN                 NaN  \n",
       "2016-01-02         NaN       NaN                NaN                 NaN  \n",
       "2016-01-03         NaN       NaN                NaN                 NaN  \n",
       "2016-01-04         NaN       NaN                NaN                 NaN  \n",
       "2016-01-05         NaN       NaN                NaN                 NaN  "
      ]
     },
     "execution_count": 3,
     "metadata": {},
     "output_type": "execute_result"
    }
   ],
   "source": [
    "df.head()"
   ]
  },
  {
   "cell_type": "code",
   "execution_count": 6,
   "metadata": {},
   "outputs": [
    {
     "data": {
      "text/plain": [
       "Timestamp('2016-05-18 00:00:00', freq='D')"
      ]
     },
     "execution_count": 6,
     "metadata": {},
     "output_type": "execute_result"
    }
   ],
   "source": [
    "df['ETH_high'].first_valid_index()"
   ]
  },
  {
   "cell_type": "code",
   "execution_count": 7,
   "metadata": {},
   "outputs": [
    {
     "data": {
      "text/plain": [
       "Timestamp('2016-08-17 00:00:00', freq='D')"
      ]
     },
     "execution_count": 7,
     "metadata": {},
     "output_type": "execute_result"
    }
   ],
   "source": [
    "df['LTC_high'].first_valid_index()"
   ]
  },
  {
   "cell_type": "code",
   "execution_count": 9,
   "metadata": {},
   "outputs": [],
   "source": [
    "from datetime import date\n",
    "train_start_date = date(2016,8,17)\n",
    "validation_end_date = date(2018,4,3)"
   ]
  },
  {
   "cell_type": "code",
   "execution_count": 143,
   "metadata": {},
   "outputs": [
    {
     "name": "stdout",
     "output_type": "stream",
     "text": [
      "594\n"
     ]
    }
   ],
   "source": [
    "total_days = (validation_end_date - train_start_date).days + 1 - 1 # first day has no percent change, so -1\n",
    "print(total_days)"
   ]
  },
  {
   "cell_type": "code",
   "execution_count": 131,
   "metadata": {},
   "outputs": [
    {
     "name": "stdout",
     "output_type": "stream",
     "text": [
      "230\n"
     ]
    }
   ],
   "source": [
    "num_days_unused = (train_start_date - date(2016,1,1)).days + 1 # first day has no percent change, so +1\n",
    "print(num_days_unused)"
   ]
  },
  {
   "cell_type": "code",
   "execution_count": 144,
   "metadata": {},
   "outputs": [
    {
     "name": "stdout",
     "output_type": "stream",
     "text": [
      "415 179\n"
     ]
    }
   ],
   "source": [
    "num_days_train = math.floor(total_days*0.7)\n",
    "num_days_validate = total_days - num_days_train\n",
    "print(num_days_train, num_days_validate)"
   ]
  },
  {
   "cell_type": "code",
   "execution_count": 156,
   "metadata": {},
   "outputs": [],
   "source": [
    "df = df.reset_index()"
   ]
  },
  {
   "cell_type": "code",
   "execution_count": 157,
   "metadata": {},
   "outputs": [],
   "source": [
    "# # weird normalization\n",
    "# for feature_name in df.columns:\n",
    "#     max_value = df[feature_name].max()\n",
    "#     min_value = df[feature_name].min()\n",
    "#     df[feature_name] = (df[feature_name] - min_value) * 100000000 / (max_value - min_value)\n",
    "\n",
    "df['BTC_percent_change'] = (df['BTC_percent_change'] - df['BTC_percent_change'].min())\n",
    "df['LTC_percent_change'] = (df['LTC_percent_change'] - df['LTC_percent_change'].min())\n",
    "df['ETH_percent_change'] = (df['ETH_percent_change'] - df['ETH_percent_change'].min())\n",
    "df['ETH_volume'] = df['ETH_volume']/10\n",
    "# df['LTC_low'] = df['LTC_low'] * 1e3\n",
    "# df['LTC_high'] = df['LTC_high'] * 1e3\n",
    "# df['LTC_mean'] = df['LTC_mean'] * 1e3\n",
    "# df['LTC_weighted_mean'] = df['LTC_weighted_mean'] * 1e3"
   ]
  },
  {
   "cell_type": "code",
   "execution_count": 134,
   "metadata": {},
   "outputs": [
    {
     "data": {
      "text/plain": [
       "index                                 230\n",
       "time                  2016-08-18 00:00:00\n",
       "BTC_high                           576.99\n",
       "BTC_low                               573\n",
       "BTC_volume                        3964.99\n",
       "BTC_mean                          575.137\n",
       "BTC_weighted_mean                 575.245\n",
       "BTC_percent_change               0.145387\n",
       "ETH_high                            11.06\n",
       "ETH_low                             10.76\n",
       "ETH_volume                        35781.2\n",
       "ETH_mean                          10.9106\n",
       "ETH_weighted_mean                 10.9039\n",
       "ETH_percent_change               0.238499\n",
       "LTC_high                             3700\n",
       "LTC_low                              3620\n",
       "LTC_volume                              1\n",
       "LTC_mean                             3620\n",
       "LTC_weighted_mean                    3620\n",
       "LTC_percent_change               0.174819\n",
       "Name: 230, dtype: object"
      ]
     },
     "execution_count": 134,
     "metadata": {},
     "output_type": "execute_result"
    }
   ],
   "source": [
    "df.loc[num_days_unused]"
   ]
  },
  {
   "cell_type": "code",
   "execution_count": 135,
   "metadata": {},
   "outputs": [],
   "source": [
    "def SMAPE(y, y_pred):\n",
    "    if len(y) != len(y_pred):\n",
    "        raise ValueError('Length of prediction array is not equal to length of y array.')\n",
    "    return np.mean(np.abs(y-y_pred)*2/(np.abs(y)+np.abs(y_pred)))\n",
    "\n",
    "def normalized_RMSE(y, y_pred):\n",
    "    if len(y) != len(y_pred):\n",
    "        raise ValueError('Length of prediction array is not equal to length of y array.')\n",
    "    return np.sqrt(sum((y_pred/y-1)**2)/len(y))\n",
    "\n",
    "def RMSE_log_price(y, y_pred):\n",
    "    if len(y) != len(y_pred):\n",
    "        raise ValueError('Length of prediction array is not equal to length of y array.')\n",
    "    return np.sqrt(sum((np.log(y_pred)-np.log(y))**2)/len(y))"
   ]
  },
  {
   "cell_type": "code",
   "execution_count": 158,
   "metadata": {},
   "outputs": [],
   "source": [
    "# fixed-window linear regression\n",
    "def train_with_window_size(window_size, features, loss_func='normalized_RMSE', verbose=True):\n",
    "    if loss_func != 'normalized_RMSE' and loss_func != 'RMSE_log_price':\n",
    "        raise ValueError('loss_func must be either normalized_RMSE or RMSE_log_price')\n",
    "                 \n",
    "    y = df.loc[num_days_unused+window_size:num_days_unused+num_days_train-1, 'BTC_mean']\n",
    "    W = (np.random.rand(window_size*len(features)) + np.ones(window_size*len(features)))/window_size # initialize as weighted average\n",
    "    W_old = np.ones(window_size*len(features))\n",
    "    b = 0\n",
    "    if loss_func=='RMSE_log_price':\n",
    "        learning_rate = 1e-3\n",
    "    else:\n",
    "        learning_rate = 1e-7\n",
    "    error_list = []\n",
    "\n",
    "    timestep_random_perm = [x for x in range(num_days_unused, num_days_unused + num_days_train - window_size)]\n",
    "    timestep_random_perm = random.sample(timestep_random_perm, len(timestep_random_perm))\n",
    "    iteration = 0\n",
    "    batch_len = 0\n",
    "    gradient = 0\n",
    "    while iteration < 15000 and np.abs(W_old.dot(W_old.T) - W.dot(W.T))/(W_old.dot(W_old.T)) > 0.00001:\n",
    "        for timestep in timestep_random_perm:\n",
    "            iteration += 1\n",
    "    #         print('iteration ',iteration)\n",
    "            X = df.loc[timestep:timestep+window_size-1, features].values.flatten()\n",
    "#             if math.isnan(X):\n",
    "#                 raise ValueError('Input has nan')\n",
    "        \n",
    "            if batch_len == 10:\n",
    "                batch_len = 1\n",
    "                W_old = W\n",
    "                W = W - learning_rate * gradient * X\n",
    "                b = b - learning_rate * gradient\n",
    "                if loss_func == 'normalized_RMSE':\n",
    "                    gradient = (W.dot(X.T) + b)*1.0/price[timestep+window_size] - 1\n",
    "                else:\n",
    "                    gradient = np.log((W.dot(X.T)+b)/(df.loc[timestep+window_size, 'BTC_mean']))/(W.dot(X.T)+b)\n",
    "    #             print(gradient, W, b)\n",
    "            else:\n",
    "                batch_len += 1\n",
    "                if loss_func == 'normalized_RMSE':\n",
    "                    gradient += (W.dot(X.T) + b)*1.0/price[timestep+window_size] - 1\n",
    "                else:\n",
    "                    gradient += np.log((W.dot(X.T)+b)/(df.loc[timestep+window_size, 'BTC_mean']))/(W.dot(X.T)+b)\n",
    "\n",
    "#             if iteration % 20 == 0:\n",
    "#                 print('iteration', iteration)\n",
    "#                 y_pred = []\n",
    "#                 for t in range(num_days_unused, num_days_unused + num_days_train - window_size):\n",
    "#                     X = df.loc[t:t+window_size-1, features].values.flatten()\n",
    "#                     y_pred.append(W.dot(X.T) + b)\n",
    "#                 if loss_func == 'normalized_RMSE':\n",
    "#                     error = normalized_RMSE(y, y_pred)\n",
    "#                 else:\n",
    "#                     error = RMSE_log_price(y, y_pred)\n",
    "#                 error_list.append(error)\n",
    "    \n",
    "    if verbose:\n",
    "        plt.figure()\n",
    "        plt.plot([x*20 for x in range(len(error_list))], error_list)\n",
    "        plt.title('learining curve')\n",
    "        plt.ylabel('training loss')\n",
    "        plt.xlabel('iteration')\n",
    "        print('Training loss:',error_list[-1])\n",
    "        y_pred = []\n",
    "        for t in range(num_days_unused, num_days_unused + num_days_train - window_size):\n",
    "            X = df.loc[t:t+window_size-1, features].values.flatten()\n",
    "            y_pred.append(W.dot(X.T) + b)\n",
    "        print('Training SMAPE:',SMAPE(y, y_pred))\n",
    "\n",
    "        print(W.dot(W.T))\n",
    "        print(sum(W)) # should be close to 1 because it's essentially weighted average\n",
    "        print('W=',W)\n",
    "        print('b=',b)\n",
    "    return W, b"
   ]
  },
  {
   "cell_type": "code",
   "execution_count": 139,
   "metadata": {},
   "outputs": [],
   "source": [
    "# validate\n",
    "def validate_with_window_size(window_size, features, W, b, verbose=True):\n",
    "    y = df.loc[num_days_unused+num_days_train:num_days_unused+num_days_train+num_days_validate-1, 'BTC_mean']\n",
    "    y_pred = []\n",
    "\n",
    "    for timestep in range(num_days_unused+num_days_train-window_size, \\\n",
    "                          num_days_unused+num_days_train+num_days_validate-window_size):\n",
    "        X = df.loc[timestep:timestep+window_size-1, features].values.flatten()\n",
    "        y_pred.append(W.dot(X.T) + b)\n",
    "\n",
    "    validation_SMAPE = SMAPE(y, y_pred)\n",
    "    if verbose:\n",
    "        print('Validation SMAPE:', validation_SMAPE)\n",
    "    \n",
    "    return validation_SMAPE"
   ]
  },
  {
   "cell_type": "code",
   "execution_count": null,
   "metadata": {},
   "outputs": [],
   "source": [
    "# dic = {0:'BTC_high',1:'BTC_low',2:'BTC_volume',3:'BTC_mean',4:'BTC_weighted_mean',5:'BTC_percent_change',\\\n",
    "#        6:'ETH_high',7:'ETH_low',8:'ETH_volume',9:'ETH_mean',10:'ETH_weighted_mean',11:'ETH_percent_change',\\\n",
    "#        12:'LTC_high',13:'LTC_low',14:'LTC_volume' \tLTC_mean \tLTC_weighted_mean \tLTC_percent_change}"
   ]
  },
  {
   "cell_type": "code",
   "execution_count": 30,
   "metadata": {},
   "outputs": [],
   "source": [
    "all_features = list(df.columns.values)"
   ]
  },
  {
   "cell_type": "code",
   "execution_count": 159,
   "metadata": {},
   "outputs": [
    {
     "name": "stdout",
     "output_type": "stream",
     "text": [
      "179 179\n",
      "{'BTC_high': 0.0476803808079486}\n",
      "179 179\n",
      "{'BTC_low': 1.9532046230981701, 'BTC_high': 0.0476803808079486}\n",
      "179 179\n",
      "{'BTC_low': 1.9532046230981701, 'BTC_high': 0.0476803808079486, 'BTC_volume': 0.5053290892216526}\n",
      "179 179\n",
      "{'BTC_mean': 0.04148287179743869, 'BTC_low': 1.9532046230981701, 'BTC_high': 0.0476803808079486, 'BTC_volume': 0.5053290892216526}\n",
      "179 179\n",
      "{'BTC_weighted_mean': 0.037275934724246264, 'BTC_mean': 0.04148287179743869, 'BTC_low': 1.9532046230981701, 'BTC_high': 0.0476803808079486, 'BTC_volume': 0.5053290892216526}\n",
      "179 179\n",
      "{'BTC_mean': 0.04148287179743869, 'BTC_high': 0.0476803808079486, 'BTC_volume': 0.5053290892216526, 'BTC_percent_change': 1.9943317156315155, 'BTC_low': 1.9532046230981701, 'BTC_weighted_mean': 0.037275934724246264}\n",
      "179 179\n",
      "{'BTC_mean': 0.04148287179743869, 'BTC_high': 0.0476803808079486, 'ETH_high': 0.2958137088587737, 'BTC_volume': 0.5053290892216526, 'BTC_percent_change': 1.9943317156315155, 'BTC_low': 1.9532046230981701, 'BTC_weighted_mean': 0.037275934724246264}\n",
      "179 179\n",
      "{'BTC_mean': 0.04148287179743869, 'BTC_high': 0.0476803808079486, 'ETH_high': 0.2958137088587737, 'ETH_low': 0.36885684993752876, 'BTC_volume': 0.5053290892216526, 'BTC_percent_change': 1.9943317156315155, 'BTC_low': 1.9532046230981701, 'BTC_weighted_mean': 0.037275934724246264}\n",
      "179 179\n",
      "{'BTC_mean': 0.04148287179743869, 'ETH_volume': 0.7446427871700374, 'BTC_high': 0.0476803808079486, 'ETH_high': 0.2958137088587737, 'ETH_low': 0.36885684993752876, 'BTC_volume': 0.5053290892216526, 'BTC_percent_change': 1.9943317156315155, 'BTC_low': 1.9532046230981701, 'BTC_weighted_mean': 0.037275934724246264}\n",
      "179 179\n",
      "{'BTC_mean': 0.04148287179743869, 'ETH_volume': 0.7446427871700374, 'BTC_high': 0.0476803808079486, 'ETH_high': 0.2958137088587737, 'ETH_low': 0.36885684993752876, 'BTC_volume': 0.5053290892216526, 'BTC_percent_change': 1.9943317156315155, 'BTC_low': 1.9532046230981701, 'ETH_mean': 0.2883615221118441, 'BTC_weighted_mean': 0.037275934724246264}\n",
      "179 179\n",
      "{'BTC_mean': 0.04148287179743869, 'ETH_volume': 0.7446427871700374, 'BTC_high': 0.0476803808079486, 'ETH_high': 0.2958137088587737, 'ETH_weighted_mean': 0.2859962614658656, 'ETH_low': 0.36885684993752876, 'BTC_volume': 0.5053290892216526, 'BTC_percent_change': 1.9943317156315155, 'BTC_low': 1.9532046230981701, 'ETH_mean': 0.2883615221118441, 'BTC_weighted_mean': 0.037275934724246264}\n",
      "179 179\n",
      "{'BTC_mean': 0.04148287179743869, 'ETH_volume': 0.7446427871700374, 'BTC_high': 0.0476803808079486, 'ETH_high': 0.2958137088587737, 'BTC_volume': 0.5053290892216526, 'ETH_percent_change': 1.9942434948525865, 'BTC_percent_change': 1.9943317156315155, 'BTC_low': 1.9532046230981701, 'ETH_weighted_mean': 0.2859962614658656, 'BTC_weighted_mean': 0.037275934724246264, 'ETH_mean': 0.2883615221118441, 'ETH_low': 0.36885684993752876}\n",
      "179 179\n",
      "{'BTC_mean': 0.04148287179743869, 'ETH_volume': 0.7446427871700374, 'BTC_high': 0.0476803808079486, 'ETH_high': 0.2958137088587737, 'BTC_volume': 0.5053290892216526, 'ETH_percent_change': 1.9942434948525865, 'BTC_percent_change': 1.9943317156315155, 'BTC_low': 1.9532046230981701, 'LTC_high': nan, 'ETH_weighted_mean': 0.2859962614658656, 'BTC_weighted_mean': 0.037275934724246264, 'ETH_mean': 0.2883615221118441, 'ETH_low': 0.36885684993752876}\n",
      "179 179\n",
      "{'BTC_mean': 0.04148287179743869, 'ETH_volume': 0.7446427871700374, 'BTC_high': 0.0476803808079486, 'ETH_high': 0.2958137088587737, 'BTC_volume': 0.5053290892216526, 'ETH_percent_change': 1.9942434948525865, 'BTC_percent_change': 1.9943317156315155, 'BTC_low': 1.9532046230981701, 'LTC_high': nan, 'ETH_weighted_mean': 0.2859962614658656, 'BTC_weighted_mean': 0.037275934724246264, 'ETH_mean': 0.2883615221118441, 'LTC_low': nan, 'ETH_low': 0.36885684993752876}\n",
      "179 179\n",
      "{'BTC_mean': 0.04148287179743869, 'ETH_volume': 0.7446427871700374, 'BTC_high': 0.0476803808079486, 'ETH_high': 0.2958137088587737, 'BTC_volume': 0.5053290892216526, 'ETH_percent_change': 1.9942434948525865, 'BTC_percent_change': 1.9943317156315155, 'BTC_low': 1.9532046230981701, 'LTC_high': nan, 'ETH_weighted_mean': 0.2859962614658656, 'BTC_weighted_mean': 0.037275934724246264, 'ETH_mean': 0.2883615221118441, 'LTC_low': nan, 'ETH_low': 0.36885684993752876, 'LTC_volume': 1.9999999639650992}\n",
      "179 179\n",
      "{'BTC_mean': 0.04148287179743869, 'ETH_volume': 0.7446427871700374, 'BTC_high': 0.0476803808079486, 'ETH_high': 0.2958137088587737, 'LTC_mean': nan, 'BTC_volume': 0.5053290892216526, 'ETH_percent_change': 1.9942434948525865, 'BTC_percent_change': 1.9943317156315155, 'BTC_low': 1.9532046230981701, 'LTC_high': nan, 'ETH_weighted_mean': 0.2859962614658656, 'BTC_weighted_mean': 0.037275934724246264, 'ETH_mean': 0.2883615221118441, 'LTC_low': nan, 'ETH_low': 0.36885684993752876, 'LTC_volume': 1.9999999639650992}\n",
      "179 179\n",
      "{'BTC_mean': 0.04148287179743869, 'ETH_volume': 0.7446427871700374, 'BTC_high': 0.0476803808079486, 'ETH_high': 0.2958137088587737, 'LTC_mean': nan, 'BTC_volume': 0.5053290892216526, 'ETH_percent_change': 1.9942434948525865, 'BTC_percent_change': 1.9943317156315155, 'BTC_low': 1.9532046230981701, 'LTC_high': nan, 'ETH_weighted_mean': 0.2859962614658656, 'BTC_weighted_mean': 0.037275934724246264, 'ETH_mean': 0.2883615221118441, 'LTC_low': nan, 'ETH_low': 0.36885684993752876, 'LTC_volume': 1.9999999639650992, 'LTC_weighted_mean': nan}\n",
      "179 179\n",
      "{'BTC_mean': 0.04148287179743869, 'ETH_volume': 0.7446427871700374, 'BTC_high': 0.0476803808079486, 'ETH_high': 0.2958137088587737, 'LTC_mean': nan, 'BTC_volume': 0.5053290892216526, 'ETH_percent_change': 1.9942434948525865, 'BTC_percent_change': 1.9943317156315155, 'BTC_low': 1.9532046230981701, 'LTC_high': nan, 'ETH_weighted_mean': 0.2859962614658656, 'BTC_weighted_mean': 0.037275934724246264, 'ETH_mean': 0.2883615221118441, 'LTC_low': nan, 'ETH_low': 0.36885684993752876, 'LTC_volume': 1.9999999639650992, 'LTC_weighted_mean': nan, 'LTC_percent_change': nan}\n"
     ]
    }
   ],
   "source": [
    "feature_set = []\n",
    "\n",
    "while len(feature_set) < len(all_features):\n",
    "    performance_with_new_feature = dict()\n",
    "    for feature in all_features:\n",
    "        if feature not in feature_set:\n",
    "            to_use = feature_set + [feature]\n",
    "            W, b = train_with_window_size(1, features=to_use, loss_func='RMSE_log_price', verbose=False)\n",
    "            performance_with_new_feature[feature] = validate_with_window_size(1, to_use, W, b, verbose=False)\n",
    "        print(performance_with_new_feature)\n",
    "    feature_set.append(min(performance_with_new_feature, key=performance_with_new_feature.get))\n",
    "            \n",
    "        "
   ]
  },
  {
   "cell_type": "code",
   "execution_count": 170,
   "metadata": {},
   "outputs": [
    {
     "data": {
      "text/plain": [
       "[('BTC_weighted_mean', 0.037275934724246264),\n",
       " ('BTC_mean', 0.04148287179743869),\n",
       " ('BTC_high', 0.0476803808079486),\n",
       " ('ETH_weighted_mean', 0.2859962614658656),\n",
       " ('ETH_mean', 0.2883615221118441),\n",
       " ('ETH_high', 0.2958137088587737),\n",
       " ('ETH_low', 0.36885684993752876),\n",
       " ('BTC_volume', 0.5053290892216526),\n",
       " ('ETH_volume', 0.7446427871700374),\n",
       " ('BTC_low', 1.9532046230981701),\n",
       " ('ETH_percent_change', 1.9942434948525865),\n",
       " ('BTC_percent_change', 1.9943317156315155),\n",
       " ('LTC_volume', 1.9999999639650992)]"
      ]
     },
     "execution_count": 170,
     "metadata": {},
     "output_type": "execute_result"
    }
   ],
   "source": [
    "clean_dict = {k: performance_with_new_feature[k] for k in performance_with_new_feature if not math.isnan(performance_with_new_feature[k])}\n",
    "import operator\n",
    "sorted(clean_dict.items(), key=operator.itemgetter(1))"
   ]
  }
 ],
 "metadata": {
  "kernelspec": {
   "display_name": "Python 3",
   "language": "python",
   "name": "python3"
  },
  "language_info": {
   "codemirror_mode": {
    "name": "ipython",
    "version": 3
   },
   "file_extension": ".py",
   "mimetype": "text/x-python",
   "name": "python",
   "nbconvert_exporter": "python",
   "pygments_lexer": "ipython3",
   "version": "3.5.2"
  }
 },
 "nbformat": 4,
 "nbformat_minor": 2
}
